{
 "cells": [
  {
   "cell_type": "code",
   "execution_count": 1,
   "id": "initial_id",
   "metadata": {
    "collapsed": true,
    "ExecuteTime": {
     "end_time": "2024-01-11T11:13:16.561308Z",
     "start_time": "2024-01-11T11:13:15.034724Z"
    }
   },
   "outputs": [],
   "source": [
    "import torch\n",
    "import torch.nn as nn\n",
    "from sklearn.model_selection import train_test_split\n",
    "import numpy as np\n",
    "import pandas as pd\n",
    "from transformers import AutoTokenizer, AutoModel, AutoConfig\n",
    "from torch.utils.data import Dataset, DataLoader"
   ]
  },
  {
   "cell_type": "code",
   "execution_count": 2,
   "outputs": [],
   "source": [
    "def split(X, y, seed, z=None, train_size=0.7, test_size=0.3, val_size=0.2):\n",
    "    X_val = None\n",
    "    y_val = None\n",
    "    Z_train, Z_val, Z_test = None, None, None\n",
    "    if train_size is None and test_size is None:\n",
    "        raise AttributeError()\n",
    "    elif train_size is None:\n",
    "        train_size = 1. - test_size\n",
    "    X_train, X_test, y_train, y_test = train_test_split(X, y, stratify=y, random_state=seed, shuffle=True,\n",
    "                                                        train_size=train_size)\n",
    "    if z is not None:\n",
    "        Z_train, Z_test = train_test_split(z, stratify=y, random_state=seed, shuffle=True, train_size=train_size)\n",
    "    if val_size is not None:\n",
    "        if z is not None:\n",
    "            Z_train, Z_val = train_test_split(Z_train, stratify=y_train, random_state=seed, shuffle=True,\n",
    "                                              test_size=val_size)\n",
    "\n",
    "        X_train, X_val, y_train, y_val = train_test_split(X_train, y_train, stratify=y_train, random_state=seed,\n",
    "                                                          shuffle=True, test_size=val_size)\n",
    "\n",
    "    return (X_train, y_train), (X_val, y_val), (X_test, y_test), (Z_train, Z_val, Z_test)\n",
    "\n"
   ],
   "metadata": {
    "collapsed": false,
    "ExecuteTime": {
     "end_time": "2024-01-11T11:13:16.562430Z",
     "start_time": "2024-01-11T11:13:16.560047Z"
    }
   },
   "id": "eb50b307ded8b664"
  },
  {
   "cell_type": "code",
   "execution_count": 3,
   "outputs": [],
   "source": [
    "def get_dataset(\n",
    "        df: str | pd.DataFrame = 'dataset/EDOS_1M_balanced.pkl',\n",
    "        seed=0\n",
    "):\n",
    "    df = df\n",
    "    if isinstance(df, str):\n",
    "        if df.endswith('pkl'):\n",
    "            df = pd.read_pickle(df)\n",
    "        else:\n",
    "            df = pd.read_csv(df)\n",
    "    groups = []\n",
    "    labels = []\n",
    "    confidence = []\n",
    "    for name, group in df.groupby(by='eb+_emot'):\n",
    "        group = group.reset_index(drop=True)\n",
    "        groups.append(group.loc[:, 'uttr'])\n",
    "        confidence.append(group.loc[:, 'label_confidence'])\n",
    "        labels.append(group.loc[:, 'eb+_emot'])\n",
    "\n",
    "    groups = np.array(groups, dtype=str)\n",
    "    labels = np.array(labels, dtype=str)\n",
    "\n",
    "    confidence = np.array(confidence, dtype=np.float32)\n",
    "    return groups, labels, confidence\n"
   ],
   "metadata": {
    "collapsed": false,
    "ExecuteTime": {
     "end_time": "2024-01-11T11:13:16.565434Z",
     "start_time": "2024-01-11T11:13:16.563666Z"
    }
   },
   "id": "e7dc8591360ed07d"
  },
  {
   "cell_type": "code",
   "execution_count": 4,
   "outputs": [],
   "source": [
    "tokenizer = AutoTokenizer.from_pretrained(\"bert-base-uncased\")"
   ],
   "metadata": {
    "collapsed": false,
    "ExecuteTime": {
     "end_time": "2024-01-11T11:13:16.787234Z",
     "start_time": "2024-01-11T11:13:16.565847Z"
    }
   },
   "id": "3220d0df74d38f4c"
  },
  {
   "cell_type": "code",
   "execution_count": 5,
   "outputs": [],
   "source": [
    "groups, labels, confidence = get_dataset()"
   ],
   "metadata": {
    "collapsed": false,
    "ExecuteTime": {
     "end_time": "2024-01-11T11:13:17.032949Z",
     "start_time": "2024-01-11T11:13:16.787723Z"
    }
   },
   "id": "2ad6eaacbec9714e"
  },
  {
   "cell_type": "code",
   "execution_count": 6,
   "outputs": [],
   "source": [
    "\n",
    "unique = np.unique(labels.flatten())\n",
    "emotions_to_category = {key: value for key, value in zip(unique, range(len(unique)))}\n",
    "category_to_emotion = {key: value for key, value in zip(range(len(unique)), unique)}\n",
    "\n",
    "\n",
    "def label_convert(label):\n",
    "    return emotions_to_category[label]"
   ],
   "metadata": {
    "collapsed": false,
    "ExecuteTime": {
     "end_time": "2024-01-11T11:13:17.070881Z",
     "start_time": "2024-01-11T11:13:17.036723Z"
    }
   },
   "id": "14e6ad56c5716510"
  },
  {
   "cell_type": "code",
   "execution_count": 7,
   "outputs": [],
   "source": [
    "labels = np.vectorize(label_convert)(labels)"
   ],
   "metadata": {
    "collapsed": false,
    "ExecuteTime": {
     "end_time": "2024-01-11T11:13:17.116864Z",
     "start_time": "2024-01-11T11:13:17.069258Z"
    }
   },
   "id": "1262937f9fb1f3c9"
  },
  {
   "cell_type": "code",
   "execution_count": 8,
   "outputs": [],
   "source": [
    "class OurDataset(Dataset):\n",
    "    def __init__(self, X, y, z):\n",
    "        self.X = X\n",
    "        self.y = y\n",
    "        self.z = z\n",
    "\n",
    "    def __len__(self):\n",
    "        return len(self.X)\n",
    "\n",
    "    def __getitem__(self, item):\n",
    "        return self.X[item], self.y[item], self.z[item]"
   ],
   "metadata": {
    "collapsed": false,
    "ExecuteTime": {
     "end_time": "2024-01-11T11:13:17.127001Z",
     "start_time": "2024-01-11T11:13:17.120271Z"
    }
   },
   "id": "9b84c3bbd527b73c"
  },
  {
   "cell_type": "code",
   "execution_count": 9,
   "outputs": [
    {
     "name": "stdout",
     "output_type": "stream",
     "text": [
      "(196950,)\n",
      "(105510,)\n",
      "(49238,)\n"
     ]
    }
   ],
   "source": [
    "seed = 0\n",
    "(X_train, y_train), (X_val, y_val), (X_test, y_test), (Z_train, Z_val, Z_test) = split(groups.flatten(),\n",
    "                                                                                       labels.flatten(), seed,\n",
    "                                                                                       confidence.flatten())\n",
    "print(X_train.shape)\n",
    "print(X_test.shape)\n",
    "print(X_val.shape)"
   ],
   "metadata": {
    "collapsed": false,
    "ExecuteTime": {
     "end_time": "2024-01-11T11:13:17.753908Z",
     "start_time": "2024-01-11T11:13:17.213684Z"
    }
   },
   "id": "4e8052b972245e00"
  },
  {
   "cell_type": "code",
   "execution_count": 10,
   "outputs": [],
   "source": [
    "train_dataset = OurDataset(X_train, y_train, Z_train)\n",
    "test_dataset = OurDataset(X_test, y_test, Z_test)\n",
    "val_dataset = OurDataset(X_val, y_val, Z_val)"
   ],
   "metadata": {
    "collapsed": false,
    "ExecuteTime": {
     "end_time": "2024-01-11T11:13:17.755569Z",
     "start_time": "2024-01-11T11:13:17.754054Z"
    }
   },
   "id": "c0b30139629325f0"
  },
  {
   "cell_type": "code",
   "execution_count": 11,
   "outputs": [],
   "source": [
    "def collate_fn(batch):\n",
    "    global tokenizer\n",
    "    x, y, z = [], [], []\n",
    "    for x1, y1, z1 in batch:\n",
    "        x.append(x1)\n",
    "        y.append(y1)\n",
    "        z.append(z1)\n",
    "    batch = tokenizer(x, padding=True, return_tensors='pt')\n",
    "    y = torch.as_tensor(y)\n",
    "    z = torch.as_tensor(z, dtype=torch.float32)\n",
    "    return batch, y, z\n",
    "\n",
    "    # print(x)"
   ],
   "metadata": {
    "collapsed": false,
    "ExecuteTime": {
     "end_time": "2024-01-11T11:13:17.762537Z",
     "start_time": "2024-01-11T11:13:17.756879Z"
    }
   },
   "id": "34493289a5cb036d"
  },
  {
   "cell_type": "code",
   "execution_count": 12,
   "outputs": [],
   "source": [
    "generator = torch.Generator().manual_seed(0)\n",
    "sampling_train = torch.utils.data.RandomSampler(train_dataset, num_samples=1000, replacement=False, generator=generator)\n",
    "sampling_test = torch.utils.data.RandomSampler(test_dataset, num_samples=1000, replacement=False, generator=generator)\n",
    "sampling_val = torch.utils.data.RandomSampler(val_dataset, num_samples=1000, replacement=False, generator=generator)\n",
    "train_dataloader = DataLoader(train_dataset, batch_size=64, collate_fn=collate_fn, sampler=sampling_train)\n",
    "test_dataloader = DataLoader(test_dataset, batch_size=64, shuffle=False, collate_fn=collate_fn, sampler=sampling_test)\n",
    "val_dataloader = DataLoader(val_dataset, batch_size=64, shuffle=False, collate_fn=collate_fn, sampler=sampling_val)"
   ],
   "metadata": {
    "collapsed": false,
    "ExecuteTime": {
     "end_time": "2024-01-11T11:13:17.763018Z",
     "start_time": "2024-01-11T11:13:17.759971Z"
    }
   },
   "id": "b8cf4740bbc38b72"
  },
  {
   "cell_type": "code",
   "execution_count": 13,
   "outputs": [],
   "source": [
    "class EmotionClassifierConcat(nn.Module):\n",
    "    def __init__(self, output_size, device, hidden_layers, activation_fn=nn.ReLU, dropout_value=0.):\n",
    "        super(EmotionClassifierConcat, self).__init__()\n",
    "        config = AutoConfig.from_pretrained(\"bert-base-uncased\")\n",
    "        config.update({\"output_hidden_states\": True})\n",
    "        self.encoder = AutoModel.from_pretrained(\"bert-base-uncased\", config=config)\n",
    "        self.encoder.eval()\n",
    "        # self.last_n_hidden_state = last_n_hidden_state\n",
    "        self.classification = nn.Sequential(\n",
    "        )\n",
    "        for i in range(len(hidden_layers)):\n",
    "            curr = hidden_layers[i]\n",
    "            if i == 0:\n",
    "                self.classification.append(nn.LazyLinear(curr))\n",
    "                self.classification.append(activation_fn())\n",
    "                if dropout_value > 0:\n",
    "                    self.classification.append(nn.Dropout(dropout_value))\n",
    "                continue\n",
    "            prev = hidden_layers[i - 1]\n",
    "            self.classification.append(nn.Linear(prev, curr))\n",
    "            self.classification.append(activation_fn())\n",
    "            if dropout_value > 0:\n",
    "                self.classification.append(nn.Dropout(dropout_value))\n",
    "\n",
    "        self.classification.append(nn.Linear(hidden_layers[-1], output_size))\n",
    "        self.classification.append(nn.Softmax(dim=-1))\n",
    "\n",
    "        self.device = device\n",
    "\n",
    "    def forward(self, batch):\n",
    "        with torch.no_grad():\n",
    "            x = self.encoder(batch['input_ids'].to(self.device),\n",
    "                             batch['attention_mask'].to(self.device))  # TODO: check against ** batch\n",
    "            hidden_states = torch.stack(x[\"hidden_states\"])\n",
    "            concatenated = torch.cat((hidden_states[-1], hidden_states[-2], hidden_states[-3], hidden_states[-4]), -1)\n",
    "            concatenated = concatenated[:, 0]\n",
    "        return self.classification(concatenated)\n",
    "\n",
    "\n",
    "class EmotionClassifierWeightedPooling(nn.Module):\n",
    "    def __init__(self,\n",
    "                 output_size,\n",
    "                 device,\n",
    "                 hidden_layers,\n",
    "                 start_layer,\n",
    "                 activation_fn=nn.ReLU,\n",
    "                 dropout_value=0.,\n",
    "                 total_hidden_states=13\n",
    "                 ):\n",
    "        super(EmotionClassifierWeightedPooling, self).__init__()\n",
    "        config = AutoConfig.from_pretrained(\"bert-base-uncased\")\n",
    "        config.update({\"output_hidden_states\": True})\n",
    "        self.encoder = AutoModel.from_pretrained(\"bert-base-uncased\", config=config)\n",
    "        self.encoder.eval()\n",
    "        self.start_layer = start_layer\n",
    "        # self.last_n_hidden_state = last_n_hidden_state\n",
    "        self.classification = nn.Sequential(\n",
    "        )\n",
    "        for i in range(len(hidden_layers)):\n",
    "            curr = hidden_layers[i]\n",
    "            if i == 0:\n",
    "                self.classification.append(nn.LazyLinear(curr))\n",
    "                self.classification.append(activation_fn())\n",
    "                if dropout_value > 0:\n",
    "                    self.classification.append(nn.Dropout(dropout_value))\n",
    "                continue\n",
    "            prev = hidden_layers[i - 1]\n",
    "            self.classification.append(nn.Linear(prev, curr))\n",
    "            self.classification.append(activation_fn())\n",
    "            if dropout_value > 0:\n",
    "                self.classification.append(nn.Dropout(dropout_value))\n",
    "\n",
    "        self.classification.append(nn.Linear(hidden_layers[-1], output_size))\n",
    "        self.classification.append(nn.Softmax(dim=-1))\n",
    "\n",
    "        self.device = device\n",
    "\n",
    "        # wieght # 64, 61, 768\n",
    "        self.layer_weight = nn.Parameter(\n",
    "            torch.full(size=(total_hidden_states - start_layer, 1, 1, 1), fill_value=1, dtype=torch.float32,\n",
    "                       requires_grad=True))\n",
    "\n",
    "    def forward(self, batch):\n",
    "        with torch.no_grad():\n",
    "            x = self.encoder(batch['input_ids'].to(self.device),\n",
    "                             batch['attention_mask'].to(self.device))  # TODO: check against ** batch\n",
    "            hidden_states = torch.stack(x[\"hidden_states\"])\n",
    "            hidden_states = hidden_states[self.start_layer:, :, :, :]\n",
    "            weight_factor = self.layer_weight.expand(hidden_states.size())\n",
    "            weighted_average = (weight_factor * hidden_states).sum(dim=0) / self.layer_weight.sum()\n",
    "        return self.classification(weighted_average[:, 0])\n",
    "\n"
   ],
   "metadata": {
    "collapsed": false,
    "ExecuteTime": {
     "end_time": "2024-01-11T11:13:17.770735Z",
     "start_time": "2024-01-11T11:13:17.767580Z"
    }
   },
   "id": "989c985a962522c4"
  },
  {
   "cell_type": "code",
   "execution_count": 80,
   "outputs": [],
   "source": [
    "from sklearn.metrics import accuracy_score, f1_score\n",
    "\n",
    "\n",
    "def compute_metrics(y_true, y_pred):\n",
    "    if isinstance(y_true, torch.Tensor):\n",
    "        y_true = y_true.detach().cpu().numpy()\n",
    "        y_pred = y_pred.detach().cpu().numpy().argmax(-1)\n",
    "    accuracy = accuracy_score(y_true, y_pred)\n",
    "    f1_score_value = f1_score(y_true, y_pred, average='weighted')\n",
    "    return accuracy, f1_score_value\n",
    "\n",
    "\n",
    "def decode(input_, y_true, y_pred, confidence, top_5=True):\n",
    "    global tokenizer, category_to_emotion\n",
    "\n",
    "    input_ = input_[0].detach().cpu()\n",
    "    y_true = y_true[0].detach().cpu().item()\n",
    "    y_pred = y_pred[0].detach().cpu().numpy()\n",
    "    true_confidence = confidence[0]\n",
    "    pred_confidence = y_pred.max()\n",
    "    top_5_emotions = None\n",
    "    if top_5:\n",
    "        index = y_pred.argsort()[-5:]\n",
    "        top_5_emotions = [category_to_emotion[i] for i in index]\n",
    "    y_pred = y_pred.argmax()\n",
    "    input_ = tokenizer.decode(input_)\n",
    "    y_true = category_to_emotion[y_true]\n",
    "    y_pred = category_to_emotion[y_pred]\n",
    "    return input_, y_true, y_pred, true_confidence, pred_confidence, top_5_emotions\n",
    "\n",
    "\n",
    "def conv_fn(x):\n",
    "    global category_to_emotion\n",
    "    return category_to_emotion[x]\n",
    "\n",
    "\n",
    "def top(y_true, y_pred, top_n=5):\n",
    "    y_true = y_true.detach().cpu().numpy()\n",
    "    y_pred = y_pred.detach().cpu().numpy()\n",
    "\n",
    "    y_true = np.vectorize(conv_fn)(y_true)\n",
    "    y_pred = np.argsort(y_pred)[:, -5:]\n",
    "    y_pred = np.vectorize(conv_fn)(y_pred)\n",
    "    return np.mean(np.isin(y_true, y_pred))\n",
    "\n",
    "\n",
    "\n",
    "\n"
   ],
   "metadata": {
    "collapsed": false,
    "ExecuteTime": {
     "end_time": "2024-01-11T12:40:46.429087Z",
     "start_time": "2024-01-11T12:40:46.408189Z"
    }
   },
   "id": "9959d949806bfc76"
  },
  {
   "cell_type": "code",
   "execution_count": 81,
   "outputs": [],
   "source": [
    "from torchsummary import summary\n",
    "from tqdm import tqdm\n",
    "from tqdm.notebook import tqdm\n",
    "import matplotlib.pyplot as plt\n",
    "import seaborn as sns\n",
    "import os\n",
    "\n",
    "sns.set(style=\"whitegrid\")\n",
    "\n",
    "\n",
    "class EarlyStopping:\n",
    "    def __init__(self, patience=10):\n",
    "        self.patience = patience\n",
    "        self.best_val = np.inf\n",
    "        self.counter = 0\n",
    "\n",
    "    def __call__(self, val: float):\n",
    "        save = False\n",
    "        if val < self.best_val:\n",
    "            self.counter = 0\n",
    "            self.best_val = val\n",
    "            save = True\n",
    "        else:\n",
    "            self.counter += 1\n",
    "        return self.counter >= self.patience, save\n",
    "\n",
    "\n",
    "class Trainer:\n",
    "    def __init__(self,\n",
    "                 model: nn.Module,\n",
    "                 model_name: str,\n",
    "                 device,\n",
    "                 dataloaders: tuple[DataLoader, DataLoader, DataLoader | None],\n",
    "                 optimizer=torch.optim.AdamW,\n",
    "                 scheduler=None,\n",
    "                 lr: float = 1e-3,\n",
    "                 output_dir: str = './RESULTS',\n",
    "                 patience: int = 10,\n",
    "                 verbose=0,\n",
    "                 ):\n",
    "        self.model_name = model_name\n",
    "        self.device = device\n",
    "        self.output_dir = output_dir\n",
    "\n",
    "        self.model = model\n",
    "        self.model.to(device)\n",
    "        self.loss_fn = nn.CrossEntropyLoss()\n",
    "        self.optimizer = optimizer(self.model.parameters(), lr=lr)\n",
    "        self.scheduler = scheduler\n",
    "        self.verbose = verbose\n",
    "        self.train_loader, self.test_loader, self.val_loader = dataloaders\n",
    "\n",
    "        self.train_loss = []\n",
    "        self.train_accuracy = []\n",
    "        self.train_f1_score = []\n",
    "        self.validation_loss = []\n",
    "        self.validation_accuracy = []\n",
    "        self.validation_f1_score = []\n",
    "        self.validation_is_in_top_5 = []\n",
    "\n",
    "        self.early_stopper = EarlyStopping(patience)\n",
    "\n",
    "        if not os.path.exists(output_dir):\n",
    "            os.mkdir(output_dir)\n",
    "\n",
    "    def print_architecture(self, batch_size=64):  #TODO: NOT WORKING\n",
    "        print(summary(self.model.classification, input_size=(3072,), batch_size=batch_size, device=self.device))\n",
    "\n",
    "    def reset_params(self):\n",
    "        self.train_loss = []\n",
    "        self.train_accuracy = []\n",
    "        self.train_f1_score = []\n",
    "        self.validation_loss = []\n",
    "        self.validation_accuracy = []\n",
    "        self.validation_f1_score = []\n",
    "        self.validation_is_in_top_5 = []\n",
    "\n",
    "    def draw_training_metrics(self, save=True, format='pdf', figsize=(16, 8), step=1):\n",
    "        if len(self.train_loss) == 0:\n",
    "            return\n",
    "        fig, axs = plt.subplots(1, 3, figsize=figsize)\n",
    "        fig.suptitle(f'Training metrics')\n",
    "        axs[0].plot(self.train_loss, label='Train')\n",
    "        axs[0].plot(self.validation_loss, label='Validation')\n",
    "        axs[0].set_xlabel('Epochs')\n",
    "        axs[0].set_ylabel('Loss')\n",
    "        axs[0].set_xticks(np.arange(0, len(self.train_loss), step))\n",
    "        axs[0].legend()\n",
    "\n",
    "        axs[1].plot(self.train_accuracy, label='Train')\n",
    "        axs[1].plot(self.validation_accuracy, label='Validation')\n",
    "        axs[1].set_xlabel('Epochs')\n",
    "        axs[1].set_ylabel('Accuracy')\n",
    "        axs[1].set_xticks(np.arange(0, len(self.train_accuracy), step))\n",
    "        axs[1].legend()\n",
    "\n",
    "        axs[2].plot(self.train_f1_score, label='Train')\n",
    "        axs[2].plot(self.validation_f1_score, label='Validation')\n",
    "        axs[2].set_xlabel('Epochs')\n",
    "        axs[2].set_ylabel('F1 Score')\n",
    "        axs[2].set_xticks(np.arange(0, len(self.train_f1_score), step))\n",
    "        axs[2].legend()\n",
    "\n",
    "        plt.tight_layout()\n",
    "        if save:\n",
    "            plt.savefig(f'{self.output_dir}/{self.model_name}_train_metrics.{format}', bbox_inches='tight')\n",
    "        plt.show()\n",
    "\n",
    "    def draw_top_5(self, save=True, format='pdf', figsize=(16, 8), step=1):\n",
    "        fig = plt.figure(figsize=figsize)\n",
    "        plt.plot(self.validation_is_in_top_5)\n",
    "        plt.xlabel('Epochs')\n",
    "        plt.tight_layout()\n",
    "        if save:\n",
    "            plt.savefig(f'{self.output_dir}/{self.model_name}_top_5.{format}', bbox_inches='tight')\n",
    "        plt.show()\n",
    "\n",
    "    def train_model(self, epochs):\n",
    "        self.reset_params()\n",
    "        loader_length = len(self.train_loader)\n",
    "        for ep in range(1, epochs + 1):\n",
    "            self.model.train()\n",
    "            loss_ep: float = 0.\n",
    "            accuracy_ep: float = 0.\n",
    "            f1_score_ep: float = 0.\n",
    "            for batch, labels, confidence, in tqdm(self.train_loader):\n",
    "                out = self.model.forward(batch)\n",
    "                self.optimizer.zero_grad()\n",
    "                loss = self.loss_fn(out, labels.to(self.device))\n",
    "                loss.backward()\n",
    "                self.optimizer.step()\n",
    "                loss_ep += loss.item()\n",
    "                with torch.no_grad():\n",
    "                    a, f1 = compute_metrics(labels, out)\n",
    "                    accuracy_ep += a\n",
    "                    f1_score_ep += f1\n",
    "            loss_ep /= loader_length\n",
    "            accuracy_ep /= loader_length\n",
    "            f1_score_ep /= loader_length\n",
    "            self.train_loss.append(loss_ep)\n",
    "            self.train_accuracy.append(accuracy_ep)\n",
    "            self.train_f1_score.append(f1_score_ep)\n",
    "            print(f'TRAIN LOSS: {loss_ep:.5f} ; ACCURACY: {accuracy_ep:.5f} ; F1: {f1_score_ep:.5f}')\n",
    "            if self.val_loader is not None:\n",
    "                if self.validate():\n",
    "                    break\n",
    "\n",
    "    def validate(self):\n",
    "        self.model.eval()\n",
    "        with torch.no_grad():\n",
    "            loss_val = 0\n",
    "            accuracies = 0\n",
    "            f1_scores = 0\n",
    "            length_val_dataloader = len(self.val_loader)\n",
    "            top_5_ep = 0.\n",
    "            for idx, (batch, labels, confidence) in enumerate(self.val_loader):\n",
    "                out = self.model.forward(batch)\n",
    "                loss = self.loss_fn(out, labels.to(self.device))\n",
    "                loss_val += loss.item()\n",
    "                ac, f1 = compute_metrics(labels, out)\n",
    "                accuracies += ac\n",
    "                f1_scores += f1\n",
    "                top_5_ep += top(labels, out)\n",
    "                if self.verbose:\n",
    "                    if idx == length_val_dataloader - 1:\n",
    "                        input_, y_true, y_pred, c_true, c_pred, top_5_emotions = decode(batch['input_ids'], labels, out,\n",
    "                                                                                        confidence)\n",
    "\n",
    "            loss_val /= length_val_dataloader\n",
    "            accuracies /= length_val_dataloader\n",
    "            f1_scores /= length_val_dataloader\n",
    "            top_5_ep /= length_val_dataloader\n",
    "            self.validation_loss.append(loss_val)\n",
    "            self.validation_accuracy.append(accuracies)\n",
    "            self.validation_f1_score.append(f1_scores)\n",
    "            self.validation_is_in_top_5.append(top_5_ep)\n",
    "            print(\n",
    "                f'VAL   LOSS: {loss_val:.5f} ; ACCURACY: {accuracies:.5f} ; F1: {f1_scores:.5f} ; top 5: {top_5_ep:.5f}')\n",
    "            if self.verbose:\n",
    "                print('INPUT:', input_.replace('[PAD]', '').rstrip())\n",
    "                print('TRUE LABEL:', y_true, 'conf:', f'{c_true:.5f}')\n",
    "                print('PREDICTED_LABEL', y_pred, 'conf', f'{c_pred:.5f}')\n",
    "                if top_5_emotions is not None:\n",
    "                    print(f'TOP 5: {top_5_emotions}')\n",
    "            break_, save_ = self.early_stopper(loss_val)\n",
    "            if save_:\n",
    "                torch.save(self.model.state_dict(), f'{self.output_dir}/{self.model_name}.pt')\n",
    "        return break_\n",
    "\n",
    "\n",
    "\n"
   ],
   "metadata": {
    "collapsed": false,
    "ExecuteTime": {
     "end_time": "2024-01-11T12:40:46.796158Z",
     "start_time": "2024-01-11T12:40:46.789404Z"
    }
   },
   "id": "1b91de6968184e3f"
  },
  {
   "cell_type": "code",
   "execution_count": 82,
   "outputs": [
    {
     "name": "stderr",
     "output_type": "stream",
     "text": [
      "/Users/marziolunghi/Documents/GitHub/ATML-NLP/.venv/lib/python3.11/site-packages/torch/nn/modules/lazy.py:180: UserWarning: Lazy modules are a new feature under heavy development so changes to the API or functionality can happen at any moment.\n",
      "  warnings.warn('Lazy modules are a new feature under heavy development '\n"
     ]
    }
   ],
   "source": [
    "OUTPUT_SIZE = len(emotions_to_category)\n",
    "DEVICE = torch.device('mps' if torch.backends.mps.is_available() else 'cpu')\n",
    "hidden_layers = [128, 64]\n",
    "\n",
    "# model = EmotionClassifierConcat(output_size=OUTPUT_SIZE,\n",
    "#                                 device=DEVICE,\n",
    "#                                 hidden_layers=hidden_layers)\n",
    "\n",
    "model = EmotionClassifierWeightedPooling(\n",
    "    output_size=OUTPUT_SIZE,\n",
    "    device=DEVICE,\n",
    "    hidden_layers=hidden_layers,\n",
    "    start_layer=4\n",
    ")"
   ],
   "metadata": {
    "collapsed": false,
    "ExecuteTime": {
     "end_time": "2024-01-11T12:40:48.475567Z",
     "start_time": "2024-01-11T12:40:47.068853Z"
    }
   },
   "id": "5d7b04f027f18dcb"
  },
  {
   "cell_type": "code",
   "execution_count": 83,
   "outputs": [
    {
     "name": "stdout",
     "output_type": "stream",
     "text": [
      "mps\n"
     ]
    }
   ],
   "source": [
    "model_name = 'test1'\n",
    "output_size = len(emotions_to_category)\n",
    "device = torch.device('mps' if torch.backends.mps.is_available() else 'cpu')\n",
    "print(device)\n",
    "dataloaders = train_dataloader, test_dataloader, val_dataloader\n",
    "trainer = Trainer(\n",
    "    model,\n",
    "    model_name=model_name,\n",
    "    device=device,\n",
    "    dataloaders=dataloaders,\n",
    "    verbose=1\n",
    ")"
   ],
   "metadata": {
    "collapsed": false,
    "ExecuteTime": {
     "end_time": "2024-01-11T12:41:00.379722Z",
     "start_time": "2024-01-11T12:40:49.687581Z"
    }
   },
   "id": "ea98c2f19b79934f"
  },
  {
   "cell_type": "code",
   "execution_count": 84,
   "outputs": [],
   "source": [
    "# trainer.print_architecture(64)"
   ],
   "metadata": {
    "collapsed": false,
    "ExecuteTime": {
     "end_time": "2024-01-11T12:41:00.382669Z",
     "start_time": "2024-01-11T12:41:00.380920Z"
    }
   },
   "id": "3f4c8b6d9d9b0bca"
  },
  {
   "cell_type": "code",
   "execution_count": 85,
   "outputs": [
    {
     "data": {
      "text/plain": "  0%|          | 0/16 [00:00<?, ?it/s]",
      "application/vnd.jupyter.widget-view+json": {
       "version_major": 2,
       "version_minor": 0,
       "model_id": "d42109fba3b54d59b69c9f98a948ab5b"
      }
     },
     "metadata": {},
     "output_type": "display_data"
    },
    {
     "name": "stdout",
     "output_type": "stream",
     "text": [
      "TRAIN LOSS: 3.71347 ; ACCURACY: 0.01719 ; F1: 0.00159\n",
      "VAL   LOSS: 3.71352 ; ACCURACY: 0.02793 ; F1: 0.00421 ; top 5: 0.17090\n",
      "INPUT: [CLS] see? what i tell you? look. he's loving it. look at him. [SEP]\n",
      "TRUE LABEL: joyful conf: 0.80042\n",
      "PREDICTED_LABEL acknowledging conf 0.03669\n",
      "TOP 5: ['disappointed', 'encouraging', 'joyful', 'disgusted', 'acknowledging']\n"
     ]
    },
    {
     "data": {
      "text/plain": "  0%|          | 0/16 [00:00<?, ?it/s]",
      "application/vnd.jupyter.widget-view+json": {
       "version_major": 2,
       "version_minor": 0,
       "model_id": "884350aa5ee84cdbaec29cb20da94302"
      }
     },
     "metadata": {},
     "output_type": "display_data"
    },
    {
     "name": "stdout",
     "output_type": "stream",
     "text": [
      "TRAIN LOSS: 3.71333 ; ACCURACY: 0.02207 ; F1: 0.00310\n",
      "VAL   LOSS: 3.71320 ; ACCURACY: 0.02109 ; F1: 0.00162 ; top 5: 0.21484\n",
      "INPUT: [CLS] crucified. [SEP]\n",
      "TRUE LABEL: devastated conf: 0.67203\n",
      "PREDICTED_LABEL agreeing conf 0.04847\n",
      "TOP 5: ['terrified', 'caring', 'disappointed', 'acknowledging', 'agreeing']\n"
     ]
    },
    {
     "data": {
      "text/plain": "  0%|          | 0/16 [00:00<?, ?it/s]",
      "application/vnd.jupyter.widget-view+json": {
       "version_major": 2,
       "version_minor": 0,
       "model_id": "1aeef8a04fa14609a2c39c4924d983ec"
      }
     },
     "metadata": {},
     "output_type": "display_data"
    },
    {
     "name": "stdout",
     "output_type": "stream",
     "text": [
      "TRAIN LOSS: 3.71282 ; ACCURACY: 0.02891 ; F1: 0.00365\n",
      "VAL   LOSS: 3.71295 ; ACCURACY: 0.02109 ; F1: 0.00180 ; top 5: 0.19687\n",
      "INPUT: [CLS] stop it... please don't make me laugh... [SEP]\n",
      "TRUE LABEL: annoyed conf: 0.82924\n",
      "PREDICTED_LABEL terrified conf 0.08674\n",
      "TOP 5: ['embarrassed', 'encouraging', 'agreeing', 'acknowledging', 'terrified']\n"
     ]
    },
    {
     "data": {
      "text/plain": "  0%|          | 0/16 [00:00<?, ?it/s]",
      "application/vnd.jupyter.widget-view+json": {
       "version_major": 2,
       "version_minor": 0,
       "model_id": "8b1faa6ce4d94c19bdd4da39c1578718"
      }
     },
     "metadata": {},
     "output_type": "display_data"
    },
    {
     "name": "stdout",
     "output_type": "stream",
     "text": [
      "TRAIN LOSS: 3.71065 ; ACCURACY: 0.03379 ; F1: 0.00311\n",
      "VAL   LOSS: 3.71238 ; ACCURACY: 0.02207 ; F1: 0.00157 ; top 5: 0.13867\n",
      "INPUT: [CLS] daria, wait. [SEP]\n",
      "TRUE LABEL: anticipating conf: 0.91455\n",
      "PREDICTED_LABEL terrified conf 0.31983\n",
      "TOP 5: ['disappointed', 'disgusted', 'furious', 'acknowledging', 'terrified']\n"
     ]
    },
    {
     "data": {
      "text/plain": "  0%|          | 0/16 [00:00<?, ?it/s]",
      "application/vnd.jupyter.widget-view+json": {
       "version_major": 2,
       "version_minor": 0,
       "model_id": "0285a794c8ae4e45b8a864200ef059be"
      }
     },
     "metadata": {},
     "output_type": "display_data"
    },
    {
     "name": "stdout",
     "output_type": "stream",
     "text": [
      "TRAIN LOSS: 3.71097 ; ACCURACY: 0.02832 ; F1: 0.00236\n",
      "VAL   LOSS: 3.71070 ; ACCURACY: 0.03770 ; F1: 0.00588 ; top 5: 0.25000\n",
      "INPUT: [CLS] there is no a whore in london who would not be glad of such a fee. then find a whore who needs the money. this one's retired. [SEP]\n",
      "TRUE LABEL: jealous conf: 0.77579\n",
      "PREDICTED_LABEL terrified conf 0.15651\n",
      "TOP 5: ['embarrassed', 'agreeing', 'acknowledging', 'disappointed', 'terrified']\n"
     ]
    },
    {
     "data": {
      "text/plain": "  0%|          | 0/16 [00:00<?, ?it/s]",
      "application/vnd.jupyter.widget-view+json": {
       "version_major": 2,
       "version_minor": 0,
       "model_id": "dd3a1197686740a689f8f5900721cde1"
      }
     },
     "metadata": {},
     "output_type": "display_data"
    },
    {
     "name": "stdout",
     "output_type": "stream",
     "text": [
      "TRAIN LOSS: 3.71085 ; ACCURACY: 0.03965 ; F1: 0.01590\n",
      "VAL   LOSS: 3.71031 ; ACCURACY: 0.05684 ; F1: 0.01947 ; top 5: 0.32500\n",
      "INPUT: [CLS] besides the group needs dancers. we are making a video. [SEP]\n",
      "TRUE LABEL: confident conf: 0.69426\n",
      "PREDICTED_LABEL sympathizing conf 0.05839\n",
      "TOP 5: ['lonely', 'disappointed', 'questioning', 'acknowledging', 'sympathizing']\n"
     ]
    },
    {
     "data": {
      "text/plain": "  0%|          | 0/16 [00:00<?, ?it/s]",
      "application/vnd.jupyter.widget-view+json": {
       "version_major": 2,
       "version_minor": 0,
       "model_id": "58da93eda84d433ca85a100139318f68"
      }
     },
     "metadata": {},
     "output_type": "display_data"
    },
    {
     "name": "stdout",
     "output_type": "stream",
     "text": [
      "TRAIN LOSS: 3.71038 ; ACCURACY: 0.04297 ; F1: 0.01483\n",
      "VAL   LOSS: 3.70570 ; ACCURACY: 0.06465 ; F1: 0.02959 ; top 5: 0.34570\n",
      "INPUT: [CLS] sheila, duck! [SEP]\n",
      "TRUE LABEL: furious conf: 0.70470\n",
      "PREDICTED_LABEL angry conf 0.19469\n",
      "TOP 5: ['embarrassed', 'encouraging', 'questioning', 'furious', 'angry']\n"
     ]
    },
    {
     "data": {
      "text/plain": "  0%|          | 0/16 [00:00<?, ?it/s]",
      "application/vnd.jupyter.widget-view+json": {
       "version_major": 2,
       "version_minor": 0,
       "model_id": "8172f06db7224d8c970fa2dcca2e6fd4"
      }
     },
     "metadata": {},
     "output_type": "display_data"
    },
    {
     "name": "stdout",
     "output_type": "stream",
     "text": [
      "TRAIN LOSS: 3.70237 ; ACCURACY: 0.05723 ; F1: 0.02757\n",
      "VAL   LOSS: 3.69853 ; ACCURACY: 0.06172 ; F1: 0.02783 ; top 5: 0.25898\n",
      "INPUT: [CLS] thank you for making the journey. [SEP]\n",
      "TRUE LABEL: grateful conf: 0.98062\n",
      "PREDICTED_LABEL acknowledging conf 0.13352\n",
      "TOP 5: ['terrified', 'caring', 'nostalgic', 'encouraging', 'acknowledging']\n"
     ]
    },
    {
     "data": {
      "text/plain": "  0%|          | 0/16 [00:00<?, ?it/s]",
      "application/vnd.jupyter.widget-view+json": {
       "version_major": 2,
       "version_minor": 0,
       "model_id": "30fed3a0f6c8429eb04bf5636b0c637c"
      }
     },
     "metadata": {},
     "output_type": "display_data"
    },
    {
     "name": "stdout",
     "output_type": "stream",
     "text": [
      "TRAIN LOSS: 3.69037 ; ACCURACY: 0.06836 ; F1: 0.03050\n",
      "VAL   LOSS: 3.69304 ; ACCURACY: 0.06680 ; F1: 0.02696 ; top 5: 0.26387\n",
      "INPUT: [CLS] unfortunately, i'm the only one left, who was at your daughter's surgery. everybody else quit the hospital. [SEP]\n",
      "TRUE LABEL: disappointed conf: 0.43857\n",
      "PREDICTED_LABEL disappointed conf 0.31449\n",
      "TOP 5: ['afraid', 'neutral', 'acknowledging', 'nostalgic', 'disappointed']\n"
     ]
    },
    {
     "data": {
      "text/plain": "  0%|          | 0/16 [00:00<?, ?it/s]",
      "application/vnd.jupyter.widget-view+json": {
       "version_major": 2,
       "version_minor": 0,
       "model_id": "9b1d51eb145741aabb5fbe838024873d"
      }
     },
     "metadata": {},
     "output_type": "display_data"
    },
    {
     "name": "stdout",
     "output_type": "stream",
     "text": [
      "TRAIN LOSS: 3.68663 ; ACCURACY: 0.07207 ; F1: 0.03227\n",
      "VAL   LOSS: 3.67361 ; ACCURACY: 0.08613 ; F1: 0.04205 ; top 5: 0.32539\n",
      "INPUT: [CLS] your imam preaches... that once dead, you are destined for paradise and we are destined for hell. [SEP]\n",
      "TRUE LABEL: faithful conf: 0.52160\n",
      "PREDICTED_LABEL nostalgic conf 0.20523\n",
      "TOP 5: ['sad', 'terrified', 'disappointed', 'encouraging', 'nostalgic']\n"
     ]
    },
    {
     "data": {
      "text/plain": "  0%|          | 0/16 [00:00<?, ?it/s]",
      "application/vnd.jupyter.widget-view+json": {
       "version_major": 2,
       "version_minor": 0,
       "model_id": "4d2382e8fc1a4d50a77edaee24f432c3"
      }
     },
     "metadata": {},
     "output_type": "display_data"
    },
    {
     "name": "stdout",
     "output_type": "stream",
     "text": [
      "TRAIN LOSS: 3.67924 ; ACCURACY: 0.07930 ; F1: 0.03240\n",
      "VAL   LOSS: 3.67510 ; ACCURACY: 0.08223 ; F1: 0.03830 ; top 5: 0.35918\n",
      "INPUT: [CLS] i think anna will be pleased. [SEP]\n",
      "TRUE LABEL: joyful conf: 0.86456\n",
      "PREDICTED_LABEL encouraging conf 0.63739\n",
      "TOP 5: ['hopeful', 'nostalgic', 'caring', 'disappointed', 'encouraging']\n"
     ]
    },
    {
     "data": {
      "text/plain": "  0%|          | 0/16 [00:00<?, ?it/s]",
      "application/vnd.jupyter.widget-view+json": {
       "version_major": 2,
       "version_minor": 0,
       "model_id": "77d3a9fb2f8745ada06656883cb2ed88"
      }
     },
     "metadata": {},
     "output_type": "display_data"
    },
    {
     "name": "stdout",
     "output_type": "stream",
     "text": [
      "TRAIN LOSS: 3.67707 ; ACCURACY: 0.07695 ; F1: 0.02737\n",
      "VAL   LOSS: 3.66954 ; ACCURACY: 0.07520 ; F1: 0.02471 ; top 5: 0.36582\n",
      "INPUT: [CLS] anything? jeremy michael haydock, cautioned for cannabis possession last year, half a joint's worth. nothing else. [SEP]\n",
      "TRUE LABEL: ashamed conf: 0.52645\n",
      "PREDICTED_LABEL nostalgic conf 0.30039\n",
      "TOP 5: ['neutral', 'questioning', 'disappointed', 'terrified', 'nostalgic']\n"
     ]
    },
    {
     "data": {
      "text/plain": "  0%|          | 0/16 [00:00<?, ?it/s]",
      "application/vnd.jupyter.widget-view+json": {
       "version_major": 2,
       "version_minor": 0,
       "model_id": "536c3681b7494b89a24b0ac93f6427b0"
      }
     },
     "metadata": {},
     "output_type": "display_data"
    },
    {
     "name": "stdout",
     "output_type": "stream",
     "text": [
      "TRAIN LOSS: 3.66438 ; ACCURACY: 0.09180 ; F1: 0.04031\n",
      "VAL   LOSS: 3.65972 ; ACCURACY: 0.09453 ; F1: 0.04523 ; top 5: 0.37207\n",
      "INPUT: [CLS] eddie. you can't win all the time. but you can't lose forever, either. [SEP]\n",
      "TRUE LABEL: neutral conf: 0.63787\n",
      "PREDICTED_LABEL nostalgic conf 0.37496\n",
      "TOP 5: ['angry', 'disappointed', 'furious', 'terrified', 'nostalgic']\n"
     ]
    },
    {
     "data": {
      "text/plain": "  0%|          | 0/16 [00:00<?, ?it/s]",
      "application/vnd.jupyter.widget-view+json": {
       "version_major": 2,
       "version_minor": 0,
       "model_id": "d9cbc61b9ea84e6183920e9153e86fea"
      }
     },
     "metadata": {},
     "output_type": "display_data"
    },
    {
     "name": "stdout",
     "output_type": "stream",
     "text": [
      "TRAIN LOSS: 3.66358 ; ACCURACY: 0.09766 ; F1: 0.04649\n",
      "VAL   LOSS: 3.65709 ; ACCURACY: 0.10391 ; F1: 0.04401 ; top 5: 0.32598\n",
      "INPUT: [CLS] yes, my husband's at work. this is just a routine check, mrs. palmer. [SEP]\n",
      "TRUE LABEL: content conf: 0.46125\n",
      "PREDICTED_LABEL sympathizing conf 0.25918\n",
      "TOP 5: ['nostalgic', 'caring', 'encouraging', 'disappointed', 'sympathizing']\n"
     ]
    },
    {
     "data": {
      "text/plain": "  0%|          | 0/16 [00:00<?, ?it/s]",
      "application/vnd.jupyter.widget-view+json": {
       "version_major": 2,
       "version_minor": 0,
       "model_id": "a0c8bc2c720a4c2598c4050da0032489"
      }
     },
     "metadata": {},
     "output_type": "display_data"
    },
    {
     "name": "stdout",
     "output_type": "stream",
     "text": [
      "TRAIN LOSS: 3.68160 ; ACCURACY: 0.06934 ; F1: 0.03228\n",
      "VAL   LOSS: 3.66301 ; ACCURACY: 0.09453 ; F1: 0.04579 ; top 5: 0.30391\n",
      "INPUT: [CLS] oh, well, i hope i don't look quite so solemn. it isn't really so much like me. [SEP]\n",
      "TRUE LABEL: consoling conf: 0.74359\n",
      "PREDICTED_LABEL nostalgic conf 0.56953\n",
      "TOP 5: ['sympathizing', 'neutral', 'acknowledging', 'disappointed', 'nostalgic']\n"
     ]
    },
    {
     "data": {
      "text/plain": "  0%|          | 0/16 [00:00<?, ?it/s]",
      "application/vnd.jupyter.widget-view+json": {
       "version_major": 2,
       "version_minor": 0,
       "model_id": "21e80bb190bb48f3a262171f8e1143fb"
      }
     },
     "metadata": {},
     "output_type": "display_data"
    },
    {
     "name": "stdout",
     "output_type": "stream",
     "text": [
      "TRAIN LOSS: 3.67485 ; ACCURACY: 0.07734 ; F1: 0.03820\n",
      "VAL   LOSS: 3.65419 ; ACCURACY: 0.09492 ; F1: 0.05393 ; top 5: 0.33750\n",
      "INPUT: [CLS] could you maybe... yeah, right. [SEP]\n",
      "TRUE LABEL: suggesting conf: 0.90107\n",
      "PREDICTED_LABEL sympathizing conf 0.54636\n",
      "TOP 5: ['agreeing', 'encouraging', 'disappointed', 'acknowledging', 'sympathizing']\n"
     ]
    },
    {
     "data": {
      "text/plain": "  0%|          | 0/16 [00:00<?, ?it/s]",
      "application/vnd.jupyter.widget-view+json": {
       "version_major": 2,
       "version_minor": 0,
       "model_id": "a83e97b637d641bca2474734c171ce2c"
      }
     },
     "metadata": {},
     "output_type": "display_data"
    },
    {
     "name": "stdout",
     "output_type": "stream",
     "text": [
      "TRAIN LOSS: 3.65584 ; ACCURACY: 0.10840 ; F1: 0.05735\n",
      "VAL   LOSS: 3.64606 ; ACCURACY: 0.11133 ; F1: 0.05702 ; top 5: 0.33301\n",
      "INPUT: [CLS] you scared me i was counting how long i could hold my breath... under the water... it was shorter than i'd thought don '! be silly... you'd get me in a lot of trouble... [SEP]\n",
      "TRUE LABEL: terrified conf: 0.62378\n",
      "PREDICTED_LABEL terrified conf 0.59777\n",
      "TOP 5: ['disappointed', 'acknowledging', 'angry', 'nostalgic', 'terrified']\n"
     ]
    },
    {
     "data": {
      "text/plain": "  0%|          | 0/16 [00:00<?, ?it/s]",
      "application/vnd.jupyter.widget-view+json": {
       "version_major": 2,
       "version_minor": 0,
       "model_id": "3e820eb9a7dd45e4a0ddb4dcd9f50ec3"
      }
     },
     "metadata": {},
     "output_type": "display_data"
    },
    {
     "name": "stdout",
     "output_type": "stream",
     "text": [
      "TRAIN LOSS: 3.65512 ; ACCURACY: 0.09941 ; F1: 0.04709\n",
      "VAL   LOSS: 3.64412 ; ACCURACY: 0.11367 ; F1: 0.06157 ; top 5: 0.35352\n",
      "INPUT: [CLS] doesn't that sound nice. [SEP]\n",
      "TRUE LABEL: acknowledging conf: 0.50403\n",
      "PREDICTED_LABEL sympathizing conf 0.47770\n",
      "TOP 5: ['neutral', 'agreeing', 'acknowledging', 'questioning', 'sympathizing']\n"
     ]
    },
    {
     "data": {
      "text/plain": "  0%|          | 0/16 [00:00<?, ?it/s]",
      "application/vnd.jupyter.widget-view+json": {
       "version_major": 2,
       "version_minor": 0,
       "model_id": "0fcea7fcaa684d0dab074033b79c7cd3"
      }
     },
     "metadata": {},
     "output_type": "display_data"
    },
    {
     "name": "stdout",
     "output_type": "stream",
     "text": [
      "TRAIN LOSS: 3.63911 ; ACCURACY: 0.11426 ; F1: 0.06194\n",
      "VAL   LOSS: 3.64015 ; ACCURACY: 0.11992 ; F1: 0.06412 ; top 5: 0.38438\n",
      "INPUT: [CLS] maybe if i go there... [SEP]\n",
      "TRUE LABEL: suggesting conf: 0.86189\n",
      "PREDICTED_LABEL acknowledging conf 0.27274\n",
      "TOP 5: ['trusting', 'agreeing', 'sympathizing', 'encouraging', 'acknowledging']\n"
     ]
    },
    {
     "data": {
      "text/plain": "  0%|          | 0/16 [00:00<?, ?it/s]",
      "application/vnd.jupyter.widget-view+json": {
       "version_major": 2,
       "version_minor": 0,
       "model_id": "e728748776124ec4aee1ecf9fce0d55d"
      }
     },
     "metadata": {},
     "output_type": "display_data"
    },
    {
     "name": "stdout",
     "output_type": "stream",
     "text": [
      "TRAIN LOSS: 3.65139 ; ACCURACY: 0.10840 ; F1: 0.06184\n",
      "VAL   LOSS: 3.63469 ; ACCURACY: 0.12793 ; F1: 0.06607 ; top 5: 0.37969\n",
      "INPUT: [CLS] dunno. my street source, bucket, deals out these clubs. he's been in the wind for a week. something's up. [SEP]\n",
      "TRUE LABEL: disappointed conf: 0.43713\n",
      "PREDICTED_LABEL nostalgic conf 0.24150\n",
      "TOP 5: ['sympathizing', 'guilty', 'disappointed', 'neutral', 'nostalgic']\n"
     ]
    }
   ],
   "source": [
    "trainer.train_model(20)"
   ],
   "metadata": {
    "collapsed": false,
    "ExecuteTime": {
     "end_time": "2024-01-11T12:58:23.586637Z",
     "start_time": "2024-01-11T12:41:00.398442Z"
    }
   },
   "id": "c7bd64b409a74161"
  },
  {
   "cell_type": "code",
   "execution_count": 86,
   "outputs": [
    {
     "data": {
      "text/plain": "<Figure size 1800x600 with 3 Axes>",
      "image/png": "[encoded data removed]"
     },
     "metadata": {},
     "output_type": "display_data"
    }
   ],
   "source": [
    "trainer.draw_training_metrics(save=False, figsize=(18, 6))"
   ],
   "metadata": {
    "collapsed": false,
    "ExecuteTime": {
     "end_time": "2024-01-11T12:58:24.407141Z",
     "start_time": "2024-01-11T12:58:23.537072Z"
    }
   },
   "id": "d1fe554cc813590b"
  },
  {
   "cell_type": "code",
   "execution_count": 87,
   "outputs": [
    {
     "data": {
      "text/plain": "<Figure size 1600x800 with 1 Axes>",
      "image/png": "[encoded data removed]"
     },
     "metadata": {},
     "output_type": "display_data"
    }
   ],
   "source": [
    "trainer.draw_top_5(save=False)"
   ],
   "metadata": {
    "collapsed": false,
    "ExecuteTime": {
     "end_time": "2024-01-11T12:58:24.964178Z",
     "start_time": "2024-01-11T12:58:24.405432Z"
    }
   },
   "id": "361de169f6c17dfd"
  },
  {
   "cell_type": "code",
   "execution_count": 113,
   "outputs": [],
   "source": [
    "import sys\n",
    "import time\n",
    "\n",
    "\n",
    "def dialogue(model: EmotionClassifierWeightedPooling | EmotionClassifierConcat, deterministic=True):\n",
    "    global category_to_emotion\n",
    "    model.eval()\n",
    "    with torch.no_grad():\n",
    "        while True:\n",
    "            user_text = input('ENTER SENTENCE:')\n",
    "            if user_text.lower() == 'exit' or len(user_text) == 0:\n",
    "                print('BYE!')\n",
    "                return\n",
    "            print(f'USER: {user_text}')\n",
    "            assert isinstance(user_text, str)\n",
    "            batch = tokenizer(user_text, padding=True, return_tensors='pt')\n",
    "            prediction = model.forward(batch).cpu().numpy().flatten()\n",
    "            if deterministic:\n",
    "                predicated_label = prediction.argmax(-1)\n",
    "                probability = np.max(prediction)\n",
    "                predicated_label = category_to_emotion[predicated_label]\n",
    "                top_5_prediction = prediction.argsort()[-5:]\n",
    "                top_5_probability = prediction[top_5_prediction][::-1]\n",
    "                top_5 = np.vectorize(conv_fn)(top_5_prediction)[::-1]\n",
    "                dictionary = {key: value for key, value in zip(top_5, top_5_probability)}\n",
    "                print(f'BOT: {predicated_label} with prob: {probability}')\n",
    "                print(f'TOP 5: {dictionary}')\n",
    "            time.sleep(2)\n",
    "\n",
    "\n"
   ],
   "metadata": {
    "collapsed": false,
    "ExecuteTime": {
     "end_time": "2024-01-11T16:40:37.252591Z",
     "start_time": "2024-01-11T16:40:37.239545Z"
    }
   },
   "id": "88872b7ef4322a76"
  },
  {
   "cell_type": "code",
   "execution_count": 113,
   "outputs": [],
   "source": [],
   "metadata": {
    "collapsed": false,
    "ExecuteTime": {
     "end_time": "2024-01-11T16:40:37.421590Z",
     "start_time": "2024-01-11T16:40:37.414086Z"
    }
   },
   "id": "7558e9f281a66cd3"
  },
  {
   "cell_type": "code",
   "execution_count": 114,
   "outputs": [
    {
     "name": "stdout",
     "output_type": "stream",
     "text": [
      "USER: You are a monster!\n",
      "BOT: angry with prob: 0.8826571106910706\n",
      "TOP 5: {'angry': 0.8826571, 'furious': 0.08947631, 'terrified': 0.021272369, 'questioning': 0.0038393447, 'acknowledging': 0.0013006532}\n",
      "BYE!\n"
     ]
    }
   ],
   "source": [
    "dialogue(model)"
   ],
   "metadata": {
    "collapsed": false,
    "ExecuteTime": {
     "end_time": "2024-01-11T16:41:28.782844Z",
     "start_time": "2024-01-11T16:40:38.025165Z"
    }
   },
   "id": "f2163ae98c4c0fb3"
  },
  {
   "cell_type": "code",
   "execution_count": null,
   "outputs": [],
   "source": [],
   "metadata": {
    "collapsed": false,
    "ExecuteTime": {
     "end_time": "2024-01-11T11:13:32.018866Z",
     "start_time": "2024-01-11T11:13:32.016457Z"
    }
   },
   "id": "ad9069651787128e"
  }
 ],
 "metadata": {
  "kernelspec": {
   "display_name": "Python 3",
   "language": "python",
   "name": "python3"
  },
  "language_info": {
   "codemirror_mode": {
    "name": "ipython",
    "version": 2
   },
   "file_extension": ".py",
   "mimetype": "text/x-python",
   "name": "python",
   "nbconvert_exporter": "python",
   "pygments_lexer": "ipython2",
   "version": "2.7.6"
  }
 },
 "nbformat": 4,
 "nbformat_minor": 5
}
