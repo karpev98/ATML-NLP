{
 "cells": [
  {
   "cell_type": "code",
   "execution_count": 1,
   "id": "initial_id",
   "metadata": {
    "collapsed": true,
    "ExecuteTime": {
     "end_time": "2024-01-14T15:54:44.978683Z",
     "start_time": "2024-01-14T15:54:43.207062Z"
    }
   },
   "outputs": [],
   "source": [
    "import numpy as np\n",
    "from tqdm.notebook import tqdm\n",
    "import torch.cuda\n",
    "from transformers import AutoTokenizer, AutoModel, AutoConfig\n",
    "from torch.utils.data import Dataset, DataLoader,random_split\n",
    "from utils import *\n",
    "from sklearn.metrics import ConfusionMatrixDisplay, classification_report\n",
    "import pandas as pd\n",
    "import matplotlib.pyplot as plt\n",
    "import seaborn as sns\n",
    "sns.set(style=\"whitegrid\")\n",
    "import pickle\n",
    "import whisper\n",
    "import pytorch_lightning as pl\n",
    "from torch import nn\n",
    "import torch.nn.functional as F\n",
    "import random"
   ]
  },
  {
   "cell_type": "markdown",
   "source": [
    "# DATA ANALYSIS"
   ],
   "metadata": {
    "collapsed": false
   },
   "id": "8f98564f74eb586d"
  },
  {
   "cell_type": "code",
   "outputs": [],
   "source": [
    "df = pd.read_csv('dataset/EDOS 1M.csv')"
   ],
   "metadata": {
    "collapsed": false
   },
   "id": "540bd1b5e2a32d51"
  },
  {
   "cell_type": "markdown",
   "source": [
    "### The first 20 entries are"
   ],
   "metadata": {
    "collapsed": false
   },
   "id": "59da81b91075b2d3"
  },
  {
   "cell_type": "code",
   "outputs": [],
   "source": [
    "df.head(20)"
   ],
   "metadata": {
    "collapsed": false
   },
   "id": "8aa221b06522f285"
  },
  {
   "cell_type": "markdown",
   "source": [
    "### Any empty documents?"
   ],
   "metadata": {
    "collapsed": false
   },
   "id": "a8942eaeab6cc42"
  },
  {
   "cell_type": "code",
   "outputs": [],
   "source": [
    "n_empty = (df.loc[:, 'uttr'].apply(len) <= 0).sum()\n",
    "print(f'There are {n_empty} empty documents.')"
   ],
   "metadata": {
    "collapsed": false
   },
   "id": "86c2097ffc7f0772"
  },
  {
   "cell_type": "markdown",
   "source": [
    "### Any NA values?"
   ],
   "metadata": {
    "collapsed": false
   },
   "id": "df6aa046958b05e0"
  },
  {
   "cell_type": "code",
   "outputs": [],
   "source": [
    "df.isna().sum()"
   ],
   "metadata": {
    "collapsed": false
   },
   "id": "6828d3b60781c268"
  },
  {
   "cell_type": "markdown",
   "source": [
    "## SIMPLE STATS"
   ],
   "metadata": {
    "collapsed": false
   },
   "id": "e427ad46eba2d65e"
  },
  {
   "cell_type": "code",
   "outputs": [],
   "source": [
    "n_features = df.shape[1]\n",
    "n_docs = df.shape[0]\n",
    "print(f'{n_docs} entries with {n_features} features each')"
   ],
   "metadata": {
    "collapsed": false
   },
   "id": "257dd3e99236b871"
  },
  {
   "cell_type": "markdown",
   "source": [
    "### How many emotions?"
   ],
   "metadata": {
    "collapsed": false
   },
   "id": "24896f2b9442ff36"
  },
  {
   "cell_type": "code",
   "outputs": [],
   "source": [
    "emotions = df.loc[:, 'eb+_emot']\n",
    "unique_emotions, count_ = np.unique(emotions, return_counts=True)\n",
    "n_emotions = len(unique_emotions)\n",
    "print(f'{n_emotions} emotions:')\n",
    "print(unique_emotions)"
   ],
   "metadata": {
    "collapsed": false
   },
   "id": "468b37b4d99c5e1d"
  },
  {
   "cell_type": "code",
   "outputs": [],
   "source": [
    "fig = plt.figure(1, figsize=(12, 6))\n",
    "plt.bar(unique_emotions, count_)\n",
    "plt.xticks(rotation=90)\n",
    "plt.tight_layout()\n",
    "plt.show()"
   ],
   "metadata": {
    "collapsed": false
   },
   "id": "59d794189af0b4fa"
  },
  {
   "cell_type": "markdown",
   "source": [
    "### Balance dataset w.r.t. emotion count"
   ],
   "metadata": {
    "collapsed": false
   },
   "id": "a3075e42f5273346"
  },
  {
   "cell_type": "code",
   "outputs": [],
   "source": [
    "print(f'Least frequent emotion: {unique_emotions[np.argmin(count_)]} with {np.min(count_)} occurrences')\n",
    "print(f'Most frequent emotion: {unique_emotions[np.argmax(count_)]} with {np.max(count_)} occurrences')"
   ],
   "metadata": {
    "collapsed": false
   },
   "id": "f2d1e6f83fe520b"
  },
  {
   "cell_type": "code",
   "outputs": [],
   "source": [
    "balance_df = []\n",
    "least_freq = np.min(count_)\n",
    "generator = np.random.default_rng(0)\n",
    "\n",
    "for emo in unique_emotions:\n",
    "    group = df[df.loc[:, 'eb+_emot'] == emo].copy(deep=True).reset_index(drop=True)\n",
    "    group_size = len(group)\n",
    "    if group_size == least_freq:\n",
    "        balance_df.append(group)\n",
    "        continue\n",
    "    select_random = generator.choice(range(group_size), size=group_size - least_freq, replace=False)\n",
    "    group.drop(select_random, axis=0, inplace=True)\n",
    "    assert len(group) == least_freq\n",
    "    balance_df.append(group.copy())\n",
    "\n",
    "balance_df = pd.concat(balance_df)"
   ],
   "metadata": {
    "collapsed": false
   },
   "id": "8bd3e52cf3cb02b5"
  },
  {
   "cell_type": "code",
   "outputs": [],
   "source": [
    "print(f'Dataset is balanced with {group.shape[0]} entries x {n_emotions} emotions = {balance_df.shape[0]} entries total')"
   ],
   "metadata": {
    "collapsed": false
   },
   "id": "40da0ce20e02d1c"
  },
  {
   "cell_type": "code",
   "outputs": [],
   "source": [
    "emotions = balance_df.loc[:, 'eb+_emot']\n",
    "unique_emotions = emotions.unique()\n",
    "unique_emotions, count_ = np.unique(emotions, return_counts=True)\n",
    "fig = plt.figure(1, figsize=(12, 6))\n",
    "plt.bar(unique_emotions, count_)\n",
    "plt.xticks(rotation=90)\n",
    "plt.tight_layout()\n",
    "plt.show()"
   ],
   "metadata": {
    "collapsed": false
   },
   "id": "4d21fb9b35c6cf46"
  },
  {
   "cell_type": "code",
   "outputs": [],
   "source": [
    "df = balance_df.copy(deep=True).reset_index()\n",
    "df.to_pickle('./dataset/EDOS_1M_balanced.pkl')"
   ],
   "metadata": {
    "collapsed": false
   },
   "id": "46f4527e93ce9898"
  },
  {
   "cell_type": "markdown",
   "source": [
    "### label_confidence distribution"
   ],
   "metadata": {
    "collapsed": false
   },
   "id": "60932cec0900ac96"
  },
  {
   "cell_type": "code",
   "outputs": [],
   "source": [
    "def parse_emotions():\n",
    "    for emo in unique_emotions:\n",
    "        e = df[df.loc[:, 'eb+_emot'] == emo].loc[:, 'label_confidence'].to_numpy(dtype=np.float32)\n",
    "        yield emo, e\n",
    "\n",
    "\n",
    "fig = plt.figure(figsize=(24, 10))\n",
    "e_values = [e for _, e in parse_emotions()]\n",
    "plt.title('label_confidence per emotion')\n",
    "plt.boxplot(e_values)\n",
    "plt.xticks(range(1, n_emotions + 1), unique_emotions)\n",
    "plt.xticks(rotation=90)\n",
    "plt.show()\n"
   ],
   "metadata": {
    "collapsed": false
   },
   "id": "f57a4ef594c487c0"
  },
  {
   "cell_type": "code",
   "outputs": [],
   "source": [
    "list_stats = []\n",
    "for emo, e in parse_emotions():\n",
    "    list_stats.append(pd.DataFrame([[np.mean(e), np.std(e)]], columns=['mean', 'std'], index=[emo]))\n",
    "\n",
    "df_mean_std = pd.concat(list_stats)\n",
    "df_mean_std = df_mean_std.sort_values(by='mean')"
   ],
   "metadata": {
    "collapsed": false
   },
   "id": "e1676de7164f8f15"
  },
  {
   "cell_type": "code",
   "outputs": [],
   "source": [
    "# average utterance length\n",
    "mean_length_u = df.loc[:, 'uttr'].apply(len).mean()\n",
    "print(f'avg utterance length is {mean_length_u:.2f}')"
   ],
   "metadata": {
    "collapsed": false
   },
   "id": "4135b30916f0beea"
  },
  {
   "cell_type": "code",
   "outputs": [],
   "source": [
    "# average utterance length per emotion\n",
    "def parse_utterances():\n",
    "    for emo in unique_emotions:\n",
    "        yield df[df.loc[:, 'eb+_emot'] == emo].loc[:, 'uttr'].apply(len).mean()\n",
    "\n",
    "\n",
    "u_values = [u for u in parse_utterances()]\n",
    "sort_idx = np.argsort(u_values)\n",
    "u_values = np.sort(u_values)"
   ],
   "metadata": {
    "collapsed": false
   },
   "id": "aee2face5d9b9bcb"
  },
  {
   "cell_type": "code",
   "outputs": [],
   "source": [
    "fig = plt.figure(figsize=(14, 8))\n",
    "t = np.array([i for i in range(n_emotions)])\n",
    "# Plotting mean label confidence\n",
    "mm = df_mean_std.loc[unique_emotions[sort_idx], 'mean']\n",
    "plt.bar(t - 0.2, mm, width=0.4, label='Avg confidence')\n",
    "\n",
    "scaled_u_values = u_values / np.max(u_values)\n",
    "\n",
    "plt.bar(t + 0.2, scaled_u_values, width=0.4, label='Avg utterance length [millions]')\n",
    "\n",
    "plt.title('Comparison of avg confidence and avg utterance length per emotion')\n",
    "plt.xticks(range(n_emotions), unique_emotions[sort_idx], rotation=90)  # Set the emotion labels on the x-axis\n",
    "\n",
    "# Adding legend\n",
    "plt.legend()\n",
    "\n",
    "# Display the plot\n",
    "plt.show()"
   ],
   "metadata": {
    "collapsed": false
   },
   "id": "4bf6bf391846c2da"
  },
  {
   "cell_type": "markdown",
   "source": [
    "## CORRELATIONS\n"
   ],
   "metadata": {
    "collapsed": false
   },
   "id": "f85319ee8ea8c4c6"
  },
  {
   "cell_type": "code",
   "outputs": [],
   "source": [
    "df_length_to_coeff = pd.concat((df.loc[:, 'uttr'].apply(len), df.loc[:, 'label_confidence']), axis=1)\n",
    "plt.figure(figsize=(8, 6))\n",
    "corr_length_to_coeff = df_length_to_coeff.corr('spearman')\n",
    "sns.heatmap(corr_length_to_coeff, annot=True, cmap='coolwarm', fmt=\".2f\", linewidths=.5, vmax=1.0, vmin=-1.0)\n",
    "plt.title('Correlation Matrix between length of utterance and confidence level')\n",
    "plt.show()"
   ],
   "metadata": {
    "collapsed": false
   },
   "id": "fa3c99a5a9779273"
  },
  {
   "cell_type": "markdown",
   "source": [
    "## CLUSTER\n",
    "We first produce embedding using the glove-twitter "
   ],
   "metadata": {
    "collapsed": false
   },
   "id": "620e433f486000e2"
  },
  {
   "cell_type": "code",
   "outputs": [],
   "source": [
    "import gensim.downloader as api\n",
    "model_twitter = api.load(\"glove-twitter-50\")"
   ],
   "metadata": {
    "collapsed": false
   },
   "id": "e9a307f51c2e6b1e"
  },
  {
   "cell_type": "code",
   "outputs": [],
   "source": [
    "dataset = balance_df.loc[:, 'uttr'].to_numpy()\n",
    "labels = balance_df.loc[:, 'eb+_emot'].to_numpy()\n",
    "import re\n",
    "\n",
    "pattern1 = re.compile('\\n')\n",
    "pattern2 = re.compile('[a-zA-Z0-9._%+-]+@[a-zA-Z0-9.-]+\\.[a-zA-Z]{2,}')\n",
    "test = np.vectorize(lambda x: re.sub(pattern2, '', re.sub(pattern1, ' ', x)))(dataset)\n",
    "tokens = [x.strip().lower().split(' ') for x in test]\n",
    "\n",
    "\n",
    "def vectorize(tokens_, use_sum=True):\n",
    "    global model_twitter\n",
    "    vectors = np.zeros((len(tokens_), 50))\n",
    "    for i in range(0, len(tokens_)):\n",
    "        embs = [model_twitter.get_vector(token) for token in tokens_[i] if token in model_twitter]\n",
    "        if use_sum:\n",
    "            vectors[i] = np.sum(embs, axis=0)\n",
    "        else:\n",
    "            vectors[i] = np.mean(embs, axis=0)\n",
    "    return vectors\n"
   ],
   "metadata": {
    "collapsed": false
   },
   "id": "6ae161d33579744a"
  },
  {
   "cell_type": "code",
   "outputs": [],
   "source": [
    "embeddings = vectorize(tokens)"
   ],
   "metadata": {
    "collapsed": false
   },
   "id": "a9e4f28c74bab1e4"
  },
  {
   "cell_type": "markdown",
   "source": [
    "### We use the umap library to plot the embedding s"
   ],
   "metadata": {
    "collapsed": false
   },
   "id": "a915da3b8dab9b23"
  },
  {
   "cell_type": "code",
   "outputs": [],
   "source": [
    "import umap\n",
    "\n",
    "reducer = umap.UMAP(n_components=3, n_neighbors=5)"
   ],
   "metadata": {
    "collapsed": false
   },
   "id": "90074125a00127f"
  },
  {
   "cell_type": "code",
   "outputs": [],
   "source": [
    "to_plot = reducer.fit_transform(embeddings)"
   ],
   "metadata": {
    "collapsed": false
   },
   "id": "b25970f887c1f90d"
  },
  {
   "cell_type": "code",
   "outputs": [],
   "source": [
    "df_sns = balance_df.copy()\n",
    "dict_emotion_to_category = {key: value for key, value in zip(unique_emotions, range(len(unique_emotions)))}\n",
    "dict_category_to_emotion = {key: value for key, value in zip(range(len(unique_emotions)), unique_emotions)}"
   ],
   "metadata": {
    "collapsed": false
   },
   "id": "1bb16d55791f90d7"
  },
  {
   "cell_type": "code",
   "outputs": [],
   "source": [
    "# We use plotly to produce an interactive 3D plot\n",
    "import plotly.express as px\n",
    "limit = 30000 # a few of them are presented\n",
    "colors = sns.color_palette(n_colors=len(labels[:limit]))\n",
    "colors = [colors[dict_emotion_to_category[x]] for x in labels[:limit]]\n",
    "\n",
    "df = pd.DataFrame({'x': to_plot[:limit, 0], 'y': to_plot[:limit, 1], 'z': to_plot[:limit, 2], 'labels': labels[:limit]})\n",
    "fig = px.scatter_3d(df, x='x', y='y', z='z', color='labels')\n",
    "\n",
    "fig.show()"
   ],
   "metadata": {
    "collapsed": false
   },
   "id": "8c6dec707bbd3171"
  },
  {
   "cell_type": "code",
   "outputs": [],
   "source": [
    "translated_labels = [dict_emotion_to_category[x] for x in labels]\n",
    "X_train, X_test, y_train, y_test = train_test_split(to_plot, translated_labels, stratify=translated_labels, test_size=0.3, random_state=12, shuffle=True)"
   ],
   "metadata": {
    "collapsed": false
   },
   "id": "e23eb94832a7597a"
  },
  {
   "cell_type": "markdown",
   "source": [
    "We perform clustering using K-Means and test if a simple clustering algorithm is able to cluster text "
   ],
   "metadata": {
    "collapsed": false
   },
   "id": "3474e240a299b2f8"
  },
  {
   "cell_type": "code",
   "outputs": [],
   "source": [
    "from sklearn.cluster import KMeans\n",
    "cluster = KMeans(n_clusters=len(dict_category_to_emotion))\n",
    "cluster = cluster.fit(X_train, y_train)"
   ],
   "metadata": {
    "collapsed": false
   },
   "id": "a8a7c65ace81d3b3"
  },
  {
   "cell_type": "code",
   "outputs": [],
   "source": [
    "train_f = cluster.predict(X_train)\n",
    "df_cluster = pd.DataFrame({\n",
    "    'predicted_label': train_f,\n",
    "    'label' : translated_labels\n",
    "})"
   ],
   "metadata": {
    "collapsed": false
   },
   "id": "89b881246462ca46"
  },
  {
   "cell_type": "code",
   "outputs": [],
   "source": [
    "cluster_table = {}\n",
    "for name, group in df_cluster.groupby('predicted_label'):\n",
    "    uniq_c , count_c = np.unique(group['label'].to_numpy(), return_counts=True)\n",
    "    index = np.argmax(count_c)\n",
    "    label_assigned = dict_category_to_emotion[uniq_c[index]]\n",
    "    print(f'Label {name} assigned {label_assigned}')\n",
    "    cluster_table[name] = uniq_c[index]"
   ],
   "metadata": {
    "collapsed": false
   },
   "id": "ddf6c8d969e4a91e"
  },
  {
   "cell_type": "code",
   "outputs": [],
   "source": [
    "def compute_metrics_cluster(y_true, y_pred):\n",
    "    accuracy = accuracy_score(y_true, y_pred)\n",
    "    f1_score_ = f1_score(y_true, y_pred, average='weighted')\n",
    "    print(f'TEST SET: accuracy: {accuracy} ; f1 score: {f1_score_}')"
   ],
   "metadata": {
    "collapsed": false
   },
   "id": "614538ebdc0d2907"
  },
  {
   "cell_type": "code",
   "outputs": [],
   "source": [
    "y_pred = cluster.predict(X_test)\n",
    "y_pred = [cluster_table[y] for y in y_pred]\n",
    "compute_metrics_cluster(y_test, y_pred)"
   ],
   "metadata": {
    "collapsed": false
   },
   "id": "c861ff083565ef95"
  },
  {
   "cell_type": "code",
   "outputs": [],
   "source": [
    "fig = plt.figure(figsize=(5, 5))\n",
    "y_pred_translated = [dict_category_to_emotion[y] for y in y_pred]\n",
    "y_pred_translated_unique, y_pred_translated_count = np.unique(y_pred_translated, return_counts=True)\n",
    "plt.bar(y_pred_translated_unique, y_pred_translated_count)\n",
    "plt.xticks(range(len(y_pred_translated_unique)), y_pred_translated_unique, rotation=90)\n",
    "plt.tight_layout()\n",
    "plt.show()"
   ],
   "metadata": {
    "collapsed": false
   },
   "id": "a5ea2661e6006905"
  },
  {
   "cell_type": "markdown",
   "source": [
    "## SIMPLE CLASSIFIER\n",
    "We use a simple RandomForestClassifier to classify the embedded utterances "
   ],
   "metadata": {
    "collapsed": false
   },
   "id": "4e7cdb67c730a6dd"
  },
  {
   "cell_type": "code",
   "outputs": [],
   "source": [
    "from sklearn.ensemble import RandomForestClassifier\n",
    "\n",
    "classifier = RandomForestClassifier(n_jobs=8, random_state=99)\n",
    "classifier = classifier.fit(X_train, y_train)"
   ],
   "metadata": {
    "collapsed": false
   },
   "id": "f795ad85fe156ad1"
  },
  {
   "cell_type": "code",
   "outputs": [],
   "source": [
    "y_pred = classifier.predict(X_test)\n",
    "compute_metrics_cluster(y_test, y_pred)"
   ],
   "metadata": {
    "collapsed": false
   },
   "id": "2bf9fcd378862ab"
  },
  {
   "cell_type": "code",
   "outputs": [],
   "source": [
    "y_pred_translated = [dict_category_to_emotion[y] for y in y_pred]\n",
    "fig = plt.figure(figsize=(10, 10))\n",
    "y_pred_translated = [dict_category_to_emotion[y] for y in y_pred]\n",
    "y_pred_translated_unique, y_pred_translated_count = np.unique(y_pred_translated, return_counts=True)\n",
    "plt.bar(y_pred_translated_unique, y_pred_translated_count)\n",
    "plt.xticks(range(len(y_pred_translated_unique)), y_pred_translated_unique, rotation=90)\n",
    "plt.tight_layout()\n",
    "plt.show()"
   ],
   "metadata": {
    "collapsed": false
   },
   "id": "3c94cbe83d703952"
  },
  {
   "cell_type": "markdown",
   "source": [
    "# BERT CLASSIFIER\n",
    "We use the bert base uncased model to perform Text-Emotion Recognition. We use this pre-trained model to extract features from the text from the hidden layers. We define then a simple multi layer perceptron to classify the input text\n"
   ],
   "metadata": {
    "collapsed": false
   },
   "id": "cadac7969eb705d6"
  },
  {
   "cell_type": "code",
   "execution_count": 2,
   "outputs": [],
   "source": [
    "PRETRAINED_MODEL_NAME = \"bert-base-uncased\"\n",
    "BATCH_SIZE = 64\n",
    "DEVICE = torch.device('cuda' if torch.cuda.is_available() else 'mps' if torch.backends.mps.is_available() else 'cpu')"
   ],
   "metadata": {
    "collapsed": false,
    "ExecuteTime": {
     "end_time": "2024-01-14T15:54:45.001270Z",
     "start_time": "2024-01-14T15:54:44.994995Z"
    }
   },
   "id": "b7e86a465e0dc2c6"
  },
  {
   "cell_type": "markdown",
   "source": [
    "We use the tokenizer of bert-base-uncased."
   ],
   "metadata": {
    "collapsed": false
   },
   "id": "445450f4bfcb9865"
  },
  {
   "cell_type": "code",
   "execution_count": 3,
   "outputs": [],
   "source": [
    "tokenizer = AutoTokenizer.from_pretrained(PRETRAINED_MODEL_NAME)"
   ],
   "metadata": {
    "collapsed": false,
    "ExecuteTime": {
     "end_time": "2024-01-14T15:54:45.391227Z",
     "start_time": "2024-01-14T15:54:44.997838Z"
    }
   },
   "id": "3220d0df74d38f4c"
  },
  {
   "cell_type": "markdown",
   "source": [
    "We get the data from the balanced edos dataset. \n",
    "(The `get_edos_dataset_balanced` function was moved in a python file called `utils.py)"
   ],
   "metadata": {
    "collapsed": false
   },
   "id": "de6b2cda45367aab"
  },
  {
   "cell_type": "code",
   "execution_count": 4,
   "outputs": [],
   "source": [
    "groups, labels, confidence = get_edos_dataset_balanced()"
   ],
   "metadata": {
    "collapsed": false,
    "ExecuteTime": {
     "end_time": "2024-01-14T15:54:45.617039Z",
     "start_time": "2024-01-14T15:54:45.391367Z"
    }
   },
   "id": "2ad6eaacbec9714e"
  },
  {
   "cell_type": "markdown",
   "source": [
    "We define the dictionary that will be used to pass from emotions to categories and viceversa"
   ],
   "metadata": {
    "collapsed": false
   },
   "id": "ae6f98b9a138080d"
  },
  {
   "cell_type": "code",
   "execution_count": 5,
   "outputs": [],
   "source": [
    "unique = np.unique(labels.flatten())\n",
    "emotions_to_category = {key: value for key, value in zip(unique, range(len(unique)))}\n",
    "category_to_emotion = {key: value for key, value in zip(range(len(unique)), unique)}\n",
    "labels = np.vectorize(lambda x: emotions_to_category[x])(labels)"
   ],
   "metadata": {
    "collapsed": false,
    "ExecuteTime": {
     "end_time": "2024-01-14T15:54:45.699865Z",
     "start_time": "2024-01-14T15:54:45.617558Z"
    }
   },
   "id": "14e6ad56c5716510"
  },
  {
   "cell_type": "markdown",
   "source": [
    "We generate TRAIN, VALIDATION AND TESTING DATA using the stratify option to get balanced datasets"
   ],
   "metadata": {
    "collapsed": false
   },
   "id": "ef80c6d95287fe71"
  },
  {
   "cell_type": "code",
   "execution_count": 6,
   "outputs": [
    {
     "name": "stdout",
     "output_type": "stream",
     "text": [
      "TRAIN SHAPE: (56,)\n",
      "TEST SHAPE: (30,)\n",
      "VALIDATION SHAPE: (14,)\n"
     ]
    }
   ],
   "source": [
    "seed = 0\n",
    "(X_train, y_train), (X_val, y_val), (X_test, y_test), (Z_train, Z_val, Z_test) = split(groups.flatten(),\n",
    "                                                                                       labels.flatten(), seed,\n",
    "                                                                                       confidence.flatten())\n",
    "print('TRAIN SHAPE:', X_train.shape)\n",
    "print('TEST SHAPE:', X_test.shape)\n",
    "print('VALIDATION SHAPE:', X_val.shape)"
   ],
   "metadata": {
    "collapsed": false,
    "ExecuteTime": {
     "end_time": "2024-01-14T15:54:45.812238Z",
     "start_time": "2024-01-14T15:54:45.789460Z"
    }
   },
   "id": "4e8052b972245e00"
  },
  {
   "cell_type": "markdown",
   "source": [
    "TRAIN, TEST, DATA are first stored in a custom `Dataset` object (defined in `utils.py`)"
   ],
   "metadata": {
    "collapsed": false
   },
   "id": "4384719ceb99fec1"
  },
  {
   "cell_type": "code",
   "execution_count": 7,
   "outputs": [],
   "source": [
    "train_dataset = OurDataset(X_train, y_train, Z_train)\n",
    "test_dataset = OurDataset(X_test, y_test, Z_test)\n",
    "val_dataset = OurDataset(X_val, y_val, Z_val)"
   ],
   "metadata": {
    "collapsed": false,
    "ExecuteTime": {
     "end_time": "2024-01-14T15:54:45.812813Z",
     "start_time": "2024-01-14T15:54:45.807718Z"
    }
   },
   "id": "c0b30139629325f0"
  },
  {
   "cell_type": "markdown",
   "source": [
    "The collate function allows us to process batched data using the bert-base-uncased tokenizer and build batches of size BATCHSIZE and genertae the corresponding dataloaders required to train and validate our model"
   ],
   "metadata": {
    "collapsed": false
   },
   "id": "79b93cda7fe63983"
  },
  {
   "cell_type": "code",
   "execution_count": 8,
   "outputs": [],
   "source": [
    "def collate_fn(batch):\n",
    "    global tokenizer\n",
    "    x, y, z = [], [], []\n",
    "    for x1, y1, z1 in batch:\n",
    "        x.append(x1)\n",
    "        y.append(y1)\n",
    "        z.append(z1)\n",
    "    batch = tokenizer(x, padding=True, return_tensors='pt')\n",
    "    y = torch.as_tensor(y)\n",
    "    z = torch.as_tensor(z, dtype=torch.float32)\n",
    "    return batch, y, z"
   ],
   "metadata": {
    "collapsed": false,
    "ExecuteTime": {
     "end_time": "2024-01-14T15:54:45.822112Z",
     "start_time": "2024-01-14T15:54:45.810610Z"
    }
   },
   "id": "34493289a5cb036d"
  },
  {
   "cell_type": "code",
   "execution_count": 9,
   "outputs": [],
   "source": [
    "train_dataloader = DataLoader(train_dataset, batch_size=BATCH_SIZE, collate_fn=collate_fn, shuffle=True)\n",
    "test_dataloader = DataLoader(test_dataset, batch_size=BATCH_SIZE, shuffle=False, collate_fn=collate_fn)\n",
    "val_dataloader = DataLoader(val_dataset, batch_size=BATCH_SIZE, shuffle=True, collate_fn=collate_fn)"
   ],
   "metadata": {
    "collapsed": false,
    "ExecuteTime": {
     "end_time": "2024-01-14T15:54:45.823777Z",
     "start_time": "2024-01-14T15:54:45.814580Z"
    }
   },
   "id": "b8cf4740bbc38b72"
  },
  {
   "cell_type": "markdown",
   "source": [
    "We define our model which takes output hidden states features of the pre-trained model bert-base-uncased and feed them to a multi layer perceptron to make emotion classification. \n",
    "La struttura del nostro modello è ispirata da un articolo su kaggle chiamato: Utilizing Transformer Representations Efficiently.\n",
    "https://www.kaggle.com/code/rhtsingh/utilizing-transformer-representations-efficiently.\n",
    "This approach complements the outputs of the hidden states of the pretrained model by focusing primarily on the intermediate layers, which, according to the article, demonstrate greater specialization in the contextual representation of the input text. The exclusive use of the final layers may not be optimal. In addition, there is a model in which only the final four layers are concatenated, but here we present only one of them. We found no substantial differences in performance between the two."
   ],
   "metadata": {
    "collapsed": false
   },
   "id": "8c0a04ac51a6a18b"
  },
  {
   "cell_type": "code",
   "execution_count": 10,
   "outputs": [],
   "source": [
    "class WeightedPooling(Agglomerate):\n",
    "    def __init__(self, device, start_layer=4, name='bert-base-uncased'):\n",
    "        super(WeightedPooling, self).__init__(device)\n",
    "        config = AutoConfig.from_pretrained(name)\n",
    "        config.update({\"output_hidden_states\": True})\n",
    "        self.encoder = AutoModel.from_pretrained(name, config=config)\n",
    "        self.encoder.to(device)\n",
    "        self.encoder.eval()\n",
    "        for param in self.encoder.parameters(recurse=True):\n",
    "            param.requires_grad = False\n",
    "        self.start_layer = start_layer\n",
    "\n",
    "    def __call__(self, batch):\n",
    "        with torch.no_grad():\n",
    "            x = self.encoder(batch['input_ids'].to(self.device),\n",
    "                             batch['attention_mask'].to(self.device))  # TODO: check against ** batch\n",
    "            hidden_states = torch.stack(x[\"hidden_states\"])\n",
    "            hidden_states = hidden_states[self.start_layer:, :, :, :]\n",
    "        return hidden_states\n",
    "\n",
    "\n",
    "class EmotionClassifierWeightedPooling(nn.Module):\n",
    "    def __init__(self,\n",
    "                 output_size,\n",
    "                 device,\n",
    "                 hidden_layers,\n",
    "                 start_layer,\n",
    "                 activation_fn=nn.ReLU,\n",
    "                 dropout_value=0.,\n",
    "                 total_hidden_states=13\n",
    "                 ):\n",
    "        super(EmotionClassifierWeightedPooling, self).__init__()\n",
    "\n",
    "        self.start_layer = start_layer\n",
    "        self.classification = nn.Sequential(\n",
    "        )\n",
    "        for i in range(len(hidden_layers)):\n",
    "            curr = hidden_layers[i]\n",
    "            if i == 0:\n",
    "                self.classification.append(nn.LazyLinear(curr))\n",
    "                self.classification.append(activation_fn())\n",
    "                if dropout_value > 0:\n",
    "                    self.classification.append(nn.Dropout(dropout_value))\n",
    "                continue\n",
    "            prev = hidden_layers[i - 1]\n",
    "            self.classification.append(nn.Linear(prev, curr))\n",
    "            self.classification.append(activation_fn())\n",
    "            if dropout_value > 0:\n",
    "                self.classification.append(nn.Dropout(dropout_value))\n",
    "\n",
    "        self.classification.append(nn.Linear(hidden_layers[-1], output_size))\n",
    "        # self.classification.append(nn.Softmax(dim=-1))\n",
    "\n",
    "        self.device = device\n",
    "\n",
    "        # wieght # 64, 61, 768\n",
    "        self.layer_weight = nn.Parameter(\n",
    "            torch.full(size=(total_hidden_states - start_layer, 1, 1, 1), fill_value=1, dtype=torch.float32,\n",
    "                       requires_grad=True))\n",
    "\n",
    "    def forward(self, hidden_states):\n",
    "        with torch.no_grad():\n",
    "            weight_factor = self.layer_weight.expand(hidden_states.size())\n",
    "            weighted_average = (weight_factor * hidden_states).sum(dim=0) / self.layer_weight.sum()\n",
    "        return self.classification(weighted_average[:, 0])\n",
    "\n"
   ],
   "metadata": {
    "collapsed": false,
    "ExecuteTime": {
     "end_time": "2024-01-14T15:54:45.824193Z",
     "start_time": "2024-01-14T15:54:45.820186Z"
    }
   },
   "id": "989c985a962522c4"
  },
  {
   "cell_type": "markdown",
   "source": [
    "We define here our trainer which takes the pretrained model and the additional layers to perform emotion classification"
   ],
   "metadata": {
    "collapsed": false
   },
   "id": "2f568ef42a585fd8"
  },
  {
   "cell_type": "code",
   "execution_count": 11,
   "outputs": [],
   "source": [
    "from torchsummary import summary\n",
    "import os\n",
    "\n",
    "\n",
    "\n",
    "class Trainer:\n",
    "    def __init__(self,\n",
    "                 model: EmotionClassifierWeightedPooling,\n",
    "                 agglomerate: Agglomerate,\n",
    "                 model_name: str,\n",
    "                 device,\n",
    "                 dataloaders: tuple[DataLoader, DataLoader],\n",
    "                 optimizer=torch.optim.AdamW,\n",
    "                 scheduler=None,\n",
    "                 lr: float = 1e-3,\n",
    "                 output_dir: str = './RESULTS',\n",
    "                 patience: int = 10,\n",
    "                 clipping_norm=0.1,\n",
    "                 verbose=0,\n",
    "                 top_n=5\n",
    "                 ):\n",
    "        self.model_name = model_name\n",
    "        self.agglomerate = agglomerate\n",
    "        self.device = device\n",
    "        self.output_dir = output_dir\n",
    "        self.top_n = top_n\n",
    "\n",
    "        self.model = model\n",
    "        self.model.to(device)\n",
    "        self.loss_fn = nn.CrossEntropyLoss()\n",
    "        self.optimizer = optimizer(self.model.parameters(), lr=lr)\n",
    "        self.scheduler = scheduler\n",
    "        self.verbose = verbose\n",
    "        self.train_loader, self.val_loader = dataloaders\n",
    "\n",
    "        self.train_loss = []\n",
    "        self.train_accuracy = []\n",
    "        self.train_f1_score = []\n",
    "        self.validation_loss = []\n",
    "        self.validation_accuracy = []\n",
    "        self.validation_f1_score = []\n",
    "        self.validation_is_in_top_5 = []\n",
    "\n",
    "        self.early_stopper = EarlyStopping(patience)\n",
    "        self.clipping_norm = clipping_norm\n",
    "\n",
    "        if not os.path.exists(output_dir):\n",
    "            os.mkdir(output_dir)\n",
    "\n",
    "    def process_data(self, batch):\n",
    "        batch = self.agglomerate(batch)\n",
    "        return self.model.forward(batch)\n",
    "\n",
    "    def print_architecture(self, batch_size=64):  #TODO: NOT WORKING\n",
    "        print(summary(self.model.classification, input_size=(3072,), batch_size=batch_size, device=self.device))\n",
    "\n",
    "    def reset_params(self):\n",
    "        self.train_loss = []\n",
    "        self.train_accuracy = []\n",
    "        self.train_f1_score = []\n",
    "        self.validation_loss = []\n",
    "        self.validation_accuracy = []\n",
    "        self.validation_f1_score = []\n",
    "        self.validation_is_in_top_5 = []\n",
    "\n",
    "    def draw_training_metrics(self, save=True, format='pdf', figsize=(16, 8), step=1):\n",
    "        if len(self.train_loss) == 0:\n",
    "            return\n",
    "        fig, axs = plt.subplots(1, 3, figsize=figsize)\n",
    "        fig.suptitle(f'Training metrics')\n",
    "        axs[0].plot(self.train_loss, label='Train')\n",
    "        axs[0].plot(self.validation_loss, label='Validation')\n",
    "        axs[0].set_xlabel('Epochs')\n",
    "        axs[0].set_ylabel('Loss')\n",
    "        axs[0].set_xticks(np.arange(0, len(self.train_loss), step))\n",
    "        axs[0].legend()\n",
    "\n",
    "        axs[1].plot(self.train_accuracy, label='Train')\n",
    "        axs[1].plot(self.validation_accuracy, label='Validation')\n",
    "        axs[1].set_xlabel('Epochs')\n",
    "        axs[1].set_ylabel('Accuracy')\n",
    "        axs[1].set_xticks(np.arange(0, len(self.train_accuracy), step))\n",
    "        axs[1].legend()\n",
    "\n",
    "        axs[2].plot(self.train_f1_score, label='Train')\n",
    "        axs[2].plot(self.validation_f1_score, label='Validation')\n",
    "        axs[2].set_xlabel('Epochs')\n",
    "        axs[2].set_ylabel('F1 Score')\n",
    "        axs[2].set_xticks(np.arange(0, len(self.train_f1_score), step))\n",
    "        axs[2].legend()\n",
    "\n",
    "        plt.tight_layout()\n",
    "        if save:\n",
    "            plt.savefig(f'{self.output_dir}/{self.model_name}_train_metrics.{format}', bbox_inches='tight')\n",
    "        plt.show()\n",
    "\n",
    "    def draw_top_5(self, save=True, format='pdf', figsize=(16, 8), step=1):\n",
    "        fig = plt.figure(figsize=figsize)\n",
    "        plt.plot(self.validation_is_in_top_5)\n",
    "        plt.xlabel('Epochs')\n",
    "        plt.tight_layout()\n",
    "        if save:\n",
    "            plt.savefig(f'{self.output_dir}/{self.model_name}_top_5.{format}', bbox_inches='tight')\n",
    "        plt.show()\n",
    "\n",
    "    def train_model(self, epochs):\n",
    "        self.reset_params()\n",
    "        loader_length = len(self.train_loader)\n",
    "        for ep in range(1, epochs + 1):\n",
    "            print('#' * 20, ep, '#' * 20)\n",
    "            self.model.train()\n",
    "            loss_ep: float = 0.\n",
    "            accuracy_ep: float = 0.\n",
    "            f1_score_ep: float = 0.\n",
    "            for batch, labels, confidence, in tqdm(self.train_loader):\n",
    "                out = self.process_data(batch)\n",
    "                self.optimizer.zero_grad()\n",
    "                loss = self.loss_fn(out, labels.to(self.device))\n",
    "                loss.backward()\n",
    "                if self.clipping_norm > 0:\n",
    "                    torch.nn.utils.clip_grad_norm_(self.model.parameters(), self.clipping_norm)\n",
    "                self.optimizer.step()\n",
    "                loss_ep += loss.item()\n",
    "                with torch.no_grad():\n",
    "                    a, f1 = compute_metrics(labels, out)\n",
    "                    accuracy_ep += a\n",
    "                    f1_score_ep += f1\n",
    "            loss_ep /= loader_length\n",
    "            accuracy_ep /= loader_length\n",
    "            f1_score_ep /= loader_length\n",
    "            self.train_loss.append(loss_ep)\n",
    "            self.train_accuracy.append(accuracy_ep)\n",
    "            self.train_f1_score.append(f1_score_ep)\n",
    "            print(f'TRAIN LOSS: {loss_ep:.5f} ; ACCURACY: {accuracy_ep:.5f} ; F1: {f1_score_ep:.5f}')\n",
    "            if self.val_loader is not None:\n",
    "                if self.validate():\n",
    "                    break\n",
    "\n",
    "    def validate(self):\n",
    "        global tokenizer, category_to_emotion\n",
    "        self.model.eval()\n",
    "        with torch.no_grad():\n",
    "            loss_val = 0\n",
    "            accuracies = 0\n",
    "            f1_scores = 0\n",
    "            length_val_dataloader = len(self.val_loader)\n",
    "            top_5_ep = 0.\n",
    "            for idx, (batch, labels, confidence) in enumerate(self.val_loader):\n",
    "                out = self.process_data(batch)\n",
    "                loss = self.loss_fn(out, labels.to(self.device))\n",
    "                loss_val += loss.item()\n",
    "                out = nn.functional.softmax(out, dim=-1)\n",
    "                ac, f1 = compute_metrics(labels, out)\n",
    "                accuracies += ac\n",
    "                f1_scores += f1\n",
    "                top_5_ep += top(labels, out)\n",
    "                if self.verbose:\n",
    "                    if idx == length_val_dataloader - 1:\n",
    "                        input_, y_true, y_pred, c_true, c_pred, top_5_emotions = decode(batch['input_ids'], labels, out,\n",
    "                                                                                        confidence, tokenizer,\n",
    "                                                                                        category_to_emotion, self.top_n)\n",
    "\n",
    "            loss_val /= length_val_dataloader\n",
    "            accuracies /= length_val_dataloader\n",
    "            f1_scores /= length_val_dataloader\n",
    "            top_5_ep /= length_val_dataloader\n",
    "            self.validation_loss.append(loss_val)\n",
    "            self.validation_accuracy.append(accuracies)\n",
    "            self.validation_f1_score.append(f1_scores)\n",
    "            self.validation_is_in_top_5.append(top_5_ep)\n",
    "            print(\n",
    "                f'VAL   LOSS: {loss_val:.5f} ; ACCURACY: {accuracies:.5f} ; F1: {f1_scores:.5f} ; top {self.top_n}: {top_5_ep:.5f}')\n",
    "            if self.verbose:\n",
    "                print('INPUT:', input_.replace('[PAD]', '').rstrip())\n",
    "                print('TRUE LABEL:', y_true, 'conf:', f'{c_true:.5f}')\n",
    "                print('PREDICTED_LABEL', y_pred, 'conf', f'{c_pred:.5f}')\n",
    "                if top_5_emotions is not None:\n",
    "                    print(f'TOP {self.top_n}: {list(reversed(top_5_emotions))}')\n",
    "            break_, save_ = self.early_stopper(accuracies)\n",
    "            if save_:\n",
    "                torch.save(self.model.state_dict(), f'{self.output_dir}/{self.model_name}.pt')\n",
    "        return break_\n",
    "\n",
    "\n",
    "def load_model(model, path: str):\n",
    "    if not path.endswith('.pt'):\n",
    "        path += '.pt'\n",
    "    model.load_state_dict(torch.load(path, map_location=torch.device('cpu')))\n",
    "\n",
    "\n",
    "\n"
   ],
   "metadata": {
    "collapsed": false,
    "ExecuteTime": {
     "end_time": "2024-01-14T15:54:45.844952Z",
     "start_time": "2024-01-14T15:54:45.831701Z"
    }
   },
   "id": "1b91de6968184e3f"
  },
  {
   "cell_type": "code",
   "execution_count": 12,
   "outputs": [
    {
     "name": "stderr",
     "output_type": "stream",
     "text": [
      "/Users/marziolunghi/Documents/GitHub/ATML-NLP/.venv/lib/python3.11/site-packages/torch/nn/modules/lazy.py:180: UserWarning: Lazy modules are a new feature under heavy development so changes to the API or functionality can happen at any moment.\n",
      "  warnings.warn('Lazy modules are a new feature under heavy development '\n"
     ]
    }
   ],
   "source": [
    "OUTPUT_SIZE = len(emotions_to_category)\n",
    "HIDDEN_LAYERS = [128, 64]\n",
    "# this is our model, we start at the 4-th layer\n",
    "model_edos = EmotionClassifierWeightedPooling(\n",
    "    output_size=OUTPUT_SIZE,\n",
    "    device=DEVICE,\n",
    "    hidden_layers=HIDDEN_LAYERS,\n",
    "    start_layer=4\n",
    ").to(DEVICE)\n",
    "agglomerate_edos = WeightedPooling(device=DEVICE, start_layer=4)"
   ],
   "metadata": {
    "collapsed": false,
    "ExecuteTime": {
     "end_time": "2024-01-14T15:54:46.716193Z",
     "start_time": "2024-01-14T15:54:45.836452Z"
    }
   },
   "id": "5d7b04f027f18dcb"
  },
  {
   "cell_type": "code",
   "execution_count": 13,
   "outputs": [],
   "source": [
    "model_name = 'model_edos'\n",
    "output_size = len(emotions_to_category)\n",
    "output_dir_edos = './RESULTS'\n",
    "dataloaders = train_dataloader, val_dataloader\n",
    "trainer = Trainer(\n",
    "    model_edos,\n",
    "    agglomerate=agglomerate_edos,\n",
    "    model_name=model_name,\n",
    "    device=DEVICE,\n",
    "    dataloaders=dataloaders,\n",
    "    verbose=1,\n",
    "    output_dir=output_dir_edos\n",
    ")"
   ],
   "metadata": {
    "collapsed": false,
    "ExecuteTime": {
     "end_time": "2024-01-14T15:54:46.723414Z",
     "start_time": "2024-01-14T15:54:46.716688Z"
    }
   },
   "id": "ea98c2f19b79934f"
  },
  {
   "cell_type": "code",
   "execution_count": 14,
   "outputs": [],
   "source": [
    "if not os.path.exists(f'{output_dir_edos}/{model_name}.pt'):\n",
    "    trainer.train_model(20)"
   ],
   "metadata": {
    "collapsed": false,
    "ExecuteTime": {
     "end_time": "2024-01-14T15:54:46.724067Z",
     "start_time": "2024-01-14T15:54:46.719469Z"
    }
   },
   "id": "c7bd64b409a74161"
  },
  {
   "cell_type": "markdown",
   "source": [
    "We present the following training metrics: (1) cross entroy loss; (2) accuracy; (3) f1 score \n",
    "The model has an early stopping mechanism which monitor the validation loss"
   ],
   "metadata": {
    "collapsed": false
   },
   "id": "3a37a937f666e7d6"
  },
  {
   "cell_type": "code",
   "execution_count": 15,
   "outputs": [],
   "source": [
    "trainer.draw_training_metrics(save=False, figsize=(18, 6))"
   ],
   "metadata": {
    "collapsed": false,
    "ExecuteTime": {
     "end_time": "2024-01-14T15:54:46.724945Z",
     "start_time": "2024-01-14T15:54:46.721822Z"
    }
   },
   "id": "d1fe554cc813590b"
  },
  {
   "cell_type": "markdown",
   "source": [
    "We present here another metric, we check if for each observation in the validation the associated label is present in the first k prediction sorted by probability, by default k=5 since we have a total of 41 emotions"
   ],
   "metadata": {
    "collapsed": false
   },
   "id": "cc8c899042075da0"
  },
  {
   "cell_type": "code",
   "execution_count": 16,
   "outputs": [
    {
     "data": {
      "text/plain": "<Figure size 1600x800 with 1 Axes>",
      "image/png": "[encoded data removed]"
     },
     "metadata": {},
     "output_type": "display_data"
    }
   ],
   "source": [
    "trainer.draw_top_5(save=False)"
   ],
   "metadata": {
    "collapsed": false,
    "ExecuteTime": {
     "end_time": "2024-01-14T15:54:46.881956Z",
     "start_time": "2024-01-14T15:54:46.724369Z"
    }
   },
   "id": "361de169f6c17dfd"
  },
  {
   "cell_type": "code",
   "execution_count": 17,
   "outputs": [
    {
     "data": {
      "text/plain": "EmotionClassifierWeightedPooling(\n  (classification): Sequential(\n    (0): LazyLinear(in_features=0, out_features=128, bias=True)\n    (1): ReLU()\n    (2): Linear(in_features=128, out_features=64, bias=True)\n    (3): ReLU()\n    (4): Linear(in_features=64, out_features=41, bias=True)\n  )\n)"
     },
     "execution_count": 17,
     "metadata": {},
     "output_type": "execute_result"
    }
   ],
   "source": [
    "# we load the best model\n",
    "load_model(model_edos, f'{output_dir_edos}/{model_name}.pt')\n",
    "model_edos.to(DEVICE)"
   ],
   "metadata": {
    "collapsed": false,
    "ExecuteTime": {
     "end_time": "2024-01-14T15:54:46.897788Z",
     "start_time": "2024-01-14T15:54:46.879129Z"
    }
   },
   "id": "48a3750dea00ce85"
  },
  {
   "cell_type": "markdown",
   "source": [
    "We compute the testing metrics: (1) accuracy ; (2) f1 score; (3) top_k score"
   ],
   "metadata": {
    "collapsed": false
   },
   "id": "cc4a3b5c0e93b862"
  },
  {
   "cell_type": "code",
   "execution_count": 67,
   "outputs": [
    {
     "data": {
      "text/plain": "  0%|          | 0/1 [00:00<?, ?it/s]",
      "application/vnd.jupyter.widget-view+json": {
       "version_major": 2,
       "version_minor": 0,
       "model_id": "f2d11ff8dd9340598a242fd161f25720"
      }
     },
     "metadata": {},
     "output_type": "display_data"
    }
   ],
   "source": [
    "# y_true, y_pred, accuracies, f1, top_n\n",
    "edos_metrics = test_edos_text_model(model_edos,\n",
    "                                    agglomerate_edos,\n",
    "                                    test_dataloader,\n",
    "                                    category_to_emotion)"
   ],
   "metadata": {
    "collapsed": false,
    "ExecuteTime": {
     "end_time": "2024-01-14T16:16:25.821866Z",
     "start_time": "2024-01-14T16:16:24.526062Z"
    }
   },
   "id": "f9cd16fe2ce4ea1a"
  },
  {
   "cell_type": "code",
   "execution_count": 74,
   "outputs": [],
   "source": [
    "def print_mean_metrics(metrics):\n",
    "    print(f'MEAN ACCURACIES : {np.mean(metrics[2])}')\n",
    "    print(f'MEAN F1 SCORE   : {np.mean(metrics[3])}')\n",
    "    print(f'MEAN TOP 5 SCORE: {np.mean(metrics[-1])}')\n",
    "\n",
    "\n",
    "x_edos = list(map(lambda x: category_to_emotion[x], np.concatenate(edos_metrics[0], axis=0)))\n",
    "y_edos = list(map(lambda x: category_to_emotion[x], np.concatenate(edos_metrics[1], axis=0)))\n"
   ],
   "metadata": {
    "collapsed": false,
    "ExecuteTime": {
     "end_time": "2024-01-14T16:17:54.125911Z",
     "start_time": "2024-01-14T16:17:54.120565Z"
    }
   },
   "id": "12c1c352146e7bcc"
  },
  {
   "cell_type": "markdown",
   "source": [
    "We present here the confusion matrix"
   ],
   "metadata": {
    "collapsed": false
   },
   "id": "742430cac8a3292b"
  },
  {
   "cell_type": "code",
   "outputs": [
    {
     "data": {
      "text/plain": "<Figure size 1000x1000 with 2 Axes>",
      "image/png": "[encoded data removed]"
     },
     "metadata": {},
     "output_type": "display_data"
    }
   ],
   "source": [
    "fig, ax = plt.subplots(figsize=(10, 10))\n",
    "disp = ConfusionMatrixDisplay.from_predictions(x_edos, y_edos,\n",
    "                                               ax=ax,\n",
    "                                               xticks_rotation='vertical',\n",
    "                                               cmap=plt.cm.Blues)"
   ],
   "metadata": {
    "collapsed": false,
    "ExecuteTime": {
     "end_time": "2024-01-14T16:17:54.461974Z",
     "start_time": "2024-01-14T16:17:54.350538Z"
    }
   },
   "id": "7d53babc10c06ce7",
   "execution_count": 75
  },
  {
   "cell_type": "markdown",
   "source": [
    "From the classification report we can observe different metrics for each emotion "
   ],
   "metadata": {
    "collapsed": false
   },
   "id": "73144ce6482c007b"
  },
  {
   "cell_type": "code",
   "execution_count": 21,
   "outputs": [
    {
     "name": "stdout",
     "output_type": "stream",
     "text": [
      "               precision    recall  f1-score   support\n",
      "\n",
      "acknowledging       1.00      1.00      1.00        30\n",
      "\n",
      "     accuracy                           1.00        30\n",
      "    macro avg       1.00      1.00      1.00        30\n",
      " weighted avg       1.00      1.00      1.00        30\n"
     ]
    }
   ],
   "source": [
    "print(classification_report(x_edos, y_edos))"
   ],
   "metadata": {
    "collapsed": false,
    "ExecuteTime": {
     "end_time": "2024-01-14T15:54:47.358248Z",
     "start_time": "2024-01-14T15:54:47.341304Z"
    }
   },
   "id": "a9c3c6e44ffb0848"
  },
  {
   "cell_type": "markdown",
   "source": [
    "We can now chat with the bot and for each user input text the bot will predict the associated emotion. The top k emotions are also presented\n",
    "This method takes user input text "
   ],
   "metadata": {
    "collapsed": false
   },
   "id": "d779ecf3a752ffc9"
  },
  {
   "cell_type": "code",
   "outputs": [
    {
     "name": "stdout",
     "output_type": "stream",
     "text": [
      "USER: you are a monster.\n",
      "BOT: acknowledging with prob: 0.9837114214897156\n",
      "TOP 5: {'acknowledging': 0.9837114, 'ashamed': 0.0035525789, 'lonely': 0.0030955959, 'embarrassed': 0.0010845185, 'sad': 0.00096845377}\n",
      "BYE!\n"
     ]
    }
   ],
   "source": [
    "dialogue_edos_text(model_edos, agglomerate_edos, tokenizer, category_to_emotion)"
   ],
   "metadata": {
    "collapsed": false,
    "ExecuteTime": {
     "end_time": "2024-01-14T15:54:59.898852Z",
     "start_time": "2024-01-14T15:54:47.354354Z"
    }
   },
   "id": "64afdc645ba5a799",
   "execution_count": 22
  },
  {
   "cell_type": "markdown",
   "source": [
    "We can now chat with the bot and for each user input text the bot will predict the associated emotion. The top k emotions are also presented\n",
    "This method takes records the user's voice and produce a transcription. The whisper model is used to do so."
   ],
   "metadata": {
    "collapsed": false
   },
   "id": "db62505d66f60001"
  },
  {
   "cell_type": "markdown",
   "source": [],
   "metadata": {
    "collapsed": false
   },
   "id": "59517ce5af19611c"
  },
  {
   "cell_type": "code",
   "outputs": [
    {
     "name": "stdout",
     "output_type": "stream",
     "text": [
      "RECORDING IN... 3 2 1 RECORDING STARTED\n",
      "121\n",
      "USER: uh-uh\n",
      "BOT: acknowledging with prob: 0.9783205986022949\n",
      "TOP 5: {'acknowledging': 0.9783206, 'ashamed': 0.0044348957, 'lonely': 0.0039273994, 'embarrassed': 0.0014198468, 'sad': 0.001274094}\n"
     ]
    }
   ],
   "source": [
    "dialogue_edos_mic(model_edos, agglomerate_edos, tokenizer, category_to_emotion)"
   ],
   "metadata": {
    "collapsed": false,
    "ExecuteTime": {
     "end_time": "2024-01-14T15:55:22.134895Z",
     "start_time": "2024-01-14T15:54:59.881205Z"
    }
   },
   "id": "fa60e5858e2b738f",
   "execution_count": 23
  },
  {
   "cell_type": "code",
   "outputs": [],
   "source": [],
   "metadata": {
    "collapsed": false,
    "ExecuteTime": {
     "end_time": "2024-01-14T15:55:22.138961Z",
     "start_time": "2024-01-14T15:55:22.135498Z"
    }
   },
   "id": "22bc1a71807c5b01",
   "execution_count": 23
  },
  {
   "cell_type": "markdown",
   "source": [
    "# BERT FINE TUNING (DO NOT RUN)\n",
    "Instead of attaching additional layer and train them to perform emotion classification the hugging face library offers a AutoModelForSequenceClassification. Note that gradient is back-propagated though the entire pretrained model so it requires more computational power. Also in the previous section our method does not require saving all the weights."
   ],
   "metadata": {
    "collapsed": false
   },
   "id": "bb769542f0d2aa31"
  },
  {
   "cell_type": "code",
   "outputs": [],
   "source": [
    "train_data = [{'text': txt, 'label': lbl} for txt, lbl in zip(X_train, y_train)]\n",
    "eval_data = [{'text': txt, 'label': lbl} for txt, lbl in zip(X_val, y_val)]\n",
    "test_data = [{'text': txt, 'label': lbl} for txt, lbl in zip(X_test, y_test)]"
   ],
   "metadata": {
    "collapsed": false,
    "ExecuteTime": {
     "end_time": "2024-01-14T15:56:43.229115Z",
     "start_time": "2024-01-14T15:56:43.213996Z"
    }
   },
   "id": "67c275eeab35572b",
   "execution_count": 24
  },
  {
   "cell_type": "code",
   "outputs": [],
   "source": [
    "from datasets import Dataset as Dataset2\n",
    "from datasets import DatasetDict"
   ],
   "metadata": {
    "collapsed": false,
    "ExecuteTime": {
     "end_time": "2024-01-14T15:57:31.275872Z",
     "start_time": "2024-01-14T15:57:31.263439Z"
    }
   },
   "id": "1d031936d85909a6",
   "execution_count": 26
  },
  {
   "cell_type": "code",
   "outputs": [],
   "source": [
    "train_dataset = Dataset2.from_list(train_data)\n",
    "test_dataset = Dataset2.from_list(eval_data)\n",
    "val_dataset = Dataset2.from_list(test_data)"
   ],
   "metadata": {
    "collapsed": false,
    "ExecuteTime": {
     "end_time": "2024-01-14T15:57:31.497492Z",
     "start_time": "2024-01-14T15:57:31.479609Z"
    }
   },
   "id": "edfd17d20138af97",
   "execution_count": 27
  },
  {
   "cell_type": "code",
   "outputs": [
    {
     "name": "stderr",
     "output_type": "stream",
     "text": [
      "Some weights of BertForSequenceClassification were not initialized from the model checkpoint at bert-base-uncased and are newly initialized: ['classifier.bias', 'classifier.weight']\n",
      "You should probably TRAIN this model on a down-stream task to be able to use it for predictions and inference.\n"
     ]
    }
   ],
   "source": [
    "from transformers import AutoModelForSequenceClassification\n",
    "\n",
    "bert = AutoModelForSequenceClassification.from_pretrained(PRETRAINED_MODEL_NAME, num_labels=len(emotions_to_category),\n",
    "                                                          id2label=category_to_emotion, label2id=emotions_to_category)\n"
   ],
   "metadata": {
    "collapsed": false,
    "ExecuteTime": {
     "end_time": "2024-01-14T15:58:33.430647Z",
     "start_time": "2024-01-14T15:58:32.918289Z"
    }
   },
   "id": "9285d14792c85a10",
   "execution_count": 29
  },
  {
   "cell_type": "code",
   "outputs": [],
   "source": [
    "data = DatasetDict()\n",
    "data['train'] = train_dataset\n",
    "data['validation'] = test_dataset\n",
    "data['test'] = val_dataset"
   ],
   "metadata": {
    "collapsed": false,
    "ExecuteTime": {
     "end_time": "2024-01-14T15:58:33.432792Z",
     "start_time": "2024-01-14T15:58:33.431049Z"
    }
   },
   "id": "9ed265999641931c",
   "execution_count": 30
  },
  {
   "cell_type": "code",
   "outputs": [
    {
     "data": {
      "text/plain": "Map:   0%|          | 0/56 [00:00<?, ? examples/s]",
      "application/vnd.jupyter.widget-view+json": {
       "version_major": 2,
       "version_minor": 0,
       "model_id": "f0be8b3c148346af92e0fc8e760e5d21"
      }
     },
     "metadata": {},
     "output_type": "display_data"
    },
    {
     "data": {
      "text/plain": "Map:   0%|          | 0/14 [00:00<?, ? examples/s]",
      "application/vnd.jupyter.widget-view+json": {
       "version_major": 2,
       "version_minor": 0,
       "model_id": "05e5f1851e644a23be8feed4c5b4839c"
      }
     },
     "metadata": {},
     "output_type": "display_data"
    },
    {
     "data": {
      "text/plain": "Map:   0%|          | 0/30 [00:00<?, ? examples/s]",
      "application/vnd.jupyter.widget-view+json": {
       "version_major": 2,
       "version_minor": 0,
       "model_id": "2df22e2e1f474ce689d4a3c7b68180ee"
      }
     },
     "metadata": {},
     "output_type": "display_data"
    }
   ],
   "source": [
    "def tokenize_function(examples):\n",
    "    global tokenizer\n",
    "    return tokenizer(examples[\"text\"], truncation=True)\n",
    "\n",
    "\n",
    "tokenized_data = data.map(tokenize_function, batched=True)"
   ],
   "metadata": {
    "collapsed": false,
    "ExecuteTime": {
     "end_time": "2024-01-14T15:58:52.412469Z",
     "start_time": "2024-01-14T15:58:52.367703Z"
    }
   },
   "id": "5218e581548b7906",
   "execution_count": 31
  },
  {
   "cell_type": "markdown",
   "source": [
    "We use the Training Arguments and the Trainer from huggingface transformers"
   ],
   "metadata": {
    "collapsed": false
   },
   "id": "d16c5fb816935c3f"
  },
  {
   "cell_type": "code",
   "outputs": [],
   "source": [
    "from transformers import TrainingArguments, Trainer, DataCollatorWithPadding\n",
    "\n",
    "training_args = TrainingArguments(\n",
    "    output_dir=\"FineTunedBertClassifier\",\n",
    "    num_train_epochs=20,\n",
    "    learning_rate=1e-3,\n",
    "    per_device_train_batch_size=64,\n",
    "    per_device_eval_batch_size=64,\n",
    "    weight_decay=0.01,\n",
    "    evaluation_strategy=\"epoch\",\n",
    "    save_strategy=\"epoch\",\n",
    "    load_best_model_at_end=True\n",
    ")\n",
    "\n",
    "# Set Huggingface Trainer\n",
    "trainer = Trainer(\n",
    "    model=bert,\n",
    "    args=training_args,\n",
    "    tokenizer=tokenizer,\n",
    "    train_dataset=tokenized_data['train'],\n",
    "    eval_dataset=tokenized_data['validation'],\n",
    ")\n"
   ],
   "metadata": {
    "collapsed": false,
    "ExecuteTime": {
     "end_time": "2024-01-14T15:59:57.307787Z",
     "start_time": "2024-01-14T15:59:57.152127Z"
    }
   },
   "id": "72e89bb7001f6e22",
   "execution_count": 32
  },
  {
   "cell_type": "code",
   "outputs": [
    {
     "name": "stderr",
     "output_type": "stream",
     "text": [
      "You're using a BertTokenizerFast tokenizer. Please note that with a fast tokenizer, using the `__call__` method is faster than using a method to encode the text followed by a call to the `pad` method to get a padded encoding.\n"
     ]
    },
    {
     "data": {
      "text/plain": "<IPython.core.display.HTML object>",
      "text/html": "\n    <div>\n      \n      <progress value='2' max='20' style='width:300px; height:20px; vertical-align: middle;'></progress>\n      [ 2/20 : < :, Epoch 1/20]\n    </div>\n    <table border=\"1\" class=\"dataframe\">\n  <thead>\n <tr style=\"text-align: left;\">\n      <th>Epoch</th>\n      <th>Training Loss</th>\n      <th>Validation Loss</th>\n    </tr>\n  </thead>\n  <tbody>\n  </tbody>\n</table><p>"
     },
     "metadata": {},
     "output_type": "display_data"
    },
    {
     "data": {
      "text/plain": "TrainOutput(global_step=20, training_loss=0.31025118827819825, metrics={'train_runtime': 48.6399, 'train_samples_per_second': 23.026, 'train_steps_per_second': 0.411, 'total_flos': 21303008005440.0, 'train_loss': 0.31025118827819825, 'epoch': 20.0})"
     },
     "execution_count": 33,
     "metadata": {},
     "output_type": "execute_result"
    }
   ],
   "source": [
    "trainer.train()"
   ],
   "metadata": {
    "collapsed": false,
    "ExecuteTime": {
     "end_time": "2024-01-14T16:00:48.671705Z",
     "start_time": "2024-01-14T16:00:00.009710Z"
    }
   },
   "id": "e326d5050acdd29c",
   "execution_count": 33
  },
  {
   "cell_type": "code",
   "outputs": [
    {
     "data": {
      "text/plain": "<IPython.core.display.HTML object>",
      "text/html": "\n    <div>\n      \n      <progress value='1' max='1' style='width:300px; height:20px; vertical-align: middle;'></progress>\n      [1/1 : < :]\n    </div>\n    "
     },
     "metadata": {},
     "output_type": "display_data"
    }
   ],
   "source": [
    "fine_tuned_prediction = trainer.predict(tokenized_data['test'])"
   ],
   "metadata": {
    "collapsed": false,
    "ExecuteTime": {
     "end_time": "2024-01-14T16:01:46.573344Z",
     "start_time": "2024-01-14T16:01:46.370782Z"
    }
   },
   "id": "6c4a247a0417ed3a",
   "execution_count": 37
  },
  {
   "cell_type": "code",
   "outputs": [
    {
     "data": {
      "text/plain": "{'test_loss': 3.1232350011123344e-05,\n 'test_runtime': 0.199,\n 'test_samples_per_second': 150.752,\n 'test_steps_per_second': 5.025}"
     },
     "execution_count": 43,
     "metadata": {},
     "output_type": "execute_result"
    }
   ],
   "source": [
    "fine_tuned_prediction.metrics"
   ],
   "metadata": {
    "collapsed": false,
    "ExecuteTime": {
     "end_time": "2024-01-14T16:02:41.050688Z",
     "start_time": "2024-01-14T16:02:41.041215Z"
    }
   },
   "id": "55cf86062aa798df",
   "execution_count": 43
  },
  {
   "cell_type": "code",
   "outputs": [],
   "source": [
    "preds = fine_tuned_prediction.label_ids"
   ],
   "metadata": {
    "collapsed": false,
    "ExecuteTime": {
     "end_time": "2024-01-14T16:09:29.941018Z",
     "start_time": "2024-01-14T16:09:29.934656Z"
    }
   },
   "id": "7630ff6e48e68cce",
   "execution_count": 48
  },
  {
   "cell_type": "code",
   "outputs": [],
   "source": [
    "top_n = np.isin(preds, fine_tuned_prediction.predictions.argsort(axis=-1)[-5:][::-1])"
   ],
   "metadata": {
    "collapsed": false,
    "ExecuteTime": {
     "end_time": "2024-01-14T16:14:12.781094Z",
     "start_time": "2024-01-14T16:14:12.770665Z"
    }
   },
   "id": "693571a840e0f95d",
   "execution_count": 59
  },
  {
   "cell_type": "code",
   "outputs": [],
   "source": [
    "fine_tuned_metrics = (y_test, preds, accuracy_score(y_test, preds), f1_score(y_test, preds, average='weighted'), top_n)\n"
   ],
   "metadata": {
    "collapsed": false,
    "ExecuteTime": {
     "end_time": "2024-01-14T16:14:13.454177Z",
     "start_time": "2024-01-14T16:14:13.448291Z"
    }
   },
   "id": "7b4cf7995869689a",
   "execution_count": 60
  },
  {
   "cell_type": "code",
   "outputs": [
    {
     "name": "stdout",
     "output_type": "stream",
     "text": [
      "MEAN ACCURACIES : 1.0\n",
      "MEAN F1 SCORE   : 1.0\n",
      "MEAN TOP 5 SCORE: 1.0\n"
     ]
    }
   ],
   "source": [
    "print_mean_metrics(fine_tuned_metrics)"
   ],
   "metadata": {
    "collapsed": false,
    "ExecuteTime": {
     "end_time": "2024-01-14T16:14:15.006566Z",
     "start_time": "2024-01-14T16:14:15.003683Z"
    }
   },
   "id": "381b6f19ed62bea0",
   "execution_count": 61
  },
  {
   "cell_type": "code",
   "outputs": [],
   "source": [
    "x_fine_tuned_edos, y_fine_tuned_edos = np.vectorize(lambda x: category_to_emotion[x])(fine_tuned_metrics[0]), \\\n",
    "    np.vectorize(lambda x: category_to_emotion[x])(fine_tuned_metrics[1])"
   ],
   "metadata": {
    "collapsed": false,
    "ExecuteTime": {
     "end_time": "2024-01-14T16:18:39.630196Z",
     "start_time": "2024-01-14T16:18:39.584864Z"
    }
   },
   "id": "24ff091174f02895",
   "execution_count": 76
  },
  {
   "cell_type": "code",
   "outputs": [
    {
     "data": {
      "text/plain": "<Figure size 1000x1000 with 2 Axes>",
      "image/png": "[encoded data removed]"
     },
     "metadata": {},
     "output_type": "display_data"
    }
   ],
   "source": [
    "fig, ax = plt.subplots(figsize=(10, 10))\n",
    "disp = ConfusionMatrixDisplay.from_predictions(x_fine_tuned_edos, y_fine_tuned_edos,\n",
    "                                               ax=ax,\n",
    "                                               xticks_rotation='vertical',\n",
    "                                               cmap=plt.cm.Blues)"
   ],
   "metadata": {
    "collapsed": false,
    "ExecuteTime": {
     "end_time": "2024-01-14T16:33:33.028943Z",
     "start_time": "2024-01-14T16:33:32.912662Z"
    }
   },
   "id": "e93b0f056ba2c9b1",
   "execution_count": 106
  },
  {
   "cell_type": "code",
   "outputs": [
    {
     "name": "stdout",
     "output_type": "stream",
     "text": [
      "              precision    recall  f1-score   support\n",
      "\n",
      "           0       1.00      1.00      1.00        30\n",
      "\n",
      "    accuracy                           1.00        30\n",
      "   macro avg       1.00      1.00      1.00        30\n",
      "weighted avg       1.00      1.00      1.00        30\n"
     ]
    }
   ],
   "source": [
    "print(classification_report(y_test, preds))"
   ],
   "metadata": {
    "collapsed": false,
    "ExecuteTime": {
     "end_time": "2024-01-14T16:18:59.726772Z",
     "start_time": "2024-01-14T16:18:59.707956Z"
    }
   },
   "id": "41b50c402c07ac56",
   "execution_count": 78
  },
  {
   "cell_type": "markdown",
   "source": [
    "# Zero/Few-shot Learning (DO NOT RUN)\n",
    "Here we explore another approach, we use the transformer pipeline to perform zero shot or few shot learning "
   ],
   "metadata": {
    "collapsed": false
   },
   "id": "ca32568a8911e118"
  },
  {
   "cell_type": "code",
   "outputs": [],
   "source": [
    "from transformers import pipeline\n",
    "\n",
    "pipe = pipeline('zero-shot-classification', model='cross-encoder/nli-distilroberta-base', device=DEVICE,\n",
    "                batch_size=BATCH_SIZE)"
   ],
   "metadata": {
    "collapsed": false,
    "ExecuteTime": {
     "end_time": "2024-01-14T16:21:10.133836Z",
     "start_time": "2024-01-14T16:21:08.345828Z"
    }
   },
   "id": "b0234051fb0480b2",
   "execution_count": 80
  },
  {
   "cell_type": "code",
   "outputs": [
    {
     "data": {
      "text/plain": "  0%|          | 0/1 [00:00<?, ?it/s]",
      "application/vnd.jupyter.widget-view+json": {
       "version_major": 2,
       "version_minor": 0,
       "model_id": "54c18825c1184633ac3e67391a191b41"
      }
     },
     "metadata": {},
     "output_type": "display_data"
    }
   ],
   "source": [
    "from tqdm.notebook import tqdm\n",
    "\n",
    "zero_shot_out_labels = []\n",
    "top_5_zero_shot = []\n",
    "for i in tqdm(range(0, len(X_test), BATCH_SIZE)):\n",
    "    to_feed = X_test[i:i + BATCH_SIZE].tolist()\n",
    "    s = pipe(to_feed, candidate_labels=list(emotions_to_category.keys()))\n",
    "    t = y_test[i:i + BATCH_SIZE].tolist()\n",
    "    for j in range(0, len(s)):\n",
    "        labels = np.array(s[j]['labels'])\n",
    "        probs = np.array(s[j]['scores'])\n",
    "        index = np.argsort(probs)[-5:][::-1]\n",
    "        zero_shot_out_labels.append(probs.argmax())\n",
    "        top_5_zero_shot.append(np.isin(probs.argmax(), index))"
   ],
   "metadata": {
    "collapsed": false,
    "ExecuteTime": {
     "end_time": "2024-01-14T16:32:11.493667Z",
     "start_time": "2024-01-14T16:32:08.814459Z"
    }
   },
   "id": "39325a0b977d55fd",
   "execution_count": 103
  },
  {
   "cell_type": "code",
   "outputs": [],
   "source": [
    "# we compute and present the metrics in inference\n",
    "zero_shot_metrics = (y_test, zero_shot_out_labels, accuracy_score(y_test, zero_shot_out_labels),\n",
    "                     f1_score(y_test, zero_shot_out_labels, average='weighted'), top_5_zero_shot)"
   ],
   "metadata": {
    "collapsed": false,
    "ExecuteTime": {
     "end_time": "2024-01-14T16:32:12.344290Z",
     "start_time": "2024-01-14T16:32:12.333025Z"
    }
   },
   "id": "df9b5c3661d44f94",
   "execution_count": 104
  },
  {
   "cell_type": "code",
   "outputs": [
    {
     "name": "stdout",
     "output_type": "stream",
     "text": [
      "MEAN ACCURACIES : 1.0\n",
      "MEAN F1 SCORE   : 1.0\n",
      "MEAN TOP 5 SCORE: 1.0\n"
     ]
    }
   ],
   "source": [
    "print_mean_metrics(zero_shot_metrics)"
   ],
   "metadata": {
    "collapsed": false,
    "ExecuteTime": {
     "end_time": "2024-01-14T16:32:12.760786Z",
     "start_time": "2024-01-14T16:32:12.754135Z"
    }
   },
   "id": "267631732c49cc11",
   "execution_count": 105
  },
  {
   "cell_type": "code",
   "outputs": [],
   "source": [
    "x_zero_shot_edos, y_zero_shot_edos = np.vectorize(lambda x: category_to_emotion[x])(zero_shot_metrics[0]), \\\n",
    "    np.vectorize(lambda x: category_to_emotion[x])(zero_shot_metrics[1])"
   ],
   "metadata": {
    "collapsed": false,
    "ExecuteTime": {
     "end_time": "2024-01-14T16:34:09.740445Z",
     "start_time": "2024-01-14T16:34:09.713439Z"
    }
   },
   "id": "bf793032241e4a72",
   "execution_count": 107
  },
  {
   "cell_type": "code",
   "outputs": [
    {
     "data": {
      "text/plain": "<Figure size 1000x1000 with 2 Axes>",
      "image/png": "[encoded data removed]"
     },
     "metadata": {},
     "output_type": "display_data"
    }
   ],
   "source": [
    "fig, ax = plt.subplots(figsize=(10, 10))\n",
    "disp = ConfusionMatrixDisplay.from_predictions(x_zero_shot_edos, y_zero_shot_edos,\n",
    "                                               ax=ax,\n",
    "                                               xticks_rotation='vertical',\n",
    "                                               cmap=plt.cm.Blues)"
   ],
   "metadata": {
    "collapsed": false,
    "ExecuteTime": {
     "end_time": "2024-01-14T16:34:50.213160Z",
     "start_time": "2024-01-14T16:34:50.103567Z"
    }
   },
   "id": "82a299ddba7fc15",
   "execution_count": 110
  },
  {
   "cell_type": "code",
   "outputs": [
    {
     "name": "stdout",
     "output_type": "stream",
     "text": [
      "               precision    recall  f1-score   support\n",
      "\n",
      "acknowledging       1.00      1.00      1.00        30\n",
      "\n",
      "     accuracy                           1.00        30\n",
      "    macro avg       1.00      1.00      1.00        30\n",
      " weighted avg       1.00      1.00      1.00        30\n"
     ]
    }
   ],
   "source": [
    "print(classification_report(x_zero_shot_edos, y_zero_shot_edos))"
   ],
   "metadata": {
    "collapsed": false,
    "ExecuteTime": {
     "end_time": "2024-01-14T16:35:05.004779Z",
     "start_time": "2024-01-14T16:35:04.982994Z"
    }
   },
   "id": "33d64c8860df53a9",
   "execution_count": 111
  },
  {
   "cell_type": "markdown",
   "source": [
    "## Few-shot (DO NOT RUN)\n",
    "We use the zero shot configuration but we sample examples from the training set and attach them to the text in inference.\n",
    "The `insert_some_example` function sample some example in a balanced way and return them as text"
   ],
   "metadata": {
    "collapsed": false
   },
   "id": "fdedb28bcfd564ec"
  },
  {
   "cell_type": "code",
   "outputs": [],
   "source": [
    "df_train = pd.DataFrame({'X_train': X_train, 'y_train': np.vectorize(lambda x: category_to_emotion[x])(y_train)})\n",
    "emotion_list = list(emotions_to_category.keys())\n",
    "\n",
    "\n",
    "def row_to_text(row):\n",
    "    return row['X_train'] + ' => ' + row['y_train']\n",
    "\n",
    "\n",
    "df_train_copy = df_train.copy()\n",
    "df_train_copy['X_train'] = df_train.apply(row_to_text, axis=1)\n",
    "df_grouped = df_train_copy.groupby(by=['y_train'])\n",
    "\n",
    "\n",
    "def insert_some_example(n_shot=len(emotion_list), g=12):\n",
    "    global df_grouped, emotion_list\n",
    "    repeat = n_shot // len(emotion_list)\n",
    "    if repeat == 0:\n",
    "        repeat = 1\n",
    "    t = df_grouped.sample(n=repeat, replace=False, random_state=g).loc[:, 'X_train'].to_numpy(dtype=str)\n",
    "    index = np.random.default_rng(g).choice(range(len(t)), replace=False, size=n_shot)\n",
    "    t = t[index]\n",
    "    return '\\n'.join(t)\n"
   ],
   "metadata": {
    "collapsed": false,
    "ExecuteTime": {
     "end_time": "2024-01-14T16:40:07.624208Z",
     "start_time": "2024-01-14T16:40:07.609022Z"
    }
   },
   "id": "bf97c064d24616ee",
   "execution_count": 115
  },
  {
   "cell_type": "code",
   "outputs": [],
   "source": [
    "def few_shot_learning(n_shot):\n",
    "    print_seq = True\n",
    "    out_labels = []\n",
    "    top_5 = []\n",
    "    with torch.no_grad():\n",
    "        for i in tqdm(range(0, len(X_test), BATCH_SIZE)):\n",
    "            if i > 10 * BATCH_SIZE:\n",
    "                print_seq = False\n",
    "            to_feed = X_test[i:i+BATCH_SIZE].tolist()\n",
    "            for j in range(0, len(to_feed)):\n",
    "                to_feed[j] = insert_some_example(n_shot, i+j) + '\\n' + to_feed[j] + ' =>'\n",
    "            s = pipe(to_feed, candidate_labels=emotion_list)\n",
    "            t = [category_to_emotion[c] for c in y_test[i:i+BATCH_SIZE]]\n",
    "            if print_seq:\n",
    "                print(f'SEQUENCE {i}: ', s[0]['sequence'])\n",
    "                print(f'TRUE LABEL:', t[0])\n",
    "            for j in range(0, len(s)):\n",
    "                labels = np.array(s[j]['labels'])\n",
    "                probs = np.array(s[j]['scores'])\n",
    "                index = np.argsort(probs)[-5:][::-1]\n",
    "                out_labels.append(probs.argmax())\n",
    "                top_5.append(t[j] in labels[index])\n",
    "            if print_seq:\n",
    "                print(f'TOP 5: {labels[index]} with probs: {probs[index]}\\n\\n')\n",
    "    return out_labels , top_5      "
   ],
   "metadata": {
    "collapsed": false,
    "ExecuteTime": {
     "end_time": "2024-01-14T16:43:22.542695Z",
     "start_time": "2024-01-14T16:43:22.526703Z"
    }
   },
   "id": "f2c74fd7d0374e1",
   "execution_count": 125
  },
  {
   "cell_type": "code",
   "outputs": [
    {
     "data": {
      "text/plain": "  0%|          | 0/1 [00:00<?, ?it/s]",
      "application/vnd.jupyter.widget-view+json": {
       "version_major": 2,
       "version_minor": 0,
       "model_id": "aedd3802a7d0422d91b8b4313d48760d"
      }
     },
     "metadata": {},
     "output_type": "display_data"
    },
    {
     "name": "stdout",
     "output_type": "stream",
     "text": [
      "SEQUENCE 0:  Khyber , wow . => acknowledging\n",
      "Khyber , wow . => acknowledging\n",
      "Shizuka ! => =>\n",
      "TRUE LABEL: acknowledging\n",
      "TOP 5: ['acknowledging' 'prepared' 'suggesting' 'content' 'agreeing'] with probs: [0.26640582 0.1007853  0.09412713 0.04416276 0.03682113]\n"
     ]
    }
   ],
   "source": [
    "few_shot_learning_out_labels, top_5_few_shot = few_shot_learning(1)"
   ],
   "metadata": {
    "collapsed": false,
    "ExecuteTime": {
     "end_time": "2024-01-14T16:51:04.257859Z",
     "start_time": "2024-01-14T16:51:00.253015Z"
    }
   },
   "id": "70c88de95d3de3df",
   "execution_count": 129
  },
  {
   "cell_type": "code",
   "outputs": [],
   "source": [
    "few_shot_metrics = (y_test, few_shot_learning_out_labels, accuracy_score(y_test, few_shot_learning_out_labels), f1_score(y_test, few_shot_learning_out_labels, average='weighted'), top_5_few_shot)"
   ],
   "metadata": {
    "collapsed": false,
    "ExecuteTime": {
     "end_time": "2024-01-14T16:51:05.048496Z",
     "start_time": "2024-01-14T16:51:05.034239Z"
    }
   },
   "id": "80d3e00393323f59",
   "execution_count": 130
  },
  {
   "cell_type": "code",
   "outputs": [
    {
     "name": "stdout",
     "output_type": "stream",
     "text": [
      "MEAN ACCURACIES : 1.0\n",
      "MEAN F1 SCORE   : 1.0\n",
      "MEAN TOP 5 SCORE: 0.9666666666666667\n"
     ]
    }
   ],
   "source": [
    "print_mean_metrics(few_shot_metrics)"
   ],
   "metadata": {
    "collapsed": false,
    "ExecuteTime": {
     "end_time": "2024-01-14T16:51:44.238625Z",
     "start_time": "2024-01-14T16:51:44.204051Z"
    }
   },
   "id": "1c160328174f8a1c",
   "execution_count": 131
  },
  {
   "cell_type": "code",
   "outputs": [
    {
     "data": {
      "text/plain": "<Figure size 1000x1000 with 2 Axes>",
      "image/png": "[encoded data removed]"
     },
     "metadata": {},
     "output_type": "display_data"
    }
   ],
   "source": [
    "x_few_shot_edos, y_few_shot_edos = np.vectorize(lambda x: category_to_emotion[x])(few_shot_metrics[0]), \\\n",
    "    np.vectorize(lambda x: category_to_emotion[x])(few_shot_metrics[1])\n",
    "fig, ax = plt.subplots(figsize=(10, 10))\n",
    "disp = ConfusionMatrixDisplay.from_predictions(x_few_shot_edos, y_few_shot_edos,\n",
    "                                               ax=ax,\n",
    "                                               xticks_rotation='vertical',\n",
    "                                               cmap=plt.cm.Blues)"
   ],
   "metadata": {
    "collapsed": false,
    "ExecuteTime": {
     "end_time": "2024-01-14T16:52:35.457701Z",
     "start_time": "2024-01-14T16:52:35.331473Z"
    }
   },
   "id": "484d0e1e9b096b0c",
   "execution_count": 132
  },
  {
   "cell_type": "code",
   "outputs": [
    {
     "name": "stdout",
     "output_type": "stream",
     "text": [
      "               precision    recall  f1-score   support\n",
      "\n",
      "acknowledging       1.00      1.00      1.00        30\n",
      "\n",
      "     accuracy                           1.00        30\n",
      "    macro avg       1.00      1.00      1.00        30\n",
      " weighted avg       1.00      1.00      1.00        30\n"
     ]
    }
   ],
   "source": [
    "print(classification_report(x_few_shot_edos, y_few_shot_edos))"
   ],
   "metadata": {
    "collapsed": false,
    "ExecuteTime": {
     "end_time": "2024-01-14T16:52:49.360509Z",
     "start_time": "2024-01-14T16:52:49.328722Z"
    }
   },
   "id": "90f1f953d3ebe93",
   "execution_count": 133
  },
  {
   "cell_type": "markdown",
   "source": [
    "# AUDIO-TEXT \n",
    "Here we explore and combine different approaches. To be precise we explore how the model performs when audio features are included.\n",
    "# Speech to emotion\n",
    "\n",
    "For this part of the project we used the dataset \"IEMOCAP: Interactive emotional dyadic motion capture database.\"\n",
    "The dataset contains conversations audio, transcription, video and motion-capture.\n",
    "We discarded the transcription, video and motion-capture features and we used only the audio.\n",
    "\n",
    "We performed a transcription of the audio using Whisper."
   ],
   "metadata": {
    "collapsed": false
   },
   "id": "468b1228e5a677f7"
  },
  {
   "cell_type": "code",
   "outputs": [],
   "source": [
    "speech_to_text = whisper.load_model(\"base.en\", in_memory=True)\n",
    "def parse_audio(path):\n",
    "    audio = whisper.load_audio(path)\n",
    "    audio = whisper.pad_or_trim(audio)\n",
    "    mel = whisper.log_mel_spectrogram(audio).to(speech_to_text.device)\n",
    "    options = whisper.DecodingOptions(fp16=False, language=\"en\")\n",
    "    result = whisper.decode(speech_to_text, mel, options)\n",
    "    text = result.text\n",
    "    return [text, mel]"
   ],
   "metadata": {
    "collapsed": false
   },
   "id": "6bfa4ca05f820109"
  },
  {
   "cell_type": "markdown",
   "source": [],
   "metadata": {
    "collapsed": false
   },
   "id": "27b0674e74995d3d"
  },
  {
   "cell_type": "code",
   "outputs": [],
   "source": [
    "sessions = [\"Session1\",\"Session2\",\"Session3\",\"Session4\", \"Session5\"]\n",
    "missing_sessions = []\n",
    "for i in sessions:\n",
    "    if not os.path.exists(f\"./{i}.pkl\"):\n",
    "        missing_sessions.append(i)\n",
    "\n",
    "for i in missing_sessions:\n",
    "    dir = f\"./{i}/dialog/EmoEvaluation/\"\n",
    "    files = os.listdir(dir)\n",
    "    files_dictionary = {}\n",
    "    for i in os.listdir(dir):\n",
    "        if i.endswith(\".txt\"):\n",
    "            file = open(dir + i, \"r\")\n",
    "            for line in file:\n",
    "                if line.startswith(\"[\"):\n",
    "                    line = line.split()\n",
    "                    path = \"_\".join(line[3].split(\"_\")[:-1])\n",
    "                    if path in files_dictionary:\n",
    "                        files_dictionary[path][line[3]] = [line[4]]\n",
    "                    else:\n",
    "                        files_dictionary[path] = {line[3]: [line[4]]}\n",
    "            file.close()\n",
    "    audio_path = f\"./{i}/sentences/wav/\"\n",
    "    for key in tqdm(files_dictionary):\n",
    "        for file in files_dictionary[key]:\n",
    "            path = audio_path + key + \"/\" + file + \".wav\"\n",
    "            files_dictionary[key][file] = files_dictionary[key][file] + parse_audio(path)\n",
    "    print(f\"Saving {i}\")\n",
    "    pickle.dump(files_dictionary, open(f\"{i}.pkl\", \"wb\"))\n",
    "    "
   ],
   "metadata": {
    "collapsed": false
   },
   "id": "84d0d9d04985457b"
  },
  {
   "cell_type": "code",
   "outputs": [],
   "source": [
    "session1 = pickle.load(open(\"Session1.pkl\", \"rb\"))\n",
    "session2 = pickle.load(open(\"Session2.pkl\", \"rb\"))\n",
    "session3 = pickle.load(open(\"Session3.pkl\", \"rb\"))\n",
    "session4 = pickle.load(open(\"Session4.pkl\", \"rb\"))\n",
    "session5 = pickle.load(open(\"Session5.pkl\", \"rb\"))"
   ],
   "metadata": {
    "collapsed": false
   },
   "id": "6b269b709e3f87be"
  },
  {
   "cell_type": "markdown",
   "source": [
    "# Data analysis\n",
    "\n",
    "We are only interested in emotions that are clearly identifiable.\n",
    "We proceeded in removing emotions that are not common and we removed al the emotions flagged as \"other\"."
   ],
   "metadata": {
    "collapsed": false
   },
   "id": "b2a1322a9f33f91b"
  },
  {
   "cell_type": "code",
   "outputs": [],
   "source": [
    "emotions = {}\n",
    "for i in [session1, session2, session3, session4, session5]:\n",
    "    for j in i.keys():\n",
    "        for k in i[j].keys():\n",
    "            if i[j][k][0] not in emotions.keys():\n",
    "                emotions[i[j][k][0]] = 1\n",
    "            else:\n",
    "                emotions[i[j][k][0]] += 1\n",
    "print(\"All emotions\")\n",
    "print(\"-\" * 50)\n",
    "for i in emotions.keys():\n",
    "    print(i, emotions[i])\n",
    "print(\"-\" * 50)\n",
    "\n",
    "print(\"filtered emotions\")\n",
    "print(\"-\" * 50)\n",
    "emotions_to_remove = []\n",
    "for i in emotions.keys():\n",
    "    if emotions[i] < 150:\n",
    "        emotions_to_remove.append(i)\n",
    "        emotions[\"xxx\"] += emotions[i]\n",
    "for i in emotions_to_remove:\n",
    "    del emotions[i]\n",
    "for i in emotions.keys():\n",
    "    print(i, emotions[i])\n",
    "print(\"-\" * 50)\n",
    "for i in [session1, session2, session3, session4, session5]:\n",
    "    for j in i.keys():\n",
    "        for k in i[j].keys():\n",
    "            if i[j][k][0] in emotions_to_remove:\n",
    "                i[j][k][0] = \"xxx\"\n",
    "emotions = {}\n",
    "for i in [session1, session2, session3, session4, session5]:\n",
    "    for j in i.keys():\n",
    "        for k in i[j].keys():\n",
    "            if i[j][k][0] not in emotions.keys():\n",
    "                emotions[i[j][k][0]] = 1\n",
    "            else:\n",
    "                emotions[i[j][k][0]] += 1"
   ],
   "metadata": {
    "collapsed": false
   },
   "id": "dc42fce4599f3983"
  },
  {
   "cell_type": "code",
   "outputs": [],
   "source": [
    "all_data = []\n",
    "for i in [session1, session2, session3, session4, session5]:\n",
    "    for j in i.keys():\n",
    "        for k in i[j].keys():\n",
    "            if i[j][k][0] != \"xxx\":\n",
    "                all_data.append(i[j][k])\n",
    "print(\"Total data points\", len(all_data))"
   ],
   "metadata": {
    "collapsed": false
   },
   "id": "fa63297c0b586bc8"
  },
  {
   "cell_type": "markdown",
   "source": [
    "# Model\n",
    "\n",
    "As in the previous part we extracted features from the text using BERT, we are using the output of the last four layers of the model and we are combining them together as input to the part of the network responsible for the text.\n",
    "For the part of the model responsible in extracting information from the audio we pass the mel spectrogram."
   ],
   "metadata": {
    "collapsed": false
   },
   "id": "a6457b1357777af1"
  },
  {
   "cell_type": "code",
   "outputs": [],
   "source": [
    "class TextAudioDataloader(Dataset):\n",
    "    def __init__(self, text_model, tokenizer, data):\n",
    "        self.text_model = text_model\n",
    "        self.tokenizer = tokenizer\n",
    "        self.data = data\n",
    "        self.emotion_to_one_hot = {\n",
    "            \"ang\": torch.tensor([1, 0, 0, 0, 0, 0], dtype=torch.float32),\n",
    "            \"fru\": torch.tensor([0, 1, 0, 0, 0, 0], dtype=torch.float32),\n",
    "            \"neu\": torch.tensor([0, 0, 1, 0, 0, 0], dtype=torch.float32),\n",
    "            \"sad\": torch.tensor([0, 0, 0, 1, 0, 0], dtype=torch.float32),\n",
    "            \"exc\": torch.tensor([0, 0, 0, 0, 1, 0], dtype=torch.float32),\n",
    "            \"hap\": torch.tensor([0, 0, 0, 0, 0, 1], dtype=torch.float32),\n",
    "        }\n",
    "\n",
    "    def __len__(self):\n",
    "        return len(self.data)\n",
    "\n",
    "    def __getitem__(self, idx):\n",
    "        with torch.no_grad():\n",
    "            emotion, text, audio = self.data[idx]\n",
    "            encoded_input = self.tokenizer(text, return_tensors=\"pt\").to(\n",
    "                self.text_model.device\n",
    "            )\n",
    "            output_text_features = self.text_model(**encoded_input)\n",
    "            all_hidden_states = torch.stack(output_text_features[\"hidden_states\"])\n",
    "            concatenate_pooling = torch.cat(\n",
    "                (\n",
    "                    all_hidden_states[-1],\n",
    "                    all_hidden_states[-2],\n",
    "                    all_hidden_states[-3],\n",
    "                    all_hidden_states[-4],\n",
    "                ),\n",
    "                -1,\n",
    "            )\n",
    "            concatenate_pooling = concatenate_pooling[:, 0]\n",
    "            return (\n",
    "                concatenate_pooling.squeeze(0).float(),\n",
    "                audio.unsqueeze(0),\n",
    "                self.emotion_to_one_hot[emotion],\n",
    "            )"
   ],
   "metadata": {
    "collapsed": false
   },
   "id": "8f31f7650018b697"
  },
  {
   "cell_type": "code",
   "outputs": [],
   "source": [
    "config = AutoConfig.from_pretrained(\"bert-base-uncased\")\n",
    "config.update({\"output_hidden_states\": True})\n",
    "tokenizer = AutoTokenizer.from_pretrained(\"bert-base-uncased\", config=config)\n",
    "text_to_embeddings = AutoModel.from_pretrained(\n",
    "    \"bert-base-uncased\", config=config, torch_dtype=torch.float16\n",
    ")\n",
    "text_to_embeddings = text_to_embeddings.to(DEVICE)"
   ],
   "metadata": {
    "collapsed": false
   },
   "id": "dba9fd4f39ed86db"
  },
  {
   "cell_type": "code",
   "outputs": [],
   "source": [
    "dataset = TextAudioDataloader(text_to_embeddings, tokenizer, all_data)\n",
    "train_dataset, validation_dataset, test_dataset = random_split(\n",
    "    dataset, [0.7, 0.2, 0.1]\n",
    ")\n",
    "train_loader = DataLoader(train_dataset, batch_size=16, shuffle=True)\n",
    "validation_loader = DataLoader(validation_dataset, batch_size=16, shuffle=False)\n",
    "test_loader = DataLoader(test_dataset, batch_size=16, shuffle=False)"
   ],
   "metadata": {
    "collapsed": false
   },
   "id": "a92f717f8839cf2f"
  },
  {
   "cell_type": "markdown",
   "source": [
    "Here we define the Audio and text model, text and audio flags allows us to produce different combinations "
   ],
   "metadata": {
    "collapsed": false
   },
   "id": "2e92970bef68311"
  },
  {
   "cell_type": "code",
   "outputs": [],
   "source": [
    "class AudioAndTextModel(pl.LightningModule):\n",
    "    def __init__(self, num_classes, dropout=0.0, text=False, audio=False, probability_removing_audio=0.0):\n",
    "        super().__init__()\n",
    "        self.save_hyperparameters()\n",
    "        self.num_classes = num_classes\n",
    "        self.text = text\n",
    "        self.audio = audio\n",
    "        self.probability_removing_audio = probability_removing_audio\n",
    "\n",
    "        if audio:\n",
    "            self.audio_model = nn.Sequential(\n",
    "                nn.Conv2d(1, 16, kernel_size=(3, 3), stride=(2, 2)),\n",
    "                nn.SiLU(),\n",
    "                nn.MaxPool2d(kernel_size=(4, 4)),\n",
    "                nn.Conv2d(16, 32, kernel_size=(3, 3), stride=(2, 2)),\n",
    "                nn.SiLU(),\n",
    "                nn.MaxPool2d(kernel_size=(4, 4)),\n",
    "                nn.Flatten(),\n",
    "                nn.Linear(1472, 512),\n",
    "                nn.Dropout(dropout),\n",
    "                nn.SiLU(),\n",
    "                nn.Linear(512, 256),\n",
    "                nn.Dropout(dropout),\n",
    "                nn.SiLU(),\n",
    "            )\n",
    "\n",
    "        if text:\n",
    "            self.text_linear = nn.Sequential(\n",
    "                nn.Linear(3072, 256),\n",
    "                nn.Dropout(dropout),\n",
    "                nn.SiLU(),\n",
    "            )\n",
    "\n",
    "        if text and audio:\n",
    "            self.linear = nn.Sequential(\n",
    "                nn.Linear(512, 256),\n",
    "                nn.Dropout(dropout),\n",
    "                nn.SiLU(),\n",
    "                nn.Linear(256, num_classes),\n",
    "            )\n",
    "        else:\n",
    "            self.linear = nn.Sequential(\n",
    "                nn.Linear(256, num_classes),\n",
    "            )\n",
    "\n",
    "    def forward(self, audio, text):\n",
    "        if self.text and not self.audio:\n",
    "            features = self.text_linear(text)\n",
    "        elif self.audio and not self.text:\n",
    "            features = self.audio_model(audio)\n",
    "        else:\n",
    "            text_features = self.text_linear(text)\n",
    "            if random.random() < self.probability_removing_audio and self.training:\n",
    "                audio_features = torch.zeros_like(text_features)\n",
    "            else:\n",
    "                audio_features = self.audio_model(audio)\n",
    "            features = torch.cat((audio_features, text_features), dim=1)\n",
    "\n",
    "        return self.linear(features)\n",
    "\n",
    "    def training_step(self, batch, batch_idx):\n",
    "        text, audio, labels = batch\n",
    "        logits = self(audio, text)\n",
    "\n",
    "        loss = F.cross_entropy(logits, labels, label_smoothing=0.3)\n",
    "        self.log(\n",
    "            \"train_loss\", loss, on_step=True, on_epoch=True, prog_bar=True, logger=True\n",
    "        )\n",
    "\n",
    "        accuracy = self.accuracy(logits, labels)\n",
    "        self.log(\n",
    "            \"train_acc\",\n",
    "            accuracy,\n",
    "            on_step=True,\n",
    "            on_epoch=True,\n",
    "            prog_bar=True,\n",
    "            logger=True,\n",
    "        )\n",
    "        return loss\n",
    "\n",
    "    def validation_step(self, batch, batch_idx):\n",
    "        text, audio, labels = batch\n",
    "        logits = self(audio, text)\n",
    "\n",
    "        loss = F.cross_entropy(logits, labels)\n",
    "        self.log(\n",
    "            \"val_loss\", loss, on_step=True, on_epoch=True, prog_bar=True, logger=True\n",
    "        )\n",
    "\n",
    "        accuracy = self.accuracy(logits, labels)\n",
    "        self.log(\n",
    "            \"val_acc\", accuracy, on_step=True, on_epoch=True, prog_bar=True, logger=True\n",
    "        )\n",
    "        top_2_accuracy = self.top_k_accuracy(logits, labels, k=2)\n",
    "        self.log(\n",
    "            \"val_top_2_acc\", top_2_accuracy, on_step=True, on_epoch=True, prog_bar=True, logger=True\n",
    "        )\n",
    "    \n",
    "    def test_step(self, batch, batch_idx):\n",
    "        text, audio, labels = batch\n",
    "        logits = self(audio, text)\n",
    "\n",
    "        loss = F.cross_entropy(logits, labels)\n",
    "        self.log(\n",
    "            \"test_loss\", loss, on_step=True, on_epoch=True, prog_bar=True, logger=True\n",
    "        )\n",
    "\n",
    "        accuracy = self.accuracy(logits, labels)\n",
    "        self.log(\n",
    "            \"test_acc\", accuracy, on_step=True, on_epoch=True, prog_bar=True, logger=True\n",
    "        )\n",
    "\n",
    "        top_2_accuracy = self.top_k_accuracy(logits, labels, k=2)\n",
    "        self.log(\n",
    "            \"test_top_2_acc\", top_2_accuracy, on_step=True, on_epoch=True, prog_bar=True, logger=True\n",
    "        )\n",
    "    \n",
    "    def predict_step(self, batch, batch_idx, dataloader_idx=None):\n",
    "        text, audio, labels = batch\n",
    "        logits = self(audio, text)\n",
    "        return torch.softmax(logits, dim=1)\n",
    "\n",
    "    def accuracy(self, logits, labels):\n",
    "        return torch.sum(\n",
    "            torch.argmax(logits, dim=1) == torch.argmax(labels, dim=1)\n",
    "        ).item() / len(labels)\n",
    "    \n",
    "    def top_k_accuracy(self, logits, labels, k=2):\n",
    "        y_true = torch.argmax(labels, dim=1).detach().cpu().numpy()\n",
    "        y_pred = logits.detach().cpu().numpy()\n",
    "        y_pred = np.argsort(y_pred, axis=-1)[:, -k:]\n",
    "        return np.mean(np.isin(y_true[:, np.newaxis], y_pred))\n",
    "\n",
    "    def configure_optimizers(self):\n",
    "        optimizer = torch.optim.Adam(self.parameters(), lr=5e-4)\n",
    "        return optimizer"
   ],
   "metadata": {
    "collapsed": false
   },
   "id": "ff790f8f3d59d31d"
  },
  {
   "cell_type": "markdown",
   "source": [
    "# MODEL ONLY WITH TEXT"
   ],
   "metadata": {
    "collapsed": false
   },
   "id": "b672432fc66b7e66"
  },
  {
   "cell_type": "code",
   "outputs": [],
   "source": [
    "from pytorch_lightning.callbacks import EarlyStopping, ModelCheckpoint\n",
    "\n",
    "model_only_text = AudioAndTextModel(6, text=True)\n",
    "early_stopping = EarlyStopping(monitor=\"val_acc\", mode=\"max\", patience=10)\n",
    "checkpoint_callback_only_text = ModelCheckpoint(\n",
    "    dirpath=\"checkpoints\",\n",
    "    filename=\"{epoch}-{val_acc:.2f}-{val_loss:.2f}.ckpt\",\n",
    "    save_top_k=1,\n",
    "    monitor=\"val_acc\",\n",
    "    mode=\"max\",\n",
    "    save_last=True,\n",
    ")\n",
    "trainer_only_text = pl.Trainer(\n",
    "    accelerator=DEVICE.type,\n",
    "    max_epochs=1000,\n",
    "    accumulate_grad_batches=4,\n",
    "    callbacks=[early_stopping, checkpoint_callback_only_text],\n",
    ")\n",
    "\n",
    "trainer_only_text.fit(model_only_text, train_loader, test_loader)\n",
    "trainer_only_text.test(ckpt_path=checkpoint_callback_only_text.best_model_path, dataloaders=test_loader, verbose=True)"
   ],
   "metadata": {
    "collapsed": false
   },
   "id": "237312c4889b5d13"
  },
  {
   "cell_type": "markdown",
   "source": [
    "## MODEL ONLY WITH AUDIO"
   ],
   "metadata": {
    "collapsed": false
   },
   "id": "d65f07ef88037d0c"
  },
  {
   "cell_type": "code",
   "outputs": [],
   "source": [
    "model_only_audio = AudioAndTextModel(6, audio=True)\n",
    "early_stopping = EarlyStopping(monitor=\"val_acc\", mode=\"max\", patience=10)\n",
    "checkpoint_callback_only_audio = ModelCheckpoint(\n",
    "    dirpath=\"checkpoints_audio\",\n",
    "    filename=\"{epoch}-{val_acc:.2f}-{val_loss:.2f}.ckpt\",\n",
    "    save_top_k=1,\n",
    "    monitor=\"val_acc\",\n",
    "    mode=\"max\",\n",
    "    save_last=True,\n",
    ")\n",
    "trainer_only_audio = pl.Trainer(\n",
    "    accelerator=DEVICE.type,\n",
    "    max_epochs=1000,\n",
    "    accumulate_grad_batches=4,\n",
    "    callbacks=[early_stopping, checkpoint_callback_only_audio],\n",
    ")\n",
    "\n",
    "trainer_only_audio.fit(model_only_audio, train_loader, test_loader)\n",
    "trainer_only_audio.test(ckpt_path=checkpoint_callback_only_audio.best_model_path, dataloaders=test_loader, verbose=True)"
   ],
   "metadata": {
    "collapsed": false
   },
   "id": "38224d3c353fe9ae"
  },
  {
   "cell_type": "markdown",
   "source": [
    "## MODEL WITH BOTH AUDIO AND TEXT"
   ],
   "metadata": {
    "collapsed": false
   },
   "id": "74c5e6ce4926e9b1"
  },
  {
   "cell_type": "code",
   "outputs": [],
   "source": [
    "from pytorch_lightning.callbacks import EarlyStopping, ModelCheckpoint\n",
    "\n",
    "model_both = AudioAndTextModel(6, audio=True, text=True)\n",
    "early_stopping = EarlyStopping(monitor=\"val_acc\", mode=\"max\", patience=10)\n",
    "checkpoint_callback_both = ModelCheckpoint(\n",
    "    dirpath=\"checkpoints_audio_text\",\n",
    "    filename=\"{epoch}-{val_acc:.2f}-{val_loss:.2f}.ckpt\",\n",
    "    save_top_k=1,\n",
    "    monitor=\"val_acc\",\n",
    "    mode=\"max\",\n",
    "    save_last=True,\n",
    ")\n",
    "trainer_both = pl.Trainer(\n",
    "    accelerator=DEVICE.type,\n",
    "    max_epochs=1000,\n",
    "    accumulate_grad_batches=4,\n",
    "    callbacks=[early_stopping, checkpoint_callback_both],\n",
    ")\n",
    "\n",
    "trainer_both.fit(model_both, train_loader, test_loader)\n",
    "trainer_both.test(ckpt_path=checkpoint_callback_both.best_model_path, dataloaders=test_loader, verbose=True)"
   ],
   "metadata": {
    "collapsed": false
   },
   "id": "ecaa6c84e5d21084"
  },
  {
   "cell_type": "markdown",
   "source": [
    "# MODEL WITH TEXT AND AUDIO MASKING"
   ],
   "metadata": {
    "collapsed": false
   },
   "id": "812ebdcd9992a245"
  },
  {
   "cell_type": "code",
   "outputs": [],
   "source": [
    "from pytorch_lightning.callbacks import EarlyStopping, ModelCheckpoint\n",
    "\n",
    "model_mask = AudioAndTextModel(6, audio=True, text=True, probability_removing_audio=0.2)\n",
    "early_stopping = EarlyStopping(monitor=\"val_acc\", mode=\"max\", patience=10)\n",
    "checkpoint_callback_mask = ModelCheckpoint(\n",
    "    dirpath=\"checkpoints_audio_text_prob_0.2\",\n",
    "    filename=\"{epoch}-{val_acc:.2f}-{val_loss:.2f}.ckpt\",\n",
    "    save_top_k=1,\n",
    "    monitor=\"val_acc\",\n",
    "    mode=\"max\",\n",
    "    save_last=True,\n",
    ")\n",
    "trainer_mask = pl.Trainer(\n",
    "    accelerator=DEVICE.type,\n",
    "    max_epochs=1000,\n",
    "    accumulate_grad_batches=4,\n",
    "    callbacks=[early_stopping, checkpoint_callback_mask],\n",
    ")\n",
    "\n",
    "trainer_mask.fit(model_mask, train_loader, test_loader)\n",
    "trainer_mask.test(ckpt_path=checkpoint_callback_mask.best_model_path, dataloaders=test_loader, verbose=True)"
   ],
   "metadata": {
    "collapsed": false
   },
   "id": "c067bb5e2463ff32"
  },
  {
   "cell_type": "code",
   "outputs": [],
   "source": [
    "record_to_file(\"only_text.wav\")\n",
    "\n",
    "model_input = parse_audio(\"only_text.wav\")\n",
    "model_input = [\"\"]+model_input\n",
    "\n",
    "data_input = TextAudioDataloader(text_to_embeddings, tokenizer, [model_input])\n",
    "user_input_loader = DataLoader(data_input, batch_size=1, shuffle=False)\n",
    "\n",
    "trainer_only_text.predict(dataloaders=user_input_loader, ckpt_path=checkpoint_callback_mask.best_model_path)"
   ],
   "metadata": {
    "collapsed": false
   },
   "id": "bc8d9a180766db68"
  }
 ],
 "metadata": {
  "kernelspec": {
   "display_name": "Python 3",
   "language": "python",
   "name": "python3"
  },
  "language_info": {
   "codemirror_mode": {
    "name": "ipython",
    "version": 2
   },
   "file_extension": ".py",
   "mimetype": "text/x-python",
   "name": "python",
   "nbconvert_exporter": "python",
   "pygments_lexer": "ipython2",
   "version": "2.7.6"
  }
 },
 "nbformat": 4,
 "nbformat_minor": 5
}
