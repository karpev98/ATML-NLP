{
 "cells": [
  {
   "cell_type": "code",
   "execution_count": null,
   "id": "initial_id",
   "metadata": {
    "ExecuteTime": {
     "end_time": "2024-01-11T17:26:28.012676Z",
     "start_time": "2024-01-11T17:26:28.008061Z"
    },
    "collapsed": true
   },
   "outputs": [],
   "source": [
    "import numpy as np\n",
    "import pandas as pd\n",
    "import matplotlib.pyplot as plt\n",
    "import seaborn as sns"
   ]
  },
  {
   "cell_type": "code",
   "execution_count": null,
   "metadata": {
    "ExecuteTime": {
     "end_time": "2024-01-11T17:26:30.829237Z",
     "start_time": "2024-01-11T17:26:28.010539Z"
    },
    "collapsed": false
   },
   "outputs": [],
   "source": [
    "df = pd.read_csv('dataset/EDOS 1M.csv')"
   ]
  },
  {
   "cell_type": "code",
   "execution_count": null,
   "id": "51a3938169c098f0",
   "metadata": {
    "ExecuteTime": {
     "end_time": "2024-01-11T17:26:30.839146Z",
     "start_time": "2024-01-11T17:26:30.831038Z"
    },
    "collapsed": false
   },
   "outputs": [],
   "source": [
    "df.head(20)"
   ]
  },
  {
   "cell_type": "markdown",
   "id": "564df8e0864a7612",
   "metadata": {
    "collapsed": false
   },
   "source": [
    "# EXAMPLE"
   ]
  },
  {
   "cell_type": "code",
   "execution_count": null,
   "id": "b479318eb10aa984",
   "metadata": {
    "ExecuteTime": {
     "end_time": "2024-01-11T17:26:30.843309Z",
     "start_time": "2024-01-11T17:26:30.838877Z"
    },
    "collapsed": false
   },
   "outputs": [],
   "source": [
    "print(df.loc[0, 'uttr'])\n",
    "print('ASSOCIATED EMOTION:', df.loc[0, 'eb+_emot'])\n",
    "print('CONFIDENCE:', df.loc[0, 'label_confidence'])"
   ]
  },
  {
   "cell_type": "markdown",
   "id": "f43e7bc9db1d7f28",
   "metadata": {
    "collapsed": false
   },
   "source": [
    "# Nan Values"
   ]
  },
  {
   "cell_type": "code",
   "execution_count": null,
   "id": "47c0f1dd2a35fa9d",
   "metadata": {
    "ExecuteTime": {
     "end_time": "2024-01-11T17:26:30.952547Z",
     "start_time": "2024-01-11T17:26:30.842811Z"
    },
    "collapsed": false
   },
   "outputs": [],
   "source": [
    "df.isna().sum()"
   ]
  },
  {
   "cell_type": "markdown",
   "id": "2aa3ee54ef5161af",
   "metadata": {
    "collapsed": false
   },
   "source": [
    "# SIMPLE STATS"
   ]
  },
  {
   "cell_type": "code",
   "execution_count": null,
   "id": "8a384877b54c7ed0",
   "metadata": {
    "ExecuteTime": {
     "end_time": "2024-01-11T17:26:30.955488Z",
     "start_time": "2024-01-11T17:26:30.952584Z"
    },
    "collapsed": false
   },
   "outputs": [],
   "source": [
    "n_features = df.shape[1]\n",
    "n_observations = df.shape[0]\n",
    "print('DATASET includes {} observations and {} features'.format(n_features, n_observations))"
   ]
  },
  {
   "cell_type": "code",
   "execution_count": null,
   "id": "9bc3778bc69ad0a",
   "metadata": {
    "ExecuteTime": {
     "end_time": "2024-01-11T17:26:30.960065Z",
     "start_time": "2024-01-11T17:26:30.958107Z"
    },
    "collapsed": false
   },
   "outputs": [],
   "source": [
    "df.info()"
   ]
  },
  {
   "cell_type": "code",
   "execution_count": null,
   "id": "5dcd09c31a0a9d70",
   "metadata": {
    "ExecuteTime": {
     "end_time": "2024-01-11T17:26:31.119183Z",
     "start_time": "2024-01-11T17:26:30.962856Z"
    },
    "collapsed": false
   },
   "outputs": [],
   "source": [
    "df.describe()"
   ]
  },
  {
   "cell_type": "code",
   "execution_count": null,
   "id": "cce99b2cd5770c1c",
   "metadata": {
    "ExecuteTime": {
     "end_time": "2024-01-11T17:26:31.387552Z",
     "start_time": "2024-01-11T17:26:31.118554Z"
    },
    "collapsed": false
   },
   "outputs": [],
   "source": [
    "(df.loc[:, 'uttr'].apply(len) <= 0).sum()"
   ]
  },
  {
   "cell_type": "code",
   "execution_count": null,
   "id": "4506c921ec3015e4",
   "metadata": {
    "ExecuteTime": {
     "end_time": "2024-01-11T17:26:31.390131Z",
     "start_time": "2024-01-11T17:26:31.387017Z"
    },
    "collapsed": false
   },
   "outputs": [],
   "source": [
    "# how many emotions?\n",
    "emotions = df.loc[:, 'eb+_emot']"
   ]
  },
  {
   "cell_type": "code",
   "execution_count": null,
   "id": "8639a0ce4a528d0d",
   "metadata": {
    "ExecuteTime": {
     "end_time": "2024-01-11T17:26:31.475113Z",
     "start_time": "2024-01-11T17:26:31.399587Z"
    },
    "collapsed": false
   },
   "outputs": [],
   "source": [
    "unique_emotions = emotions.unique()\n",
    "n_emotions = len(unique_emotions)\n",
    "print('DATASET includes {} emotions'.format(n_emotions))\n",
    "print(unique_emotions)"
   ]
  },
  {
   "cell_type": "code",
   "execution_count": null,
   "id": "61c428445eff482c",
   "metadata": {
    "ExecuteTime": {
     "end_time": "2024-01-11T17:26:32.966201Z",
     "start_time": "2024-01-11T17:26:31.475261Z"
    },
    "collapsed": false
   },
   "outputs": [],
   "source": [
    "emotions_, count_ = np.unique(emotions, return_counts=True)"
   ]
  },
  {
   "cell_type": "code",
   "execution_count": null,
   "id": "57d900b2be719751",
   "metadata": {
    "ExecuteTime": {
     "end_time": "2024-01-11T17:26:33.245498Z",
     "start_time": "2024-01-11T17:26:32.960905Z"
    },
    "collapsed": false
   },
   "outputs": [],
   "source": [
    "fig = plt.figure(1, figsize=(12, 6))\n",
    "plt.bar(emotions_, count_)\n",
    "plt.xticks(rotation=90)\n",
    "plt.tight_layout()\n",
    "plt.show()"
   ]
  },
  {
   "cell_type": "code",
   "execution_count": null,
   "id": "8b42251439a729dc",
   "metadata": {
    "ExecuteTime": {
     "end_time": "2024-01-11T17:26:37.225794Z",
     "start_time": "2024-01-11T17:26:33.236797Z"
    },
    "collapsed": false
   },
   "outputs": [],
   "source": [
    "print(f'Least frequent emotion: {emotions_[np.argmin(count_)]} with {np.min(count_)} occurrences')\n",
    "print(f'Most frequent emotion: {emotions_[np.argmax(count_)]} with {np.max(count_)} occurrences')\n",
    "balance_df = []\n",
    "least_freq = np.min(count_)\n",
    "generator = np.random.default_rng(0)\n",
    "for emo in emotions_:\n",
    "    print('deleting for {}'.format(emo))\n",
    "    group = df[df.loc[:, 'eb+_emot'] == emo].copy(deep=True).reset_index(drop=True)\n",
    "    group_size = len(group)\n",
    "    if group_size == least_freq:\n",
    "        balance_df.append(group)\n",
    "        continue\n",
    "    select_random = generator.choice(range(group_size), size=group_size - least_freq, replace=False)\n",
    "    group.drop(select_random, axis=0, inplace=True)\n",
    "    print(group.shape)\n",
    "    balance_df.append(group.copy())\n",
    "print('DATASET is balanced')"
   ]
  },
  {
   "cell_type": "code",
   "execution_count": null,
   "id": "d4f1a9e6213b3397",
   "metadata": {
    "ExecuteTime": {
     "end_time": "2024-01-11T17:26:37.238844Z",
     "start_time": "2024-01-11T17:26:37.226014Z"
    },
    "collapsed": false
   },
   "outputs": [],
   "source": [
    "balance_df = pd.concat(balance_df)\n",
    "balance_df.shape"
   ]
  },
  {
   "cell_type": "code",
   "execution_count": null,
   "id": "2815d6fc005e0e81",
   "metadata": {
    "ExecuteTime": {
     "end_time": "2024-01-11T17:26:37.249014Z",
     "start_time": "2024-01-11T17:26:37.241150Z"
    },
    "collapsed": false
   },
   "outputs": [],
   "source": [
    "balance_df.head(1000)"
   ]
  },
  {
   "cell_type": "code",
   "execution_count": null,
   "id": "1501dc79674356b2",
   "metadata": {
    "ExecuteTime": {
     "end_time": "2024-01-11T17:26:37.540934Z",
     "start_time": "2024-01-11T17:26:37.250092Z"
    },
    "collapsed": false
   },
   "outputs": [],
   "source": [
    "emotions = balance_df.loc[:, 'eb+_emot']\n",
    "unique_emotions = emotions.unique()\n",
    "emotions_, count_ = np.unique(emotions, return_counts=True)\n",
    "fig = plt.figure(1, figsize=(12, 6))\n",
    "plt.bar(emotions_, count_)\n",
    "plt.xticks(rotation=90)\n",
    "plt.tight_layout()\n",
    "plt.show()"
   ]
  },
  {
   "cell_type": "code",
   "execution_count": null,
   "id": "5bd1fa309b35ed4d",
   "metadata": {
    "ExecuteTime": {
     "end_time": "2024-01-11T17:26:37.667774Z",
     "start_time": "2024-01-11T17:26:37.540654Z"
    },
    "collapsed": false
   },
   "outputs": [],
   "source": [
    "df = balance_df.copy(deep=True).reset_index()\n",
    "df.to_pickle('./dataset/EDOS_1M_balanced.pkl')"
   ]
  },
  {
   "cell_type": "code",
   "execution_count": null,
   "id": "cd330734b438ff81",
   "metadata": {
    "ExecuteTime": {
     "end_time": "2024-01-11T17:26:37.688228Z",
     "start_time": "2024-01-11T17:26:37.661617Z"
    },
    "collapsed": false
   },
   "outputs": [],
   "source": [
    "balance_df.describe()"
   ]
  },
  {
   "cell_type": "code",
   "execution_count": null,
   "id": "c3056596d836d09c",
   "metadata": {
    "ExecuteTime": {
     "end_time": "2024-01-11T17:26:37.720059Z",
     "start_time": "2024-01-11T17:26:37.706512Z"
    },
    "collapsed": false
   },
   "outputs": [],
   "source": [
    "(df.isna().sum() > 0).any()"
   ]
  },
  {
   "cell_type": "code",
   "execution_count": null,
   "id": "4a47c4faf8be0e6d",
   "metadata": {
    "ExecuteTime": {
     "end_time": "2024-01-11T17:26:38.683125Z",
     "start_time": "2024-01-11T17:26:37.722616Z"
    },
    "collapsed": false
   },
   "outputs": [],
   "source": [
    "def parse_emotions():\n",
    "    for emo in unique_emotions:\n",
    "        e = df[df.loc[:, 'eb+_emot'] == emo].loc[:, 'label_confidence'].to_numpy(dtype=np.float32)\n",
    "        yield emo, e\n",
    "\n",
    "\n",
    "fig = plt.figure(figsize=(24, 10))\n",
    "e_values = [e[-1] for e in parse_emotions()]\n",
    "plt.boxplot(e_values)\n",
    "plt.xticks(range(n_emotions), unique_emotions)\n",
    "plt.xticks(rotation=90)\n",
    "plt.show()\n"
   ]
  },
  {
   "cell_type": "code",
   "execution_count": null,
   "id": "5db99c7d64330afc",
   "metadata": {
    "ExecuteTime": {
     "end_time": "2024-01-11T17:26:39.151585Z",
     "start_time": "2024-01-11T17:26:38.695865Z"
    },
    "collapsed": false
   },
   "outputs": [],
   "source": [
    "list_stats = []\n",
    "for emo, e in parse_emotions():\n",
    "    list_stats.append(pd.DataFrame([[np.mean(e), np.std(e)]], columns=['mean', 'std'], index=[emo]))\n",
    "\n",
    "df_mean_std = pd.concat(list_stats)"
   ]
  },
  {
   "cell_type": "code",
   "execution_count": null,
   "id": "9e72880c26900fe3",
   "metadata": {
    "ExecuteTime": {
     "end_time": "2024-01-11T17:26:39.154617Z",
     "start_time": "2024-01-11T17:26:39.152238Z"
    },
    "collapsed": false
   },
   "outputs": [],
   "source": [
    "df_mean_std = df_mean_std.sort_values(by='mean')"
   ]
  },
  {
   "cell_type": "code",
   "execution_count": null,
   "id": "59b3b99aebacbacc",
   "metadata": {
    "ExecuteTime": {
     "end_time": "2024-01-11T17:26:39.164961Z",
     "start_time": "2024-01-11T17:26:39.156664Z"
    },
    "collapsed": false
   },
   "outputs": [],
   "source": [
    "df_mean_std.head(41)"
   ]
  },
  {
   "cell_type": "code",
   "execution_count": null,
   "id": "7f39cd4a7b5d3003",
   "metadata": {
    "ExecuteTime": {
     "end_time": "2024-01-11T17:26:39.381415Z",
     "start_time": "2024-01-11T17:26:39.160398Z"
    },
    "collapsed": false
   },
   "outputs": [],
   "source": [
    "fig = plt.figure(figsize=(8, 8))\n",
    "plt.bar(df_mean_std.index.values, df_mean_std.loc[:, 'mean'].values)\n",
    "plt.title('Mean Confidence level per emotion')\n",
    "plt.axhline(y=1 / n_emotions, color='red', linestyle='--', label=f'1/{n_emotions}')\n",
    "plt.xticks(rotation=90)\n",
    "plt.tight_layout()\n",
    "plt.legend()\n",
    "plt.show()"
   ]
  },
  {
   "cell_type": "code",
   "execution_count": null,
   "id": "3c7b45381f5eba9e",
   "metadata": {
    "ExecuteTime": {
     "end_time": "2024-01-11T17:26:39.470581Z",
     "start_time": "2024-01-11T17:26:39.381204Z"
    },
    "collapsed": false
   },
   "outputs": [],
   "source": [
    "# check average length of utterances\n",
    "mean_length_u = df.loc[:, 'uttr'].apply(len).mean()\n",
    "print('DATASET: mean length of utterances', mean_length_u)"
   ]
  },
  {
   "cell_type": "code",
   "execution_count": null,
   "id": "f7eefbb74a4ed19b",
   "metadata": {
    "ExecuteTime": {
     "end_time": "2024-01-11T17:26:40.258950Z",
     "start_time": "2024-01-11T17:26:39.439038Z"
    },
    "collapsed": false
   },
   "outputs": [],
   "source": [
    "# check average length of utterances per emotions\n",
    "def parse_utterances():\n",
    "    for emo in unique_emotions:\n",
    "        yield df[df.loc[:, 'eb+_emot'] == emo].loc[:, 'uttr'].apply(len).mean()\n",
    "\n",
    "\n",
    "u_values = [u for u in parse_utterances()]\n",
    "fig = plt.figure(figsize=(8, 8))\n",
    "plt.bar(unique_emotions, u_values)\n",
    "plt.xticks(rotation=90)\n",
    "plt.tight_layout()\n",
    "plt.show()"
   ]
  },
  {
   "cell_type": "code",
   "execution_count": null,
   "id": "d6489801e67bb60b",
   "metadata": {
    "ExecuteTime": {
     "end_time": "2024-01-11T17:26:40.286454Z",
     "start_time": "2024-01-11T17:26:40.259020Z"
    },
    "collapsed": false
   },
   "outputs": [],
   "source": [
    "df_sns = balance_df.copy()\n",
    "dict_emotion_to_category = {key: value for key, value in zip(unique_emotions, range(len(unique_emotions)))}\n",
    "dict_category_to_emotion = {key: value for key, value in zip(range(len(unique_emotions)), unique_emotions)}\n",
    "print(dict_emotion_to_category)\n",
    "# df_sns = "
   ]
  },
  {
   "cell_type": "code",
   "execution_count": null,
   "id": "5d599430fda7c507",
   "metadata": {
    "ExecuteTime": {
     "end_time": "2024-01-11T17:26:40.371780Z",
     "start_time": "2024-01-11T17:26:40.267218Z"
    },
    "collapsed": false
   },
   "outputs": [],
   "source": [
    "df_sns['eb+_emot'] = df_sns['eb+_emot'].apply(lambda x: dict_emotion_to_category[x])"
   ]
  },
  {
   "cell_type": "code",
   "execution_count": null,
   "id": "b33744e6985791f4",
   "metadata": {
    "ExecuteTime": {
     "end_time": "2024-01-11T17:26:40.393227Z",
     "start_time": "2024-01-11T17:26:40.345121Z"
    },
    "collapsed": false
   },
   "outputs": [],
   "source": [
    "df_sns['uttr'] = df_sns['uttr'].apply(len)"
   ]
  },
  {
   "cell_type": "code",
   "execution_count": null,
   "id": "b21bf9947c1d72ea",
   "metadata": {
    "ExecuteTime": {
     "end_time": "2024-01-11T17:26:40.394660Z",
     "start_time": "2024-01-11T17:26:40.380144Z"
    },
    "collapsed": false
   },
   "outputs": [],
   "source": [
    "df_sns"
   ]
  },
  {
   "cell_type": "code",
   "execution_count": null,
   "id": "e20d971c68364945",
   "metadata": {
    "ExecuteTime": {
     "end_time": "2024-01-11T17:26:43.030521Z",
     "start_time": "2024-01-11T17:26:40.384778Z"
    },
    "collapsed": false
   },
   "outputs": [],
   "source": [
    "import seaborn as sns\n",
    "\n",
    "sns.pairplot(df_sns.loc[:, ['uttr', 'eb+_emot', 'label_confidence']])\n",
    "plt.show()"
   ]
  },
  {
   "cell_type": "code",
   "execution_count": null,
   "id": "df2ed55191ee9f50",
   "metadata": {
    "ExecuteTime": {
     "end_time": "2024-01-11T17:26:43.482629Z",
     "start_time": "2024-01-11T17:26:43.261274Z"
    },
    "collapsed": false
   },
   "outputs": [],
   "source": [
    "fig = plt.figure(figsize=(14, 8))\n",
    "t = np.array([i for i in range(n_emotions)])\n",
    "# Plotting mean label confidence\n",
    "mm = df_mean_std.loc[unique_emotions, 'mean']\n",
    "plt.bar(t - 0.2, mm, width=0.4, label='Mean Confidence')\n",
    "\n",
    "scaled_u_values = (np.array(u_values) - np.min(u_values)) / (\n",
    "        np.max(u_values) - np.min(u_values))\n",
    "\n",
    "plt.bar(t + 0.2, scaled_u_values, width=0.4, label='Mean Utterance length [millions]')\n",
    "\n",
    "plt.title('Comparison of Mean Confidence and Mean Utterance length for Each Emotion')\n",
    "plt.xticks(range(n_emotions), unique_emotions, rotation=90)  # Set the emotion labels on the x-axis\n",
    "\n",
    "# Adding legend\n",
    "plt.legend()\n",
    "\n",
    "# Display the plot\n",
    "plt.show()"
   ]
  },
  {
   "cell_type": "code",
   "execution_count": null,
   "id": "8efedcd3b1ee00b4",
   "metadata": {
    "ExecuteTime": {
     "end_time": "2024-01-11T17:26:43.494347Z",
     "start_time": "2024-01-11T17:26:43.488242Z"
    },
    "collapsed": false
   },
   "outputs": [],
   "source": [
    "# fig = plt.figure(figsize=(12, 8))\n",
    "# X = np.random.choice([0,1], size=50)\n",
    "# Y = np.random.randint(low=0, high=100, size=50)\n",
    "# coeff = np.polyfit(X, Y, 1)\n",
    "# poly = np.poly1d(coeff)\n",
    "# plt.scatter(X, Y, color='red', label='Dati Osservati')\n",
    "# plt.plot(X, poly(X), color='orange', label='Rigressione polinomiale')\n",
    "# plt.xlabel('X (Variabile dicotomica)')\n",
    "# plt.ylabel('Y (Variabile dipedente)')\n",
    "# plt.legend()\n",
    "# plt.show()"
   ]
  },
  {
   "cell_type": "code",
   "execution_count": null,
   "id": "602e29be11158588",
   "metadata": {
    "ExecuteTime": {
     "end_time": "2024-01-11T17:26:43.495552Z",
     "start_time": "2024-01-11T17:26:43.489964Z"
    },
    "collapsed": false
   },
   "outputs": [],
   "source": []
  },
  {
   "cell_type": "markdown",
   "id": "fdd10453043b5e25",
   "metadata": {
    "collapsed": false
   },
   "source": [
    "# CORRELATIONS"
   ]
  },
  {
   "cell_type": "code",
   "execution_count": null,
   "id": "28d4a5f4902d1e0f",
   "metadata": {
    "ExecuteTime": {
     "end_time": "2024-01-11T17:26:43.604446Z",
     "start_time": "2024-01-11T17:26:43.492395Z"
    },
    "collapsed": false
   },
   "outputs": [],
   "source": [
    "df_length_to_coeff = pd.concat((df.loc[:, 'uttr'].apply(len), df.loc[:, 'label_confidence']), axis=1)"
   ]
  },
  {
   "cell_type": "code",
   "execution_count": null,
   "id": "257fef7d4c2e337a",
   "metadata": {
    "ExecuteTime": {
     "end_time": "2024-01-11T17:26:43.606036Z",
     "start_time": "2024-01-11T17:26:43.538165Z"
    },
    "collapsed": false
   },
   "outputs": [],
   "source": [
    "df_length_to_coeff.head()"
   ]
  },
  {
   "cell_type": "code",
   "execution_count": null,
   "id": "1c34f0741e5d1dea",
   "metadata": {
    "ExecuteTime": {
     "end_time": "2024-01-11T17:26:43.791253Z",
     "start_time": "2024-01-11T17:26:43.541571Z"
    },
    "collapsed": false
   },
   "outputs": [],
   "source": [
    "plt.figure(figsize=(8, 6))\n",
    "corr_length_to_coeff = df_length_to_coeff.corr('spearman')\n",
    "sns.heatmap(corr_length_to_coeff, annot=True, cmap='coolwarm', fmt=\".2f\", linewidths=.5, vmax=1.0, vmin=-1.0)\n",
    "plt.title('Correlation Matrix between length of utterance and confidence level')\n",
    "plt.show()"
   ]
  },
  {
   "cell_type": "markdown",
   "id": "d4d29e462dd65922",
   "metadata": {
    "collapsed": false
   },
   "source": [
    "# CLUSTER"
   ]
  },
  {
   "cell_type": "code",
   "execution_count": null,
   "id": "91436e2073f6c4bb",
   "metadata": {
    "ExecuteTime": {
     "end_time": "2024-01-11T17:27:02.530669Z",
     "start_time": "2024-01-11T17:26:43.790605Z"
    },
    "collapsed": false
   },
   "outputs": [],
   "source": [
    "import gensim.downloader as api\n",
    "model_twitter = api.load(\"glove-twitter-50\")\n",
    "# model_wiki = api.load(\"glove-wiki-gigaword-50\")"
   ]
  },
  {
   "cell_type": "code",
   "execution_count": null,
   "id": "af8048b98ed8e12c",
   "metadata": {
    "ExecuteTime": {
     "end_time": "2024-01-11T17:27:30.525360Z",
     "start_time": "2024-01-11T17:27:30.512804Z"
    },
    "collapsed": false
   },
   "outputs": [],
   "source": [
    "print(f\"Vocabulary size twitter model:   {len(model_twitter)}\")\n",
    "# print(f\"Vocabulary size wikipedia model: {len(model_wiki)}\")"
   ]
  },
  {
   "cell_type": "code",
   "execution_count": null,
   "id": "70bc72e306f2e06",
   "metadata": {
    "ExecuteTime": {
     "end_time": "2024-01-11T17:27:30.713618Z",
     "start_time": "2024-01-11T17:27:30.704478Z"
    },
    "collapsed": false
   },
   "outputs": [],
   "source": [
    "dataset = balance_df.loc[:, 'uttr'].to_numpy()\n",
    "labels = balance_df.loc[:, 'eb+_emot'].to_numpy()"
   ]
  },
  {
   "cell_type": "code",
   "execution_count": null,
   "id": "e13f99bfaa40f0e7",
   "metadata": {
    "ExecuteTime": {
     "end_time": "2024-01-11T17:27:33.223396Z",
     "start_time": "2024-01-11T17:27:30.985547Z"
    },
    "collapsed": false
   },
   "outputs": [],
   "source": [
    "import re\n",
    "pattern1 = re.compile('\\n')\n",
    "pattern2 = re.compile('[a-zA-Z0-9._%+-]+@[a-zA-Z0-9.-]+\\.[a-zA-Z]{2,}')\n",
    "test = np.vectorize(lambda x: re.sub(pattern2, '',re.sub(pattern1, ' ', x)))(dataset)\n",
    "tokens = [x.strip().lower().split(' ') for x in test]\n"
   ]
  },
  {
   "cell_type": "code",
   "execution_count": null,
   "id": "cd6e8a509457c1eb",
   "metadata": {
    "ExecuteTime": {
     "end_time": "2024-01-11T17:27:33.227355Z",
     "start_time": "2024-01-11T17:27:33.223280Z"
    },
    "collapsed": false
   },
   "outputs": [],
   "source": [
    "def vectorize(tokens_, use_sum=True):\n",
    "    global model_twitter\n",
    "    vectors = np.zeros((len(tokens_),50))\n",
    "    for i in range(0, len(tokens_)):\n",
    "        embs = [model_twitter.get_vector(token) for token in tokens_[i] if token in model_twitter]\n",
    "        if use_sum:\n",
    "            vectors[i] = np.sum(embs, axis=0)\n",
    "        else:\n",
    "            vectors[i] = np.mean(embs, axis=0)\n",
    "    return vectors\n",
    "        "
   ]
  },
  {
   "cell_type": "code",
   "execution_count": null,
   "id": "3aedd32f0061ef4e",
   "metadata": {
    "ExecuteTime": {
     "end_time": "2024-01-11T17:27:38.412598Z",
     "start_time": "2024-01-11T17:27:33.225530Z"
    },
    "collapsed": false
   },
   "outputs": [],
   "source": [
    "embeddings = vectorize(tokens)"
   ]
  },
  {
   "cell_type": "code",
   "execution_count": null,
   "id": "1d6bdb75d160df6a",
   "metadata": {
    "ExecuteTime": {
     "end_time": "2024-01-11T17:27:38.418381Z",
     "start_time": "2024-01-11T17:27:38.413773Z"
    },
    "collapsed": false
   },
   "outputs": [],
   "source": [
    "embeddings.shape"
   ]
  },
  {
   "cell_type": "code",
   "execution_count": null,
   "id": "1a7d1ac4b3745661",
   "metadata": {
    "ExecuteTime": {
     "end_time": "2024-01-11T17:27:40.826594Z",
     "start_time": "2024-01-11T17:27:38.417023Z"
    },
    "collapsed": false
   },
   "outputs": [],
   "source": [
    "import umap"
   ]
  },
  {
   "cell_type": "code",
   "execution_count": null,
   "id": "9b665111d1e6ff73",
   "metadata": {
    "ExecuteTime": {
     "end_time": "2024-01-11T17:27:40.830133Z",
     "start_time": "2024-01-11T17:27:40.827485Z"
    },
    "collapsed": false
   },
   "outputs": [],
   "source": [
    "reducer = umap.UMAP(n_components=3, n_neighbors=5)"
   ]
  },
  {
   "cell_type": "code",
   "execution_count": null,
   "id": "56cd35be964171d7",
   "metadata": {
    "ExecuteTime": {
     "end_time": "2024-01-11T17:29:26.874803Z",
     "start_time": "2024-01-11T17:27:40.829712Z"
    },
    "collapsed": false
   },
   "outputs": [],
   "source": [
    "to_plot = reducer.fit_transform(embeddings)"
   ]
  },
  {
   "cell_type": "code",
   "execution_count": null,
   "id": "1272d3807ad893b",
   "metadata": {
    "ExecuteTime": {
     "end_time": "2024-01-11T17:29:26.880249Z",
     "start_time": "2024-01-11T17:29:26.874868Z"
    },
    "collapsed": false
   },
   "outputs": [],
   "source": [
    "to_plot"
   ]
  },
  {
   "cell_type": "code",
   "execution_count": null,
   "id": "645df7a058ebc1d2",
   "metadata": {
    "ExecuteTime": {
     "end_time": "2024-01-11T17:29:27.567216Z",
     "start_time": "2024-01-11T17:29:26.878832Z"
    },
    "collapsed": false
   },
   "outputs": [],
   "source": [
    "# Assuming 'labels', 'to_plot', and 'dict_emotion_to_category' are defined\n",
    "import plotly.express as px\n",
    "limit = 30000\n",
    "colors = sns.color_palette(n_colors=len(labels[:limit]))\n",
    "colors = [colors[dict_emotion_to_category[x]] for x in labels[:limit]]\n",
    "\n",
    "# Create a DataFrame\n",
    "df = pd.DataFrame({'x': to_plot[:limit, 0], 'y': to_plot[:limit, 1], 'z': to_plot[:limit, 2], 'labels': labels[:limit]})\n",
    "\n",
    "# Create a 3D scatter plot using Plotly Express\n",
    "fig = px.scatter_3d(df, x='x', y='y', z='z', color='labels')\n",
    "\n",
    "# Show the plot\n",
    "fig.show()"
   ]
  },
  {
   "cell_type": "code",
   "execution_count": null,
   "id": "d30f4aa33cec77ae",
   "metadata": {
    "ExecuteTime": {
     "end_time": "2024-01-11T17:29:27.569081Z",
     "start_time": "2024-01-11T17:29:27.555103Z"
    },
    "collapsed": false
   },
   "outputs": [],
   "source": [
    "from sklearn.model_selection import train_test_split\n",
    "from sklearn.metrics import f1_score, accuracy_score\n",
    "translated_labels = [dict_emotion_to_category[x] for x in labels]\n",
    "X_train, X_test, y_train, y_test = train_test_split(to_plot, translated_labels, stratify=translated_labels, test_size=0.3, random_state=12, shuffle=True)"
   ]
  },
  {
   "cell_type": "code",
   "execution_count": null,
   "id": "9646a4cc35f7343e",
   "metadata": {
    "ExecuteTime": {
     "end_time": "2024-01-11T18:03:36.374763Z",
     "start_time": "2024-01-11T17:55:42.606162Z"
    },
    "collapsed": false
   },
   "outputs": [],
   "source": [
    "from sklearn.cluster import HDBSCAN\n",
    "cluster = HDBSCAN(min_cluster_size=600, n_jobs=-1)\n",
    "\n",
    "cluster = cluster.fit(to_plot)"
   ]
  },
  {
   "cell_type": "code",
   "execution_count": null,
   "id": "38abce20eab9e898",
   "metadata": {
    "ExecuteTime": {
     "end_time": "2024-01-11T18:07:32.074039Z",
     "start_time": "2024-01-11T18:07:31.787736Z"
    },
    "collapsed": false
   },
   "outputs": [],
   "source": [
    "train_f = cluster.labels_\n",
    "df_cluster = pd.DataFrame({\n",
    "    'predicted_label': train_f,\n",
    "    'label' : translated_labels\n",
    "})"
   ]
  },
  {
   "cell_type": "code",
   "execution_count": null,
   "id": "9096c36d556a5f59",
   "metadata": {
    "ExecuteTime": {
     "end_time": "2024-01-11T18:08:29.737284Z",
     "start_time": "2024-01-11T18:08:29.661213Z"
    },
    "collapsed": false
   },
   "outputs": [],
   "source": [
    "train_f"
   ]
  },
  {
   "cell_type": "code",
   "execution_count": null,
   "id": "423f067b8a609826",
   "metadata": {
    "ExecuteTime": {
     "end_time": "2024-01-11T18:07:36.644011Z",
     "start_time": "2024-01-11T18:07:36.145981Z"
    },
    "collapsed": false
   },
   "outputs": [],
   "source": [
    "cluster_table = {}\n",
    "for name, group in df_cluster.groupby('predicted_label'):\n",
    "    uniq_c , count_c = np.unique(group['label'].to_numpy(), return_counts=True)\n",
    "    index = np.argmax(count_c)\n",
    "    label_assigned = dict_category_to_emotion[uniq_c[index]]\n",
    "    print(f'Label {name} assigned {label_assigned}')\n",
    "    cluster_table[name] = uniq_c[index]"
   ]
  },
  {
   "cell_type": "code",
   "execution_count": null,
   "id": "e1e4aa2633ff04c3",
   "metadata": {
    "ExecuteTime": {
     "end_time": "2024-01-11T18:11:21.390084Z",
     "start_time": "2024-01-11T18:11:21.373081Z"
    },
    "collapsed": false
   },
   "outputs": [],
   "source": [
    "cluster_table"
   ]
  },
  {
   "cell_type": "code",
   "execution_count": null,
   "id": "777af7865461bc5c",
   "metadata": {
    "ExecuteTime": {
     "end_time": "2024-01-11T18:11:22.740102Z",
     "start_time": "2024-01-11T18:11:22.631632Z"
    },
    "collapsed": false
   },
   "outputs": [],
   "source": [
    "def compute_metrics(y_true, y_pred):\n",
    "    accuracy = accuracy_score(y_true, y_pred)\n",
    "    f1_score_ = f1_score(y_true, y_pred, average='weighted')\n",
    "    print(f'TEST SET: accuracy: {accuracy} ; f1 score: {f1_score_}')"
   ]
  },
  {
   "cell_type": "code",
   "execution_count": null,
   "id": "c86ae5b89e5fccd4",
   "metadata": {
    "ExecuteTime": {
     "end_time": "2024-01-11T18:11:25.482353Z",
     "start_time": "2024-01-11T18:11:25.417269Z"
    },
    "collapsed": false
   },
   "outputs": [],
   "source": [
    "y_pred = cluster.labels_[len(X_train):]\n",
    "y_pred = [cluster_table[y] for y in y_pred]"
   ]
  },
  {
   "cell_type": "code",
   "execution_count": null,
   "id": "ea0456a3a3bc19b7",
   "metadata": {
    "ExecuteTime": {
     "end_time": "2024-01-11T18:11:27.386706Z",
     "start_time": "2024-01-11T18:11:27.175093Z"
    },
    "collapsed": false
   },
   "outputs": [],
   "source": [
    "compute_metrics(y_test, y_pred)"
   ]
  },
  {
   "cell_type": "code",
   "execution_count": null,
   "id": "c1ac1689e2f84f20",
   "metadata": {
    "ExecuteTime": {
     "end_time": "2024-01-11T18:11:30.219864Z",
     "start_time": "2024-01-11T18:11:29.987783Z"
    },
    "collapsed": false
   },
   "outputs": [],
   "source": [
    "fig = plt.figure(figsize=(5, 5))\n",
    "y_pred_translated = [dict_category_to_emotion[y] for y in y_pred]\n",
    "y_pred_translated_unique, y_pred_translated_count = np.unique(y_pred_translated, return_counts=True)\n",
    "plt.bar(y_pred_translated_unique, y_pred_translated_count)\n",
    "plt.xticks(range(len(y_pred_translated_unique)), y_pred_translated_unique, rotation=90)\n",
    "plt.tight_layout()\n",
    "plt.show()"
   ]
  },
  {
   "cell_type": "code",
   "execution_count": null,
   "id": "ce7e1ee824d78d32",
   "metadata": {
    "ExecuteTime": {
     "end_time": "2024-01-11T18:13:57.768631Z",
     "start_time": "2024-01-11T18:13:57.178032Z"
    },
    "collapsed": false
   },
   "outputs": [],
   "source": [
    "from sklearn.ensemble import RandomForestClassifier"
   ]
  },
  {
   "cell_type": "code",
   "execution_count": null,
   "id": "61adfe0ec9c189b",
   "metadata": {
    "ExecuteTime": {
     "end_time": "2024-01-11T18:14:11.095637Z",
     "start_time": "2024-01-11T18:13:58.616041Z"
    },
    "collapsed": false
   },
   "outputs": [],
   "source": [
    "classifier = RandomForestClassifier(n_jobs=8, random_state=99)\n",
    "classifier = classifier.fit(X_train, y_train)"
   ]
  },
  {
   "cell_type": "code",
   "execution_count": null,
   "id": "cb99eeadad6c25b1",
   "metadata": {
    "ExecuteTime": {
     "end_time": "2024-01-11T18:14:14.819300Z",
     "start_time": "2024-01-11T18:14:11.133355Z"
    },
    "collapsed": false
   },
   "outputs": [],
   "source": [
    "y_pred = classifier.predict(X_test)"
   ]
  },
  {
   "cell_type": "code",
   "execution_count": null,
   "id": "e74fb192a38b308b",
   "metadata": {
    "ExecuteTime": {
     "end_time": "2024-01-11T18:14:14.881231Z",
     "start_time": "2024-01-11T18:14:14.801763Z"
    },
    "collapsed": false
   },
   "outputs": [],
   "source": [
    "compute_metrics(y_test, y_pred)"
   ]
  },
  {
   "cell_type": "code",
   "execution_count": null,
   "id": "2405040a0ec8de04",
   "metadata": {
    "ExecuteTime": {
     "end_time": "2024-01-11T18:14:59.378728Z",
     "start_time": "2024-01-11T18:14:58.678352Z"
    },
    "collapsed": false
   },
   "outputs": [],
   "source": [
    "y_pred_translated = [dict_category_to_emotion[y] for y in y_pred]\n",
    "fig = plt.figure(figsize=(10, 10))\n",
    "y_pred_translated = [dict_category_to_emotion[y] for y in y_pred]\n",
    "y_pred_translated_unique, y_pred_translated_count = np.unique(y_pred_translated, return_counts=True)\n",
    "plt.bar(y_pred_translated_unique, y_pred_translated_count)\n",
    "plt.xticks(range(len(y_pred_translated_unique)), y_pred_translated_unique, rotation=90)\n",
    "plt.tight_layout()\n",
    "plt.show()"
   ]
  },
  {
   "cell_type": "code",
   "execution_count": null,
   "id": "4c9566995466bfb0",
   "metadata": {
    "ExecuteTime": {
     "end_time": "2024-01-11T18:17:17.849664Z",
     "start_time": "2024-01-11T18:16:18.042230Z"
    },
    "collapsed": false
   },
   "outputs": [],
   "source": [
    "from sklearn.ensemble import HistGradientBoostingClassifier\n",
    "classifier = HistGradientBoostingClassifier(random_state=99)\n",
    "classifier = classifier.fit(X_train, y_train)\n",
    "y_pred = classifier.predict(X_test)\n",
    "compute_metrics(y_test, y_pred)\n"
   ]
  },
  {
   "cell_type": "code",
   "execution_count": null,
   "id": "ffd56bff78e148cb",
   "metadata": {
    "ExecuteTime": {
     "end_time": "2024-01-11T18:17:18.194535Z",
     "start_time": "2024-01-11T18:17:17.871266Z"
    },
    "collapsed": false
   },
   "outputs": [],
   "source": [
    "y_pred_translated = [dict_category_to_emotion[y] for y in y_pred]\n",
    "fig = plt.figure(figsize=(10, 10))\n",
    "y_pred_translated = [dict_category_to_emotion[y] for y in y_pred]\n",
    "y_pred_translated_unique, y_pred_translated_count = np.unique(y_pred_translated, return_counts=True)\n",
    "plt.bar(y_pred_translated_unique, y_pred_translated_count)\n",
    "plt.xticks(range(len(y_pred_translated_unique)), y_pred_translated_unique, rotation=90)\n",
    "plt.tight_layout()\n",
    "plt.show()"
   ]
  },
  {
   "cell_type": "code",
   "execution_count": null,
   "id": "be8d01cbd9b34ab2",
   "metadata": {
    "ExecuteTime": {
     "end_time": "2024-01-12T20:17:16.811619Z",
     "start_time": "2024-01-12T20:17:16.194994Z"
    },
    "collapsed": false
   },
   "outputs": [],
   "source": [
    "y_pred_translated = [dict_category_to_emotion[y] for y in y_pred]\n",
    "y_true_translated = [dict_category_to_emotion[y] for y in y_test]"
   ]
  },
  {
   "cell_type": "code",
   "execution_count": null,
   "id": "3a96b46aa02f215e",
   "metadata": {
    "ExecuteTime": {
     "end_time": "2024-01-12T20:17:18.732670Z",
     "start_time": "2024-01-12T20:17:16.980949Z"
    },
    "collapsed": false
   },
   "outputs": [],
   "source": [
    "from sklearn.metrics import confusion_matrix, ConfusionMatrixDisplay, classification_report\n",
    "\n",
    "fig, ax = plt.subplots(figsize=(20, 20))\n",
    "# cm = confusion_matrix(np.concatenate(real_labels, axis=0), np.concatenate(out_labels, axis=0))\n",
    "disp = ConfusionMatrixDisplay.from_predictions(y_true_translated,y_pred_translated,\n",
    "                                               ax=ax,\n",
    "                                               xticks_rotation='vertical',\n",
    "                                               cmap=plt.cm.Blues)"
   ]
  },
  {
   "cell_type": "code",
   "execution_count": null,
   "id": "40a39ac79e2e8564",
   "metadata": {
    "ExecuteTime": {
     "end_time": "2024-01-12T20:17:44.213987Z",
     "start_time": "2024-01-12T20:17:43.238643Z"
    },
    "collapsed": false
   },
   "outputs": [],
   "source": [
    "print(classification_report(y_true_translated,y_pred_translated))"
   ]
  },
  {
   "cell_type": "code",
   "execution_count": null,
   "id": "7f624400272ebae7",
   "metadata": {
    "collapsed": false
   },
   "outputs": [],
   "source": []
  }
 ],
 "metadata": {
  "kernelspec": {
   "display_name": "Python 3",
   "language": "python",
   "name": "python3"
  },
  "language_info": {
   "codemirror_mode": {
    "name": "ipython",
    "version": 3
   },
   "file_extension": ".py",
   "mimetype": "text/x-python",
   "name": "python",
   "nbconvert_exporter": "python",
   "pygments_lexer": "ipython3",
   "version": "3.11.6"
  }
 },
 "nbformat": 4,
 "nbformat_minor": 5
}
